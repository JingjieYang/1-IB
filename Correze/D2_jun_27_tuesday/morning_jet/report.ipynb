{
 "cells": [
  {
   "cell_type": "markdown",
   "metadata": {},
   "source": [
    "# Jet: flow rate of water stream\n",
    "To estimate the flow rate in m/s of the water stream from the jet, we \n",
    "* took a photo with a scale facing the jet to measure its diameter; \n",
    "* took a slow-motion video perpendicular to the direction of the jet to mesasure the speed of the current."
   ]
  },
  {
   "cell_type": "markdown",
   "metadata": {},
   "source": [
    "## Diameter of water stream\n",
    "![diameter of jet](diameter.JPG)\n",
    "![diameter of jet - processed](diameter_processed.JPG)\n",
    "\n",
    "The diameter of the jet is measured to be approximately $2.5 \\times \\overbrace{0.1}^{\\text{graduation}} = 0.25\\text{m}$.\n",
    "\n",
    "The surface area of the water stream is hence\n",
    "\n",
    "$\\begin{aligned}\n",
    "S \n",
    "&= \\pi r^2\\\\\n",
    "&= \\pi (\\frac{d}{2})^2\\\\\n",
    "&= \\pi (\\frac{0.25}{2})^2\\\\\n",
    "&= 0.0491\\text{m}^2\n",
    "\\end{aligned}$"
   ]
  },
  {
   "cell_type": "markdown",
   "metadata": {},
   "source": [
    "## Speed of water stream\n"
   ]
  },
  {
   "cell_type": "markdown",
   "metadata": {},
   "source": [
    "## Flow rate of water stream\n",
    "$\\begin{aligned}\n",
    "d% TODO find symbol\n",
    "&= S \\times v\\\\\n",
    "&= 0.0491 \\times \\\\\n",
    "&= \\text{m}^3\\text{s}^{-1}\n",
    "\\end{aligned}$"
   ]
  },
  {
   "cell_type": "code",
   "execution_count": null,
   "metadata": {},
   "outputs": [],
   "source": []
  }
 ],
 "metadata": {
  "kernelspec": {
   "display_name": "Python 3",
   "language": "python",
   "name": "python3"
  },
  "language_info": {
   "codemirror_mode": {
    "name": "ipython",
    "version": 3
   },
   "file_extension": ".py",
   "mimetype": "text/x-python",
   "name": "python",
   "nbconvert_exporter": "python",
   "pygments_lexer": "ipython3",
   "version": "3.6.4"
  }
 },
 "nbformat": 4,
 "nbformat_minor": 2
}
