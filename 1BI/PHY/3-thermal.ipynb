{
 "cells": [
  {
   "cell_type": "markdown",
   "metadata": {},
   "source": [
    "# Thermal physics\n",
    "- θερμός -> warm\n",
    "- study of transfer of energy from 1 object to another."
   ]
  },
  {
   "cell_type": "markdown",
   "metadata": {},
   "source": [
    "## 1) State of matter\n",
    "\n",
    "    *********   * ** *  *        *   \n",
    "    *********    * *  *         \n",
    "    *********    *  *  *    *       *\n",
    "      solid      liquid        gas\n",
    "\n",
    "### Solid\n",
    "- molecules vibrate around fixed position\n",
    "- bonds linking molecules prevent motion\n",
    "\n",
    "### Liquid\n",
    "- molecules vibrate around position which is no longer fixed\n",
    "- takes the shape of its contianer\n",
    "\n",
    "### Gas\n",
    "- takes shape of container\n",
    "- molecules are free to move around -> no more bonds\n",
    "\n",
    "For all states of matter, as temperature increases, so does the vibration / motion of molecules.\n"
   ]
  },
  {
   "cell_type": "markdown",
   "metadata": {},
   "source": [
    "### `Temperature` $\\propto$ the average kinetic energy of molecules\n",
    "\n",
    "Internal energy\n",
    "- potential nergy (bonds)\n",
    "- kinetic (vibration, motion)\n",
    "\n",
    "| water | state  | temperature | energy | what happens |\n",
    "|-------|--------|-------------|--------|--------------|\n",
    "|`.....`| solid  | 1K          | $E_k$+ | vibrate more |\n",
    "|`.....`| solid  | 100K        | $E_k$+ | vibrate more |\n",
    "|`. .. `| melting| 273K        | $E_p$+ ($E_p < 0$)| separate bonds (temperature does **not** change)|\n",
    "|`. .. `| liquid | 300K        | $E_k$+ | vibrate more |\n",
    "|` .   `| boiling| 373K        | $E_p$+ ($E_p = 0$)|...|\n",
    "|` .   `| gas    | 450K        | $E_k$+ | motion increases|\n"
   ]
  },
  {
   "cell_type": "code",
   "execution_count": 1,
   "metadata": {},
   "outputs": [
    {
     "data": {
      "image/png": "[encoded data removed]",
      "text/plain": [
       "<matplotlib.figure.Figure at 0x10fbf2e48>"
      ]
     },
     "metadata": {},
     "output_type": "display_data"
    }
   ],
   "source": [
    "import matplotlib.pyplot as plt\n",
    "%matplotlib inline\n",
    "\n",
    "plt.figure()\n",
    "plt.plot([0, 1], [0, 2])\n",
    "plt.plot([1, 2], [2, 2])\n",
    "plt.plot([2, 3], [2, 4])\n",
    "plt.plot([3, 4], [4, 4])\n",
    "plt.plot([4, 5], [4, 6])\n",
    "for i in range(1, 5):\n",
    "    plt.plot([i, i], [0, 6], '--k')\n",
    "plt.xticks([])\n",
    "plt.yticks([])\n",
    "plt.xlim([0, 5])\n",
    "plt.ylim([0, 6])\n",
    "plt.xlabel('Energy in')\n",
    "plt.ylabel('Temperature')\n",
    "plt.legend(['Solid', 'Melting', 'Liquid', 'Vaporization\\nBoiling', 'Gas'])\n",
    "plt.show()"
   ]
  },
  {
   "cell_type": "markdown",
   "metadata": {},
   "source": [
    "### Beware:\n",
    "Vaporisation ≠ evaporation\n",
    "\n",
    "Evaporation\n",
    "- particles with higher than average $E_k$ escape from surface\n",
    "- $E_k$- => $T$-"
   ]
  },
  {
   "cell_type": "code",
   "execution_count": 2,
   "metadata": {},
   "outputs": [
    {
     "data": {
      "text/plain": [
       "{'Gas': {'Liquid': 'Condensation', 'Solid': 'Deposition'},\n",
       " 'Liquid': {'Gas': 'Vaporization', 'Solid': 'Freezing'},\n",
       " 'Solid': {'Gas': 'Sublimation', 'Liquid': 'Melting'}}"
      ]
     },
     "execution_count": 2,
     "metadata": {},
     "output_type": "execute_result"
    }
   ],
   "source": [
    "{\n",
    "    'Solid': {\n",
    "        'Liquid': 'Melting',\n",
    "        'Gas': 'Sublimation'\n",
    "    },\n",
    "    'Liquid': {\n",
    "        'Solid': 'Freezing',\n",
    "        'Gas': 'Vaporization'\n",
    "    },\n",
    "    'Gas': {\n",
    "        'Solid': 'Deposition',\n",
    "        'Liquid': 'Condensation'\n",
    "    }\n",
    "}"
   ]
  },
  {
   "cell_type": "markdown",
   "metadata": {},
   "source": [
    "### `Specific latent heat of fusion` $L_f$ & `Specific latent heat of vaporisation` $L_v$\n",
    "measures of how much energy 1kg of matter needs to completely melt / vaporize.\n",
    "\n",
    "- ${L_f}_{ice} = 333.5 kJ/kg$\n",
    "- ${L_v}_{water} = 2260 kJ/kg$\n",
    "\n",
    "### `Specific heat capacity`\n",
    "amount of energy of energy required to increase the temperature of 1 kg of matter by 1 K.\n",
    "\n",
    "- $C_{water} = 4187 kJ/kgK$\n",
    "- $C_{ice} = 2108 kJ/kgK$\n",
    "- Heater: 500 W\n",
    "\n",
    "How long to completely vaporize 200g of ice at 268K.\n",
    "\n",
    "$E = Q_{ice} + Q_{melting} + Q_{water} + Q_{vaporization} \\\\ = 0.2 \\times 2108 \\times (273 - 268)  + 0.2 \\times 333.5 + 0.2 \\times 4187 \\times (373 - 273) + 0.2 \\times 2260 \\\\ = 86366.7 kJ$\n",
    "\n",
    "$E = \\frac{P}{t} \\Leftrightarrow t = \\frac{E}{P}$\n",
    "\n",
    "$t = \\frac{86367 KJ}{500 W} \\\\ = 172733.4 s \\\\ = 2878.89 min \\\\ = 47.8915 h \\\\ = 1.9992 day$"
   ]
  },
  {
   "cell_type": "markdown",
   "metadata": {},
   "source": [
    "$Q = m L$\n",
    "$Q = m c \\Delta T$"
   ]
  },
  {
   "cell_type": "markdown",
   "metadata": {},
   "source": [
    "## Ideal Gas equation\n",
    "$P V = n R T$"
   ]
  },
  {
   "cell_type": "markdown",
   "metadata": {},
   "source": [
    "### Boyle's Law\n",
    "$P \\propto \\frac{1}{V} \\Leftrightarrow PV = k$"
   ]
  },
  {
   "cell_type": "markdown",
   "metadata": {},
   "source": [
    "### Charle's Law\n",
    "$V \\propto T \\Leftrightarrow \\frac{V}{T} = k \\Leftrightarrow \\frac{T}{V} = k'$"
   ]
  },
  {
   "cell_type": "markdown",
   "metadata": {},
   "source": [
    "### Gay-Lussac's Law (GL)\n",
    "$P \\propto T \\Leftrightarrow \\frac{P}{T} = k$"
   ]
  },
  {
   "cell_type": "markdown",
   "metadata": {},
   "source": [
    "Find out heat capacity of water by melting ice in water.\n",
    "\n",
    "$\\theta_f = \\frac{\\theta_w \\times m_w + \\theta_i \\times m_i}{m_t} = \\frac{\\theta_w \\times m_w}{m_t}$  \n",
    "$m_w c \\Delta T = m_i L$ where $\\Theta T = \\theta_0 - \\theta_w$  \n",
    "$\\Rightarrow c = \\frac{m_i L}{m_w \\Delta T}$ where $\\theta_w = \\frac{\\theta_f \\times m_t}{m_w}$"
   ]
  },
  {
   "cell_type": "code",
   "execution_count": 9,
   "metadata": {},
   "outputs": [],
   "source": [
    "def find_c(m_water, m_ice, t_0, t_f):\n",
    "    L = 335  # latent heat of fusion of ice (J/g)\n",
    "    Q = m_ice * L\n",
    "    t_final_water = t_f * (m_water + m_ice) / m_water\n",
    "    d_t = t_0 - t_final_water\n",
    "    return Q / (m_water * d_t)"
   ]
  },
  {
   "cell_type": "code",
   "execution_count": 10,
   "metadata": {},
   "outputs": [
    {
     "data": {
      "text/plain": [
       "8.878688701611965"
      ]
     },
     "execution_count": 10,
     "metadata": {},
     "output_type": "execute_result"
    }
   ],
   "source": [
    "find_c(250, 50.07, 21.6, 11.7)"
   ]
  },
  {
   "cell_type": "code",
   "execution_count": 11,
   "metadata": {},
   "outputs": [
    {
     "data": {
      "text/plain": [
       "6.279287722586695"
      ]
     },
     "execution_count": 11,
     "metadata": {},
     "output_type": "execute_result"
    }
   ],
   "source": [
    "find_c(250, 20.00, 20.9, 15.4)"
   ]
  },
  {
   "cell_type": "code",
   "execution_count": 12,
   "metadata": {},
   "outputs": [
    {
     "data": {
      "text/plain": [
       "8.600770218228499"
      ]
     },
     "execution_count": 12,
     "metadata": {},
     "output_type": "execute_result"
    }
   ],
   "source": [
    "find_c(250, 100.00, 20.2, 3.3)"
   ]
  },
  {
   "cell_type": "code",
   "execution_count": 14,
   "metadata": {},
   "outputs": [],
   "source": [
    "def find_c_delta(m_water, m_water_d, m_ice, m_ice_d, t_0, t_0_d, t_f, t_f_d):\n",
    "    d_t = t_0 - t_f * (m_water + m_ice) / m_water\n",
    "    c_percentage_d = m_ice_d / m_ice + m_water_d / m_water + (t_0_d + (t_f * (m_water + m_ice) / m_water) * (t_f_d / t_f + m_ice_d / m_ice + 2 * m_water_d / m_water)) / d_t\n",
    "    return c_percentage_d, c_percentage_d * find_c(m_water, m_ice, t_0, t_f)"
   ]
  },
  {
   "cell_type": "code",
   "execution_count": 15,
   "metadata": {},
   "outputs": [
    {
     "data": {
      "text/plain": [
       "(0.2417842600583927, 1.9448723687643779)"
      ]
     },
     "execution_count": 15,
     "metadata": {},
     "output_type": "execute_result"
    }
   ],
   "source": [
    "find_c_delta(250, 25, 50.07, 5, 21.6, 0.1, 11.7, 0.1)"
   ]
  },
  {
   "cell_type": "code",
   "execution_count": 16,
   "metadata": {},
   "outputs": [
    {
     "data": {
      "text/plain": [
       "(2.1523430178069365, 13.515181086510294)"
      ]
     },
     "execution_count": 16,
     "metadata": {},
     "output_type": "execute_result"
    }
   ],
   "source": [
    "find_c_delta(250, 25, 20.00, 5, 20.9, 0.1, 15.4, 0.1)"
   ]
  },
  {
   "cell_type": "code",
   "execution_count": 17,
   "metadata": {},
   "outputs": [
    {
     "data": {
      "text/plain": [
       "(0.2395378690629012, 2.0602101703741185)"
      ]
     },
     "execution_count": 17,
     "metadata": {},
     "output_type": "execute_result"
    }
   ],
   "source": [
    "find_c_delta(250, 25, 100.0, 5, 20.2, 0.1, 3.3, 0.1)"
   ]
  },
  {
   "cell_type": "markdown",
   "metadata": {},
   "source": [
    "The molecules that make up an ideal gas ...\n",
    "- are identical perfect spheres\n",
    "- are perfectly elastic - they don't lose any kinetic energy during their collisions with each other, or the walls of their container\n",
    "- have no intermolecular forces - their potential energy does not change\n",
    "- are so small that their volume is much smaller than the volume of their container."
   ]
  }
 ],
 "metadata": {
  "kernelspec": {
   "display_name": "Python 3",
   "language": "python",
   "name": "python3"
  },
  "language_info": {
   "codemirror_mode": {
    "name": "ipython",
    "version": 3
   },
   "file_extension": ".py",
   "mimetype": "text/x-python",
   "name": "python",
   "nbconvert_exporter": "python",
   "pygments_lexer": "ipython3",
   "version": "3.6.1"
  }
 },
 "nbformat": 4,
 "nbformat_minor": 2
}
