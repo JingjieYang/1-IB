{
 "cells": [
  {
   "cell_type": "markdown",
   "metadata": {
    "hideCode": false,
    "hidePrompt": false
   },
   "source": [
    "# Electricity and Magnetism\n",
    "\n",
    "`Charge`: a property of some particles which makes them interact with each other\n",
    "- positive charge: e.g. proton, $Na^+$, $K^+$\n",
    "- negative charge: e.g. electron, $Cl^-$, $S^{2-}$\n",
    "- neutral: e.g. neutron, neutrino, $Xe$\n"
   ]
  },
  {
   "cell_type": "markdown",
   "metadata": {
    "hideCode": false,
    "hidePrompt": false
   },
   "source": [
    "There are two types of electriciry:\n",
    "- static: charge builds upon an object\n",
    "- current: charge flows through an object"
   ]
  },
  {
   "cell_type": "markdown",
   "metadata": {
    "hideCode": false,
    "hidePrompt": false
   },
   "source": [
    "## Static electricity\n",
    "- examples: friction between 2 insulators wlil add / remove charge (electrons) from the materials and leave them with a net charge\n",
    "\n",
    "        // ADMIRE MY ASCII ART\n",
    "                川   // hair going up\n",
    "                〇   // head\n",
    "            〇 一大  // generator + body\n",
    "            ｜   三  // insulator\n",
    "- induction\n",
    "\n",
    "        // ADMIRE MY ASCII ART\n",
    "        Wall Balloon\n",
    "        ...|  ___  \n",
    "        +-+| /- -\\\n",
    "        -+-| |-+ |\n",
    "        +-+| \\ - /\n",
    "        ...|   |\n",
    "        \n",
    "        Wall Balloon\n",
    "        ...|  ___\n",
    "        - +| / - \\\n",
    "        - +| |- +|  => balloon sticks to the wall\n",
    "        - +| \\ - /\n",
    "        ...|   |\n",
    "\n",
    "        "
   ]
  },
  {
   "cell_type": "markdown",
   "metadata": {
    "hideCode": false,
    "hidePrompt": false
   },
   "source": [
    "### The electroscope\n",
    "1. Diagram\n",
    "2. Explanation in terms of static electricity\n",
    "\n",
    "\n",
    "1. By rubbing (plastic) wand with another insulator, we charge the wand.\n",
    "\n",
    "         __              __\n",
    "        |+ |            |- |\n",
    "        | -|            | -|\n",
    "        |+-|     =>     |- |  Net charge\n",
    "        |-+|            |- |\n",
    "        |__|            |__|\n",
    "\n",
    "2. By moving the wand towards the electroscope, we induce a net charge on the electroscope's metallic branch.\n",
    "\n",
    "        \\    +|+    ________\n",
    "         \\   +|+   |-   -  - \n",
    "          \\  +|+   |__-__-__\n",
    "           \\  |    <- branch\n",
    "            \\___\n",
    "              | \\  <- electroscope\n",
    "              |  \\\n",
    "             -|-  \\   Electrons in branch of\n",
    "             -|-   \\  of electroscope are repelled\n",
    "             -|-    \\ away from the wand.\n",
    "        -------------------------------------------\n",
    "        \\    -|-    _________\n",
    "         \\   -|-   |+  +  +  \n",
    "          \\  -|-   |+__+__+__\n",
    "           \\  |    <- branch\n",
    "            \\___\n",
    "              | \\  <- electroscope\n",
    "              |  \\\n",
    "             +|+  \\   Electrons here are\n",
    "             +|+   \\  attracted to the wand.\n",
    "             +|+    \\ \n",
    "In both cases, the wand attracts the branch by induction."
   ]
  },
  {
   "cell_type": "markdown",
   "metadata": {
    "hideCode": false,
    "hidePrompt": false
   },
   "source": [
    "## Current electricity\n",
    "Current (electrcity) is the flow of charge.\n",
    "\n",
    "Circuit electricity studies how electrical components work together.\n",
    "\n",
    "[symbols]\n"
   ]
  },
  {
   "cell_type": "markdown",
   "metadata": {
    "hideCode": false,
    "hidePrompt": false
   },
   "source": [
    "### Concepts to talk about\n",
    "- **Charge** [C]: $Q = I \\cdot t$\n",
    "    - **Current** [A]: $I$\n",
    "    - **time** [s]: $t$\n",
    "- **Potential difference**: the amount of energy per unit of charge transformed from electrical energy to some other type by a component.\n",
    "    - P. diff [V] $V = \\frac{W}{Q} (\\frac{[J]}{[C]})$\n",
    "- **Electromotive force**: the work done in bringing one Coulomb of charge from the negative terminal to the positive terminal of the battery."
   ]
  },
  {
   "cell_type": "markdown",
   "metadata": {
    "hideCode": false,
    "hidePrompt": false
   },
   "source": [
    "## V-I characteristics of\n",
    "1. Resistors\n",
    "2. Lightbulbs\n",
    "3. Diodes"
   ]
  },
  {
   "cell_type": "markdown",
   "metadata": {
    "hideCode": false,
    "hidePrompt": false
   },
   "source": [
    "## OHMIC COMPONENTS\n",
    "The current through an ohmic component is *directly proportional* to the potential difference across it.\n"
   ]
  },
  {
   "cell_type": "markdown",
   "metadata": {
    "hideCode": false,
    "hidePrompt": false
   },
   "source": [
    "### Resistor"
   ]
  },
  {
   "cell_type": "code",
   "execution_count": 1,
   "metadata": {
    "hideCode": false,
    "hidePrompt": false
   },
   "outputs": [
    {
     "data": {
      "image/png": "[encoded data removed]",
      "text/plain": [
       "<matplotlib.figure.Figure at 0x107902b38>"
      ]
     },
     "metadata": {},
     "output_type": "display_data"
    }
   ],
   "source": [
    "%matplotlib inline\n",
    "import numpy as np\n",
    "import matplotlib.pyplot as plt\n",
    "\n",
    "R = 10.\n",
    "I = np.linspace(-1, 1)\n",
    "V = I * R\n",
    "plt.plot(I, V)\n",
    "plt.title(\"EXAMPLE OF OHMIC COMPONENT: RESISTOR\")\n",
    "plt.xlabel(\"Current (A)\")\n",
    "plt.ylabel(\"Voltage (V)\")\n",
    "plt.xticks([0])\n",
    "plt.yticks([0])\n",
    "plt.axvline(0., color='k')\n",
    "plt.axhline(0., color='k');"
   ]
  },
  {
   "cell_type": "markdown",
   "metadata": {
    "hideCode": false,
    "hidePrompt": false
   },
   "source": [
    "## NON-OHMIC COMPONENTS"
   ]
  },
  {
   "cell_type": "markdown",
   "metadata": {
    "hideCode": false,
    "hidePrompt": false
   },
   "source": [
    "### Lightbulb / filament\n",
    "![lightbulb V-I graph, I-V graph](http://physicsnet.co.uk/wp-content/uploads/2010/06/VI-graph-for-filament-lamp1.jpg)"
   ]
  },
  {
   "cell_type": "markdown",
   "metadata": {
    "hideCode": false,
    "hidePrompt": false
   },
   "source": [
    "### Diode\n",
    "- threshold voltage\n",
    "- leakage current\n",
    "\n",
    "![Diode V-I graph](http://www.learningaboutelectronics.com/images/Diode-characteristics-curve.png)"
   ]
  },
  {
   "cell_type": "markdown",
   "metadata": {
    "hideCode": false,
    "hidePrompt": false
   },
   "source": [
    "### Thermistor\n",
    "- positive feedback loop\n",
    "    - more current\n",
    "    - temperature increases\n",
    "    - less resistance\n",
    "\n",
    "![Thermistor R-T plot](http://www.arroyoinstruments.com/images/cms/sized/Thermistor%20Response%20Curve1.gif)"
   ]
  },
  {
   "cell_type": "markdown",
   "metadata": {
    "hideCode": false,
    "hidePrompt": false
   },
   "source": [
    "## FINDING THE OHMIC RESISTANCE\n",
    "When the component is ohmic, you can find its resistance by calculating the *gradient* of the VI graph.\n",
    "\n",
    "## OHM'S LAW\n",
    "At constant temperature, the `current` through a `conductor` betwen two points is directly `proportional` to the `voltage` across the two points.\n",
    "\n",
    "$V = I R$\n",
    "\n",
    "`Resistance`: the ratio of potential difference across the componenent and current through the component measured in ohms.\n",
    "\n",
    "$[\\Omega] = \\frac{[V]}{[A]} = \\frac{\\frac{[J]}{[C]}}{\\frac{[C]}{[s]}} = \\frac{[J][s]}{[C]^2} = \\frac{[N][m][s]}{[C]^2} = \\frac{[kg][m][m][s]}{[C]^2[s]^2} = \\frac{[kg][m]^2}{[C]^2 s}$"
   ]
  },
  {
   "cell_type": "markdown",
   "metadata": {
    "hideCode": false,
    "hidePrompt": false
   },
   "source": [
    "## Kirchoff's laws\n",
    "- The current remains constant throughout a series circuit.\n",
    "- The sum of all currents into a junction is equal to the sum of all currents leaving that junction.\n",
    "- The sum of all potential differences across each component in a series circuit is equal to the terminal potential difference of the battery.\n",
    "- The sum of all potential differences across each component in each closed loop in a parallel circuit is equal to the terminal potential difference of the battery."
   ]
  },
  {
   "cell_type": "markdown",
   "metadata": {
    "hideCode": false,
    "hidePrompt": false
   },
   "source": [
    "## Resistance in series / parallel\n",
    "### Series\n",
    "$R_T = \\frac{V}{I} = \\frac{V_1 + V_2}{I} = \\frac{V1}{I} + \\frac{V2}{I} = R_1 + R_2$\n",
    "\n",
    "### Parallel\n",
    "$\\frac{1}{R_T} = \\frac{I}{V} = \\frac{I_1 + I_2}{V} = \\frac{I_1}{V} + \\frac{I_2}{V} = \\frac{1}{R_1} + \\frac{1}{R_2}$\n",
    "\n",
    "$\\Leftrightarrow R_T = \\frac{1}{\\frac{1}{R_1} + \\frac{1}{R_2}} = \\frac{R_1 R_2}{R_1 + R_2}$"
   ]
  },
  {
   "cell_type": "markdown",
   "metadata": {
    "hideCode": false,
    "hidePrompt": false
   },
   "source": [
    "## Power and Energy dissipated in a component\n",
    "- $P = \\frac{[J]}{[s]} = I V$\n",
    "- for a resistor, we know $R$, $V$, $I$\n",
    "    - $I = \\frac{[C]}{[s]}$\n",
    "    - $V = \\frac{[J]}{[C]}$\n",
    "- $E = P \\times t = I V t$"
   ]
  },
  {
   "cell_type": "markdown",
   "metadata": {
    "hideCode": false,
    "hidePrompt": false
   },
   "source": [
    "## Potentiometer\n",
    "($R_1$ and $R_2$ in series; $R_1$, $V_{out}$ and load in parallel)\n",
    "\n",
    "For the output voltage across $R_1$ to stay the same, the load's resistance should be higher than $R_1$"
   ]
  },
  {
   "cell_type": "markdown",
   "metadata": {
    "hideCode": false,
    "hidePrompt": false
   },
   "source": [
    "### Example\n",
    "Find the % difference $V_1, V_{out}$ if $R_1 = 10 \\Omega$, $R_{load} = 100 \\Omega$\n",
    "\n",
    "$\\frac{V_1}{V_{out}} = \\frac{R_1}{\\frac{1}{\\frac{1}{R_1} + \\frac{1}{R_{load}}}} = \\frac{10}{\\frac{1}{\\frac{1}{10} + \\frac{1}{100}}} = \\frac{10}{9.1} = 1.1$"
   ]
  },
  {
   "cell_type": "markdown",
   "metadata": {
    "hideCode": false,
    "hidePrompt": false
   },
   "source": [
    "## Resistivity\n",
    "- Material -> constant per material (resistivity)\n",
    "- length of wire -> if ++, R++\n",
    "- cross section area -> if ++, R--\n",
    "\n",
    "$R = \\frac{\\rho l}{A}$"
   ]
  },
  {
   "cell_type": "markdown",
   "metadata": {
    "hideCode": false,
    "hidePrompt": false
   },
   "source": [
    "## Power\n",
    "Power dissipated by component, or the energy per time transferred from 1 type of energy to another is $P = IV$"
   ]
  },
  {
   "cell_type": "code",
   "execution_count": 2,
   "metadata": {
    "hideCode": false,
    "hidePrompt": false
   },
   "outputs": [
    {
     "data": {
      "image/png": "[encoded data removed]",
      "text/plain": [
       "<matplotlib.figure.Figure at 0x1092efa20>"
      ]
     },
     "metadata": {},
     "output_type": "display_data"
    }
   ],
   "source": [
    "%matplotlib inline\n",
    "import matplotlib.pyplot as plt\n",
    "import numpy as np\n",
    "\n",
    "I = V = np.linspace(0, 10)\n",
    "P = I ** 2\n",
    "_, (a1, a2) = plt.subplots(1, 2)\n",
    "for ax, x, description in zip(\n",
    "    (a1, a2), \n",
    "    (I, V), \n",
    "    ('I', 'V')\n",
    "):\n",
    "    ax.plot(x, P)\n",
    "    ax.set_xlabel(description)\n",
    "    ax.set_ylabel(\"P\")\n",
    "    ax.set_xticks([])\n",
    "    ax.set_yticks([])\n",
    "    ax.axhline(y=0, color='k')\n",
    "    ax.axvline(x=0, color='k')\n",
    "plt.tight_layout()\n"
   ]
  },
  {
   "cell_type": "markdown",
   "metadata": {
    "hideCode": false,
    "hidePrompt": false
   },
   "source": [
    "## Heating effect of current\n",
    "Current generates heat  \n",
    "-> heat loss (Joule effect)\n",
    "\n",
    "$P_{loss} = I^2 R$\n",
    "\n",
    "Therefore to keep the same amount of power delivered and since $P = IV$, if we reduce $I$ we need to increase $V$."
   ]
  },
  {
   "cell_type": "markdown",
   "metadata": {
    "hideCode": false,
    "hidePrompt": false
   },
   "source": [
    "## Forces between charges\n",
    "Coulomb's law describes the force between electrical charges\n",
    "\n",
    "$$F = \\frac{1}{4 \\pi \\epsilon_0} \\frac{q Q}{r^2} = \\frac{k q Q}{r^2} \\text{ where } k = \\frac{1}{4 \\pi \\epsilon_0}$$\n",
    "\n",
    "- $Q$, $q$: [C]\n",
    "- $\\epsilon_0$: permittivity of free space\n",
    "- $r$: separation in space between 2 electrons\n",
    "\n",
    "## Example\n",
    "2 charges of 1e $10^{-12}$ m apart. Find the force of repulsion.\n",
    "\n",
    "$F = \\frac{1}{\\pi \\epsilon_0} \\times \\frac{e^2}{r^2} = 2.3 \\times 10^{-4} N$"
   ]
  },
  {
   "cell_type": "markdown",
   "metadata": {
    "hideCode": false,
    "hidePrompt": false
   },
   "source": [
    "$\\vec{F}$ is a vector\n",
    "$\\vec{r}$ is a vector\n",
    "\n",
    "Useful for n-charge problems where n > 2."
   ]
  },
  {
   "cell_type": "code",
   "execution_count": 3,
   "metadata": {
    "hideCode": false,
    "hidePrompt": false
   },
   "outputs": [],
   "source": [
    "import numpy as np\n",
    "from typing import Iterable, List\n",
    "\n",
    "\n",
    "class ChargeSystem:\n",
    "    dimension: int\n",
    "    charges: List['Charge']\n",
    "    \n",
    "    def __init__(self, dimension: int):\n",
    "        self.charges = []\n",
    "        self.dimension = dimension\n",
    "    \n",
    "    def add(self, charge: 'Charge'):\n",
    "        self.charges.append(charge)\n",
    "    \n",
    "    def __iter__(self) -> Iterable['Charge']:\n",
    "        return (charge for charge in self.charges)\n",
    "\n",
    "\n",
    "class Charge:\n",
    "    \"\"\"Implementation of a fixed charge\"\"\"\n",
    "    def __init__(self, charge: float, container: 'ChargeSystem', position=None):\n",
    "        self.container = container\n",
    "        dimension = self.container.dimension\n",
    "\n",
    "        if position is not None:\n",
    "            assert dimension == len(position), \"Dimensions of the container and the charge must agree\"\n",
    "            if type(position) is list:\n",
    "                position = np.array(position)\n",
    "            self.position = position\n",
    "        else:\n",
    "            self.position = np.zeros(dimension, dtype=float)\n",
    "        container.add(self)\n",
    "        self.charge = charge\n",
    "\n",
    "    def calculate_attraction_force(self, charge2: 'Charge') -> np.array:\n",
    "        \"\"\"Calculate the attraction between two fixed_charges according to the Coulomb Law.\"\"\"\n",
    "        k = 8.99e9\n",
    "        q1, q2 = self.charge, charge2.charge\n",
    "\n",
    "        r = self.position - charge2.position\n",
    "\n",
    "        r_norm = np.linalg.norm(r)\n",
    "        r_unit = r / r_norm\n",
    "\n",
    "        magnitude = k * (q1 * q2) / r_norm ** 2\n",
    "\n",
    "        return magnitude * r_unit\n",
    "\n",
    "    def calculate_net_force(self) -> np.array:\n",
    "        return sum([\n",
    "            self.calculate_attraction_force(charge) for charge in self.container\n",
    "            if charge is not self\n",
    "        ])\n"
   ]
  },
  {
   "cell_type": "code",
   "execution_count": 4,
   "metadata": {
    "hideCode": false,
    "hidePrompt": false
   },
   "outputs": [
    {
     "data": {
      "text/plain": [
       "array([  0.00000000e+00,   4.75706086e-08])"
      ]
     },
     "execution_count": 4,
     "metadata": {},
     "output_type": "execute_result"
    }
   ],
   "source": [
    "from math import sqrt\n",
    "\n",
    "U = ChargeSystem(2)\n",
    "q1 = Charge(charge=2e-9, container=U, position=[0, 0])\n",
    "q2 = Charge(charge=2e-9, container=U, position=[0.75, sqrt(1 - 0.75 ** 2)])\n",
    "q3 = Charge(charge=2e-9, container=U, position=[1.5, 0])\n",
    "q2.calculate_net_force()"
   ]
  },
  {
   "cell_type": "code",
   "execution_count": 5,
   "metadata": {
    "hideCode": false,
    "hidePrompt": false
   },
   "outputs": [
    {
     "data": {
      "text/plain": [
       "4.757060857294135e-08"
      ]
     },
     "execution_count": 5,
     "metadata": {},
     "output_type": "execute_result"
    }
   ],
   "source": [
    "2 * 8.99e9 * (2e-9) ** 2 * sqrt(1 - 0.75 ** 2)"
   ]
  },
  {
   "cell_type": "markdown",
   "metadata": {
    "hideCode": false,
    "hidePrompt": false
   },
   "source": [
    "A negative point charge with charge $-q$ ($q > 0C$) lies on a line between 2 fixed charges $Q_1$ and $Q_2$. Assume that \n",
    "\n",
    "- $Q_1$ is at $x = 0$\n",
    "- $Q_2$ is at $x = a$\n",
    "\n",
    "Find all positions where charge $-q$ experiences no net force for cases \n",
    "\n",
    "- $Q_1 = Q_2$\n",
    "- $Q_1 \\neq Q_2$"
   ]
  },
  {
   "cell_type": "markdown",
   "metadata": {
    "hideCode": false,
    "hidePrompt": false
   },
   "source": [
    "$$F = \\frac{k q_1 q_2}{r^2}$$\n",
    "\n",
    "Coulomb force due to electric field.\n",
    "\n",
    "A charged particle will radiate an electric field around it.\n",
    "\n",
    "Field lines for charges and their electric fields\n",
    "\n",
    "Equipotentials are lines of equal electric potential. The difference in electric potential is called potential difference. Duh.\n",
    "\n",
    "If I put a charge at a point of potential $V_1$ and I want to move it to potential $V_2$, I have to do work $W$ with $V_2 > V_1$, $V = V_2 - V_1 = \\frac{W}{q}$ or $W = qV$\n",
    "- $q V_1 \\rightarrow$ electric potential energy at $V_1$\n",
    "- $q V_2 \\to$ electric potential energy at $V_2$\n",
    "\n",
    "This is why current flows from high potential to low potential => they have energy to spend.\n",
    "\n",
    "$\\vec{E} = k \\frac{Q}{\\vec{r}^2} \\Leftrightarrow \\vec{F} = q \\vec{E}$ \n",
    "- Q: charge producing field\n",
    "- q: charge in field produced by Q"
   ]
  },
  {
   "cell_type": "markdown",
   "metadata": {
    "hideCode": false,
    "hidePrompt": false
   },
   "source": [
    "$I = n A v q$\n",
    "- $I$: current (A)\n",
    "- $n$: number of charge carriers ($m^{-3}$)\n",
    "- $A$: cross-sectional area ($m^2$)\n",
    "- $v$: speed (m/s)\n",
    "- $q$: charge (C)\n",
    "\n",
    "$[A] = \\frac{[m^2][m][C]}{[m^3][s]} = \\frac{[C]}{[s]}$"
   ]
  },
  {
   "cell_type": "markdown",
   "metadata": {
    "hideCode": false,
    "hidePrompt": false
   },
   "source": [
    "Units of energy: the Joule and electron Volt ($eV$)\n",
    "\n",
    "The electron volt is the amount of energy gainted by an electron accelerated through a potential of 1V.\n",
    "\n",
    "$E = q V = 1.6 \\times 10^{-19} J = 1 eV$ \n",
    "\n",
    "Example: energy gained by a $\\text{Ca}^{2+}$ ion accelerated through 5V be?  \n",
    "$E = q V = 2 \\times 5 = 10 eV = 1.6 \\times 10^{-18} J$"
   ]
  },
  {
   "cell_type": "markdown",
   "metadata": {
    "hideCode": false,
    "hidePrompt": false
   },
   "source": [
    "## Emf and terminal potential difference\n",
    "      +  -\n",
    "    --|  l--  \n",
    "     V1  V2\n",
    "       ->\n",
    "       e-\n",
    "     \n",
    "\n",
    "- `Emf`: work done per unit charge in bringing it from one terminal of the battery to the other.\n",
    "    - $W = q (V_2 - V_1) = q V$\n",
    "    - If no `internal resistance`, we measure a potential difference across the battery equal to the `emf`.\n",
    "\n",
    "\n",
    "    <-Emf->  internal resistance\n",
    "    --|  l----------[r]----------------\n",
    "    <- Terminal potential difference ->"
   ]
  },
  {
   "cell_type": "markdown",
   "metadata": {
    "hideCode": false,
    "hidePrompt": false
   },
   "source": [
    "### Finding the relationship between Emf, I, r and R\n",
    "\n",
    "            Emf    V_r\n",
    "     +------| l---[r]---+\n",
    "     |         V_T      |\n",
    "    \\|/ I               |\n",
    "     |                  |\n",
    "     |                  |\n",
    "     +-------[R]--------+\n",
    "             V_R\n",
    "\n",
    "$\\begin{align*}\n",
    "Emf &= V_R + V_r \\\\\n",
    "V_T &= V_R \\\\\n",
    "\\therefore Emf &= V_T + I r\n",
    "\\end{align*}$\n",
    "\n",
    "#### Practical way of measuring Emf and r\n",
    "$\\Leftrightarrow V_T = - r I + Emf$\n",
    "\n",
    "If I graph $V_T$ vs $I$,\n",
    "\n",
    "- $Emf$: y-intercept\n",
    "- $-r$: gradient"
   ]
  },
  {
   "cell_type": "code",
   "execution_count": 6,
   "metadata": {
    "hideCode": false,
    "hidePrompt": false
   },
   "outputs": [],
   "source": [
    "import numpy as np\n",
    "import matplotlib.pyplot as plt\n",
    "import matplotlib as mpl\n",
    "\n",
    "mpl.rcParams['figure.figsize'] = (10, 7.5)\n",
    "\n",
    "\n",
    "def plot_data(data, legend=\"Experimental\"):\n",
    "    I = data[:, 0]\n",
    "    V_T = data[:, 1]\n",
    "    r, Emf = np.polyfit(I, V_T, deg=1)\n",
    "    \n",
    "    I_ = np.linspace(min(I), max(I))\n",
    "    V_hat = r * I_ + Emf\n",
    "\n",
    "    plt.figure()\n",
    "    plt.plot(I, V_T, 'x')\n",
    "    plt.plot(I_, V_hat, '--')\n",
    "    plt.grid()\n",
    "    plt.xlabel(\"I (A)\")\n",
    "    plt.xlim([0, max(I) * 1.01])\n",
    "    plt.ylabel(\"$V_T$ (V)\")\n",
    "    plt.legend([\n",
    "        legend,\n",
    "        f\"y = {round(r, 3)} * x + {round(Emf, 2)}\",\n",
    "    ])\n",
    "    plt.title(\"Terminal Potential Difference against Current\")\n"
   ]
  },
  {
   "cell_type": "code",
   "execution_count": 7,
   "metadata": {
    "hideCode": false,
    "hidePrompt": false
   },
   "outputs": [
    {
     "data": {
      "image/png": "[encoded data removed]",
      "text/plain": [
       "<matplotlib.figure.Figure at 0x1078e14a8>"
      ]
     },
     "metadata": {},
     "output_type": "display_data"
    }
   ],
   "source": [
    "data1 = np.array([\n",
    "    # I, V\n",
    "    [0.00, 4.34],\n",
    "    [0.02, 4.33],\n",
    "    [0.03, 4.32],\n",
    "    [0.05, 4.31],\n",
    "    [0.06, 4.29],\n",
    "    [0.11, 4.25],\n",
    "])\n",
    "plot_data(data1, \"Small potentialmeter\")"
   ]
  },
  {
   "cell_type": "code",
   "execution_count": 8,
   "metadata": {
    "hideCode": false,
    "hidePrompt": false
   },
   "outputs": [
    {
     "data": {
      "image/png": "[encoded data removed]",
      "text/plain": [
       "<matplotlib.figure.Figure at 0x109bb94e0>"
      ]
     },
     "metadata": {},
     "output_type": "display_data"
    }
   ],
   "source": [
    "data2 = np.array([\n",
    "    # I, V\n",
    "    [0.04, 4.25],\n",
    "    [0.09, 4.21],\n",
    "    [0.11, 4.19],\n",
    "    [0.14, 4.16],\n",
    "    [0.25, 4.02],\n",
    "    [0.30, 3.95],\n",
    "    [0.33, 3.88],\n",
    "    [0.41, 3.78],\n",
    "    [0.53, 3.62],\n",
    "    [0.66, 3.47],\n",
    "    [0.75, 3.32],\n",
    "    [0.84, 3.19],\n",
    "    [1.02, 2.95]\n",
    "])\n",
    "plot_data(data2, \"Big potentiometer\")\n"
   ]
  },
  {
   "cell_type": "markdown",
   "metadata": {
    "hideCode": false,
    "hidePrompt": false
   },
   "source": [
    "## Electric cells\n",
    "### Chemical cell\n",
    "- weak acid: **electrolyte**\n",
    "- least negative metal: **positive terminal**\n",
    "- most negative metal: **negative terminal**\n",
    "- each time an electron leaves the (-), the acid creates another electron\n",
    "- each time an electron enters the (+), the acid neutralizes an electron\n",
    "- this process is maintained until one of the metals or the electrolyte is completely used up\n",
    "- a **primary cell** can't be recharged\n",
    "- a **secondary cel** can be recharged by applying an external voltage, reversing the chemical reaction\n",
    "\n",
    "Terminal potential difference of typical electric cell loses its initial value quickly, has a stable and constant value for most of its lifetime, followed by a rapid decrease to 0 as the cell discharges completely."
   ]
  },
  {
   "cell_type": "markdown",
   "metadata": {},
   "source": [
    "## Magnetic effects of current\n",
    "### Magnet\n",
    "- north and south pole\n",
    "- by convention, the direction of the magnetic field lines is the direction a north-seeking pole would point if placed within the field\n",
    "- no magnet with only one pole\n",
    "\n",
    "\n",
    "    / \\         / \\\n",
    "     |           |\n",
    "     |           |\n",
    "     | 1A     1A |\n",
    "     |           |\n",
    "     | <-2E-7N-> |\n",
    "     |    1 m    |"
   ]
  },
  {
   "cell_type": "markdown",
   "metadata": {},
   "source": [
    "## Magnetic field due to current\n",
    "    Current out of wall     Current into wall\n",
    "           ⬅️                      ➡️\n",
    "          /---\\                   A---\\\n",
    "         / /-\\ \\                 / /-\\ \\\n",
    "       ⬇️| |.| |⬆️           ⬆️ | |x| | ⬇️\n",
    "         \\ \\-/ /                 \\ \\-/ /\n",
    "          \\---/                   \\-B-/\n",
    "            ➡️                     ⬅️\n",
    "$\\left|\\vec{B_A}\\right| = \\left|\\vec{B_B}\\right|$\n",
    "\n",
    "$\\vec{B}$: strength of magnetic field in Tesla (T)\n",
    "\n",
    "### Right hand corkscrew rule\n",
    "Thumb in the direction of the current, swirl is direction of magnetic field\n",
    "    \n",
    "      /\\\\/\\\\/\\\\/\\\\   ↙️↖️ direction of magnetic field\n",
    "     _ || || || ||   ↘️↗️\n",
    "    |_           / \n",
    "       \\        /\n",
    "    \n",
    "### Strength of field due to wire:\n",
    "\n",
    "$\\begin{align*}\n",
    "B &= \\frac{\\mu_0 I}{2 \\pi r} \\\\\n",
    "c &= \\frac{1}{\\sqrt{\\mu_0 \\epsilon_0}}\n",
    "\\end{align*}$\n",
    "\n",
    "- James Maxwell (1831-1871)\n",
    "- Hendrik Lorentz (1853-1928)\n",
    "\n",
    "**Lorentz force**: the force of a magnetic field on a charged particle \n",
    "\n",
    "$\\begin{align*}\n",
    "\\vec{F} =& q \\vec{v} \\times \\vec{B} \\\\\n",
    "\\vec{F} =& q \\Vert\\vec{v}\\Vert \\Vert\\vec{B}\\Vert \\sin \\theta \\\\\n",
    "&\\text{ where } \\theta \\text{ is the angle between } \\vec{v} \\text{ and } \\vec{B} \\text{ (left hand rule for sign)}\n",
    "\\end{align*}$\n",
    "\n",
    "### Left hand rule\n",
    "    | F\n",
    "     / B\n",
    "     -- I (conventional current, +ve charge)\n",
    "     -\n",
    "     -\n",
    "### Example\n",
    "    A) B     v+  ?F\n",
    "       .     ⬅️   ⬆️\n",
    "    B) v-    B   ?F\n",
    "       .     ⬇️   ⬅️\n",
    "    C) F     B   ?v+\n",
    "       x     ➡️   ⬆️\n",
    "    D) B     v-  ?v+\n",
    "       ➡️    ➡️   0\n",
    "       \n",
    "$\\begin{align*}\n",
    "F = B I l \\sin\\theta\n",
    "\\end{align*}$\n",
    "Force on a wire of length l due to a magnetic field $\\vec{B}$\n",
    "\n",
    "    B->    \\    Uniform magnetic field\n",
    "    --------\\----------\n",
    "             \\ theta\n",
    "           I _\\| l    \n",
    "    -----------\\-------\n",
    "                \\\n",
    "    -------------\\-----\n",
    "                  \\\n",
    "    Therefore F is .\n",
    "\n",
    "Two current carrying wires of infinite length \n",
    "    \n",
    "       1       2\n",
    "      B|       |B\n",
    "      .|F-> <-F|x  \n",
    "      /|\\ I1  /|\\ I1\n",
    "       |       |\n",
    "      \\|/ I2  /|\\ I2\n",
    "    <-F|.     .|F->\n",
    "       |B     B|\n",
    "     Forces on 1, 2 when currents are \n",
    "         same      direction: attract\n",
    "         different direction: repel\n",
    "     "
   ]
  },
  {
   "cell_type": "markdown",
   "metadata": {},
   "source": [
    "If an electron enters a magnetic field of strength $1.5 \\times 10^{-2} T$, \n",
    "- what force will it experience if its $KE$ is $10eV$?\n",
    "- What will its acceleration be?\n",
    "\n",
    "$\\begin{align*}\n",
    "KE &= \\frac{1}{2} m v^2 \\\\\n",
    "\\Leftrightarrow v &= \\sqrt{\\frac{2 KE}{m}} = \\sqrt{\\frac{20 \\times 1.6 \\times 10^{-19}}{9.110 \\times 10^{-31}}} = 1.874 \\times 10^{6} ms^{-1} \\\\\n",
    "F &= q v B = 1.60 \\times 10^{-31} \\times 1.874 \\times 10^{6} \\times 10^{-2} = 4.498 \\times 10^{-15} N\\\\\n",
    "F &= m a \\\\\n",
    "\\Leftrightarrow a &= \\frac{F}{m} = \\frac{4.498 \\times 10^{-15}}{9.110 \\times 10^{-31}} = 4.938 \\times 10^{15} ms^{-2}\n",
    "\\end{align*}$"
   ]
  }
 ],
 "metadata": {
  "hide_code_all_hidden": false,
  "kernelspec": {
   "display_name": "Python 3",
   "language": "python",
   "name": "python3"
  },
  "language_info": {
   "codemirror_mode": {
    "name": "ipython",
    "version": 3
   },
   "file_extension": ".py",
   "mimetype": "text/x-python",
   "name": "python",
   "nbconvert_exporter": "python",
   "pygments_lexer": "ipython3",
   "version": "3.6.4"
  }
 },
 "nbformat": 4,
 "nbformat_minor": 2
}
