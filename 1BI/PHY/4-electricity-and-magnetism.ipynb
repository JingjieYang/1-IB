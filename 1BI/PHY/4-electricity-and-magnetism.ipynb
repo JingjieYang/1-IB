{
 "cells": [
  {
   "cell_type": "markdown",
   "metadata": {},
   "source": [
    "# Electricity and Magnetism\n",
    "\n",
    "`Charge`: a property of some particles which makes them interact with each other\n",
    "- positive charge: e.g. proton, $Na^+$, $K^+$\n",
    "- negative charge: e.g. electron, $Cl^-$, $S^{2-}$\n",
    "- neutral: e.g. neutron, neutrino, $Xe$\n"
   ]
  },
  {
   "cell_type": "markdown",
   "metadata": {},
   "source": [
    "There are two types of electriciry:\n",
    "- static: charge builds upon an object\n",
    "- current: charge flows through an object"
   ]
  },
  {
   "cell_type": "markdown",
   "metadata": {},
   "source": [
    "## Static electricity\n",
    "- examples: friction between 2 insulators wlil add / remove charge (electrons) from the materials and leave them with a net charge\n",
    "\n",
    "        // ADMIRE MY ASCII ART\n",
    "                川   // hair going up\n",
    "                〇   // head\n",
    "            〇 一大  // generator + body\n",
    "            ｜   三  // insulator\n",
    "- induction\n",
    "\n",
    "        // ADMIRE MY ASCII ART\n",
    "        Wall Balloon\n",
    "        ...|  ___  \n",
    "        +-+| /- -\\\n",
    "        -+-| |-+ |\n",
    "        +-+| \\ - /\n",
    "        ...|   |\n",
    "        \n",
    "        Wall Balloon\n",
    "        ...|  ___\n",
    "        - +| / - \\\n",
    "        - +| |- +|  => balloon sticks to the wall\n",
    "        - +| \\ - /\n",
    "        ...|   |\n",
    "\n",
    "        "
   ]
  },
  {
   "cell_type": "markdown",
   "metadata": {
    "collapsed": true
   },
   "source": [
    "## The electroscope\n",
    "1. Diagram\n",
    "2. Explanation in terms of static electricity\n",
    "\n",
    "\n",
    "1. By rubbing (plastic) wand with another insulator, we charge the wand.\n",
    "\n",
    "         __              __\n",
    "        |+ |            |- |\n",
    "        | -|            | -|\n",
    "        |+-|     =>     |- |  Net charge\n",
    "        |-+|            |- |\n",
    "        |__|            |__|\n",
    "\n",
    "2. By moving the wand towards the electroscope, we induce a net charge on the electroscope's metallic branch.\n",
    "\n",
    "        \\    +|+    ________\n",
    "         \\   +|+   |-   -  - \n",
    "          \\  +|+   |__-__-__\n",
    "           \\  |    <- branch\n",
    "            \\___\n",
    "              | \\  <- electroscope\n",
    "              |  \\\n",
    "             -|-  \\   Electrons in branch of\n",
    "             -|-   \\  of electroscope are repelled\n",
    "             -|-    \\ away from the wand.\n",
    "        -------------------------------------------\n",
    "        \\    -|-    _________\n",
    "         \\   -|-   |+  +  +  \n",
    "          \\  -|-   |+__+__+__\n",
    "           \\  |    <- branch\n",
    "            \\___\n",
    "              | \\  <- electroscope\n",
    "              |  \\\n",
    "             +|+  \\   Electrons here are\n",
    "             +|+   \\  attracted to the wand.\n",
    "             +|+    \\ \n",
    "In both cases, the wand attracts the branch by induction."
   ]
  },
  {
   "cell_type": "code",
   "execution_count": null,
   "metadata": {
    "collapsed": true
   },
   "outputs": [],
   "source": []
  }
 ],
 "metadata": {
  "kernelspec": {
   "display_name": "Python 3",
   "language": "python",
   "name": "python3"
  },
  "language_info": {
   "codemirror_mode": {
    "name": "ipython",
    "version": 3
   },
   "file_extension": ".py",
   "mimetype": "text/x-python",
   "name": "python",
   "nbconvert_exporter": "python",
   "pygments_lexer": "ipython3",
   "version": "3.6.3"
  }
 },
 "nbformat": 4,
 "nbformat_minor": 2
}
