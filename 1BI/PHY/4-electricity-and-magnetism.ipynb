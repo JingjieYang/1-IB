{
 "cells": [
  {
   "cell_type": "markdown",
   "metadata": {},
   "source": [
    "# Electricity and Magnetism\n",
    "\n",
    "`Charge`: a property of some particles which makes them interact with each other\n",
    "- positive charge: e.g. proton, $Na^+$, $K^+$\n",
    "- negative charge: e.g. electron, $Cl^-$, $S^{2-}$\n",
    "- neutral: e.g. neutron, neutrino, $Xe$\n"
   ]
  },
  {
   "cell_type": "markdown",
   "metadata": {},
   "source": [
    "There are two types of electriciry:\n",
    "- static: charge builds upon an object\n",
    "- current: charge flows through an object"
   ]
  },
  {
   "cell_type": "markdown",
   "metadata": {},
   "source": [
    "## Static electricity\n",
    "- examples: friction between 2 insulators wlil add / remove charge (electrons) from the materials and leave them with a net charge\n",
    "\n",
    "        // ADMIRE MY ASCII ART\n",
    "                川   // hair going up\n",
    "                〇   // head\n",
    "            〇 一大  // generator + body\n",
    "            ｜   三  // insulator\n",
    "- induction\n",
    "\n",
    "        // ADMIRE MY ASCII ART\n",
    "        Wall Balloon\n",
    "        ...|  ___  \n",
    "        +-+| /- -\\\n",
    "        -+-| |-+ |\n",
    "        +-+| \\ - /\n",
    "        ...|   |\n",
    "        \n",
    "        Wall Balloon\n",
    "        ...|  ___\n",
    "        - +| / - \\\n",
    "        - +| |- +|  => balloon sticks to the wall\n",
    "        - +| \\ - /\n",
    "        ...|   |\n",
    "\n",
    "        "
   ]
  },
  {
   "cell_type": "markdown",
   "metadata": {
    "collapsed": true
   },
   "source": [
    "### The electroscope\n",
    "1. Diagram\n",
    "2. Explanation in terms of static electricity\n",
    "\n",
    "\n",
    "1. By rubbing (plastic) wand with another insulator, we charge the wand.\n",
    "\n",
    "         __              __\n",
    "        |+ |            |- |\n",
    "        | -|            | -|\n",
    "        |+-|     =>     |- |  Net charge\n",
    "        |-+|            |- |\n",
    "        |__|            |__|\n",
    "\n",
    "2. By moving the wand towards the electroscope, we induce a net charge on the electroscope's metallic branch.\n",
    "\n",
    "        \\    +|+    ________\n",
    "         \\   +|+   |-   -  - \n",
    "          \\  +|+   |__-__-__\n",
    "           \\  |    <- branch\n",
    "            \\___\n",
    "              | \\  <- electroscope\n",
    "              |  \\\n",
    "             -|-  \\   Electrons in branch of\n",
    "             -|-   \\  of electroscope are repelled\n",
    "             -|-    \\ away from the wand.\n",
    "        -------------------------------------------\n",
    "        \\    -|-    _________\n",
    "         \\   -|-   |+  +  +  \n",
    "          \\  -|-   |+__+__+__\n",
    "           \\  |    <- branch\n",
    "            \\___\n",
    "              | \\  <- electroscope\n",
    "              |  \\\n",
    "             +|+  \\   Electrons here are\n",
    "             +|+   \\  attracted to the wand.\n",
    "             +|+    \\ \n",
    "In both cases, the wand attracts the branch by induction."
   ]
  },
  {
   "cell_type": "markdown",
   "metadata": {
    "collapsed": true
   },
   "source": [
    "## Current electricity\n",
    "Current (electrcity) is the flow of charge.\n",
    "\n",
    "Circuit electricity studies how electrical components work together.\n",
    "\n",
    "[symbols]\n"
   ]
  },
  {
   "cell_type": "markdown",
   "metadata": {},
   "source": [
    "### Concepts to talk about\n",
    "- **Charge** [C]: $Q = I \\cdot t$\n",
    "    - **Current** [A]: $I$\n",
    "    - **time** [s]: $t$\n",
    "- **Potential difference**: the amount of energy per unit of charge transformed from electrical energy to some other type by a component.\n",
    "    - P. diff [V] $V = \\frac{W}{Q} (\\frac{[J]}{[C]})$\n",
    "- **Electromotive force**: the work done in bringing one Coulomb of charge from the negative terminal to the positive terminal of the battery."
   ]
  },
  {
   "cell_type": "markdown",
   "metadata": {},
   "source": [
    "## V-I characteristics of\n",
    "1. Resistors\n",
    "2. Lightbulbs\n",
    "3. Diodes"
   ]
  },
  {
   "cell_type": "markdown",
   "metadata": {},
   "source": [
    "## OHMIC COMPONENTS\n",
    "The current through an ohmic component is *directly proportional* to the potential difference across it.\n"
   ]
  },
  {
   "cell_type": "markdown",
   "metadata": {},
   "source": [
    "### Resistor"
   ]
  },
  {
   "cell_type": "code",
   "execution_count": 1,
   "metadata": {},
   "outputs": [
    {
     "data": {
      "image/png": "[encoded data removed]",
      "text/plain": [
       "<matplotlib.figure.Figure at 0x10583bf28>"
      ]
     },
     "metadata": {},
     "output_type": "display_data"
    }
   ],
   "source": [
    "import numpy as np\n",
    "import matplotlib.pyplot as plt\n",
    "\n",
    "R = 10.\n",
    "I = np.linspace(-1, 1)\n",
    "V = I * R\n",
    "plt.plot(I, V)\n",
    "plt.title(\"EXAMPLE OF OHMIC COMPONENT: RESISTOR\")\n",
    "plt.xlabel(\"Current (A)\")\n",
    "plt.ylabel(\"Voltage (V)\")\n",
    "plt.xticks([0])\n",
    "plt.yticks([0])\n",
    "plt.axvline(0., color='k')\n",
    "plt.axhline(0., color='k')\n",
    "plt.show()"
   ]
  },
  {
   "cell_type": "markdown",
   "metadata": {},
   "source": [
    "## NON-OHMIC COMPONENTS"
   ]
  },
  {
   "cell_type": "markdown",
   "metadata": {},
   "source": [
    "### Lightbulb / filament\n",
    "![lightbulb V-I graph, I-V graph](http://physicsnet.co.uk/wp-content/uploads/2010/06/VI-graph-for-filament-lamp1.jpg)"
   ]
  },
  {
   "cell_type": "markdown",
   "metadata": {},
   "source": [
    "### Diode\n",
    "- threshold voltage\n",
    "- leakage current\n",
    "\n",
    "![Diode V-I graph](http://www.learningaboutelectronics.com/images/Diode-characteristics-curve.png)"
   ]
  },
  {
   "cell_type": "markdown",
   "metadata": {},
   "source": [
    "### Thermistor\n",
    "- positive feedback loop\n",
    "    - more current\n",
    "    - temperature increases\n",
    "    - less resistance\n",
    "\n",
    "![Thermistor R-T plot](http://www.arroyoinstruments.com/images/cms/sized/Thermistor%20Response%20Curve1.gif)"
   ]
  },
  {
   "cell_type": "markdown",
   "metadata": {},
   "source": [
    "## FINDING THE OHMIC RESISTANCE\n",
    "When the component is ohmic, you can find its resistance by calculating the *gradient* of the VI graph.\n",
    "\n",
    "## OHM'S LAW\n",
    "At constant temperature, the `current` through a `conductor` betwen two points is directly `proportional` to the `voltage` across the two points.\n",
    "\n",
    "$V = I R$\n",
    "\n",
    "`Resistance`: the ratio of potential difference across the componenent and current through the component measured in ohms.\n",
    "\n",
    "$[\\Omega] = \\frac{[V]}{[A]} = \\frac{\\frac{[J]}{[C]}}{\\frac{[C]}{[s]}} = \\frac{[J][s]}{[C]^2} = \\frac{[N][m][s]}{[C]^2} = \\frac{[kg][m][m][s]}{[C]^2[s]^2} = \\frac{[kg][m]^2}{[C]^2 s}$"
   ]
  },
  {
   "cell_type": "markdown",
   "metadata": {},
   "source": [
    "## Kirchoff's laws\n",
    "- The current remains constant throughout a series circuit.\n",
    "- The sum of all currents into a junction is equal to the sum of all currents leaving that junction.\n",
    "- The sum of all potential differences across each component in a series circuit is equal to the terminal potential difference of the battery.\n",
    "- The sum of all potential differences across each component in each closed loop in a parallel circuit is equal to the terminal potential difference of the battery."
   ]
  },
  {
   "cell_type": "markdown",
   "metadata": {},
   "source": [
    "## Resistance in series / parallel\n",
    "### Series\n",
    "$R_T = \\frac{V}{I} = \\frac{V_1 + V_2}{I} = \\frac{V1}{I} + \\frac{V2}{I} = R_1 + R_2$\n",
    "\n",
    "### Parallel\n",
    "$\\frac{1}{R_T} = \\frac{I}{V} = \\frac{I_1 + I_2}{V} = \\frac{I_1}{V} + \\frac{I_2}{V} = \\frac{1}{R_1} + \\frac{1}{R_2}$\n",
    "\n",
    "$\\Leftrightarrow R_T = \\frac{1}{\\frac{1}{R_1} + \\frac{1}{R_2}} = \\frac{R_1 R_2}{R_1 + R_2}$"
   ]
  },
  {
   "cell_type": "markdown",
   "metadata": {},
   "source": [
    "## Power and Energy dissipated in a component\n",
    "- $P = \\frac{[J]}{[s]} = I V$\n",
    "- for a resistor, we know $R$, $V$, $I$\n",
    "    - $I = \\frac{[C]}{[s]}$\n",
    "    - $V = \\frac{[J]}{[C]}$\n",
    "- $E = P \\times t = I V t$"
   ]
  },
  {
   "cell_type": "code",
   "execution_count": null,
   "metadata": {},
   "outputs": [],
   "source": []
  }
 ],
 "metadata": {
  "kernelspec": {
   "display_name": "Python 3",
   "language": "python",
   "name": "python3"
  },
  "language_info": {
   "codemirror_mode": {
    "name": "ipython",
    "version": 3
   },
   "file_extension": ".py",
   "mimetype": "text/x-python",
   "name": "python",
   "nbconvert_exporter": "python",
   "pygments_lexer": "ipython3",
   "version": "3.6.1"
  }
 },
 "nbformat": 4,
 "nbformat_minor": 2
}
