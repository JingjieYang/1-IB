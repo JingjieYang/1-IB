{
 "cells": [
  {
   "cell_type": "markdown",
   "metadata": {},
   "source": [
    "# Oscillations\n",
    "Two practicals"
   ]
  },
  {
   "cell_type": "markdown",
   "metadata": {},
   "source": [
    "## 1. Finding $g$ by using a pendulumn\n",
    "$\\begin{aligned}\n",
    "T = 2\\pi \\sqrt{\\frac{l}{g}}\n",
    "\\end{aligned}$\n",
    "\n",
    "- $T$: period in s\n",
    "- $l$: length in m\n",
    "- $g$ acceleration due to gravity: $m/s^2$\n",
    "\n",
    "Linearisation of the sqrt function (as $T \\propto \\sqrt{l})$:\n",
    "\n",
    "$\\begin{aligned}\n",
    "T^2 &= (2 \\pi)^2 \\frac{l}{g}\\\\\n",
    "\\underbrace{T^2}_{y} &= \\overbrace{\\frac{4 \\pi^2}{g}}^{m} \\underbrace{l}_{x}\n",
    "\\end{aligned}$\n",
    "\n",
    "### Method\n",
    "- 10 periods, 5 times\n",
    "- min. 5 lengths\n",
    "\n",
    "| String length / cm ± 0.05cm | "
   ]
  },
  {
   "cell_type": "code",
   "execution_count": null,
   "metadata": {},
   "outputs": [],
   "source": []
  }
 ],
 "metadata": {
  "kernelspec": {
   "display_name": "Python 3",
   "language": "python",
   "name": "python3"
  },
  "language_info": {
   "codemirror_mode": {
    "name": "ipython",
    "version": 3
   },
   "file_extension": ".py",
   "mimetype": "text/x-python",
   "name": "python",
   "nbconvert_exporter": "python",
   "pygments_lexer": "ipython3",
   "version": "3.6.3"
  }
 },
 "nbformat": 4,
 "nbformat_minor": 2
}
