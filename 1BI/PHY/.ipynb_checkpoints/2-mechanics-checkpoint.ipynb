{
 "cells": [
  {
   "cell_type": "markdown",
   "metadata": {},
   "source": [
    "`2017-09-18 Monday`"
   ]
  },
  {
   "cell_type": "markdown",
   "metadata": {},
   "source": [
    "# Motion\n",
    "- Displacement ($m$): $x$ (initial displacement: $x_0$)\n",
    "- Velocity ($m/s$): $v$ (initial velocity: $v_0$)\n",
    "- Acceleration ($m/s^2$): $a$ "
   ]
  },
  {
   "cell_type": "markdown",
   "metadata": {},
   "source": [
    "## Graphs of motion\n",
    "For constant acceleration with $v_0$ and $x_0$"
   ]
  },
  {
   "cell_type": "code",
   "execution_count": 1,
   "metadata": {
    "collapsed": false
   },
   "outputs": [
    {
     "data": {
      "image/png": "[encoded data removed]",
      "text/plain": [
       "<matplotlib.figure.Figure at 0x1103c30f0>"
      ]
     },
     "metadata": {},
     "output_type": "display_data"
    }
   ],
   "source": [
    "%matplotlib inline\n",
    "import matplotlib.pyplot as plt\n",
    "import numpy as np\n",
    "\n",
    "t = np.linspace(0, 5)\n",
    "a = t * 0 + 1\n",
    "v = 1 + a * t\n",
    "s = 1 + (v - 1) * t / 2\n",
    "\n",
    "_, (a1, a2, a3) = plt.subplots(3, sharex=True)\n",
    "for ax, y, y0_name, description in zip(\n",
    "    (a1, a2, a3), \n",
    "    (a, v, s), \n",
    "    ('$a$', '$v_0$', '$x_0$'), \n",
    "    ('acceleration ($m/s^2$)', 'velocity ($m/s$)', 'displacement ($m$)')\n",
    "):\n",
    "    ax.plot(t, y)\n",
    "    ax.grid(True, which='both')\n",
    "    plt.xlabel('time ($s$)')\n",
    "    ax.set_ylabel(description)\n",
    "    plt.xticks(range(10))\n",
    "    plt.xlim([0, 5])\n",
    "    ax.set_ylim([0, max(y) + 1])\n",
    "    ax.set_yticks([1])\n",
    "    ax.set_yticklabels([y0_name])\n",
    "    ax.axhline(y=0, color='k')\n",
    "    ax.axvline(x=0, color='k')\n",
    "    ax.get_yaxis().set_label_coords(-0.1,0.5)\n",
    "plt.tight_layout()\n"
   ]
  },
  {
   "cell_type": "markdown",
   "metadata": {},
   "source": [
    "- $v = \\frac{\\Delta x}{\\Delta t}$ (change in displacement over time)\n",
    "- $a = \\frac{\\Delta{v}}{\\Delta{t}}$ (change in velocity over time)"
   ]
  },
  {
   "cell_type": "markdown",
   "metadata": {},
   "source": [
    "## Equation of motion for constant acceleration\n",
    "$v = v_0 + at$  \n",
    "$x = v_0 t + \\frac{1}{2} a t^2 + x_0$  \n",
    "$v^2 = {v_0}^2 + 2 a x$  \n",
    "${v_y}^2 = v_{0y}^2 + 2 a y$"
   ]
  },
  {
   "cell_type": "markdown",
   "metadata": {},
   "source": [
    "## Exercise\n",
    "### 1.\n",
    "What will the max height for the cannonball? given:\n",
    "$v = 25m/s$\n",
    "$\\alpha = 25º$\n",
    "\n",
    "at maximum height $v_y = 0$, so $0 = {v_{0y}}^2 + 2ay \\Leftrightarrow y = \\frac{-{v_{0y}}^2}{2a}$  \n",
    "$y = \\frac{-v\\sin(\\theta)^2}{2a} = 5.6m$\n",
    "\n",
    "### 2.\n",
    "Firefighter aiming hose at 78.5º.  \n",
    "Water leaving hose at 32m/s.  \n",
    "What height can the water reach?\n",
    "\n",
    "$y = \\frac{-(32 \\sin(78.5º)^2}{-20} = 49m$"
   ]
  },
  {
   "cell_type": "markdown",
   "metadata": {},
   "source": [
    "## Air resistance\n",
    "Weight of object and force of air resistance are equal to each other at terminal velocity.\n",
    "\n",
    "Air resistance / Drag, $\\text{AirR}$\n",
    "\n",
    "- $\\propto v^2$\n",
    "- $\\propto$ surface Area\n",
    "- $\\propto \\rho$  (density of fluid)\n",
    "- $\\propto$ drag coefficient"
   ]
  },
  {
   "cell_type": "markdown",
   "metadata": {},
   "source": [
    "`2017-10-05 Thursday`\n",
    "# Balanced forces\n",
    "Focus are in equilibrium $\\Rightarrow \\vec{F_1} + \\vec{F_2} + \\vec{w} = \\vec{0}$"
   ]
  },
  {
   "cell_type": "markdown",
   "metadata": {},
   "source": [
    "## Free body diagram\n",
    "Diagram that shows forces acting on an object\n",
    "\n",
    "    F1      F2\n",
    "    -       -\n",
    "    |\\ θ|θ /|\n",
    "      \\-|-/\n",
    "       \\|/\n",
    "        |\n",
    "        |\n",
    "        |\n",
    "       \\ /\n",
    "        w\n",
    "       \n",
    "- $F_{1x} = F_1 \\cos \\theta$\n",
    "- $F_{1y} = F_1 \\sin \\theta$\n",
    "- $F_{1x} = F_2 \\cos \\theta$\n",
    "- $F_{1y} = F_2 \\sin \\theta$\n",
    "- $w_x = 0$\n",
    "- $w_y = \\vec{w} = m \\vec{g}$\n",
    "\n",
    "$\\vec{F_1} + \\vec{F_2} + \\vec{w} = 0$  \n",
    "$\\vec{F_1} \\sin \\theta + \\vec{F_2} \\sin \\theta = -\\vec{w}$  \n",
    "$\\vec{F_{1y}} + \\vec{F_{2y}} = - \\vec{w}$"
   ]
  },
  {
   "cell_type": "markdown",
   "metadata": {},
   "source": [
    "### In this case\n",
    "- Weight = mass * gravitational acceleration $\\vec{g}$\n",
    "    - On Earth, $g = 9.81 m/s^2 (N/kg)$"
   ]
  },
  {
   "cell_type": "markdown",
   "metadata": {},
   "source": [
    "## Newton's laws of motion\n",
    "### I. Any object moving at a constant velocity or at rest has no _net_ / resultant force exerted on it.\n",
    "### II. $F_{net} = m a = m \\frac{dv}{dt} = m \\frac{\\Delta v}{\\Delta t} = \\frac{\\Delta m v}{\\Delta t} = \\frac{\\Delta p}{\\Delta t}$"
   ]
  },
  {
   "cell_type": "markdown",
   "metadata": {},
   "source": [
    "### Exercise\n",
    "        _____ ___________\n",
    "    -> |  X  |     Y     |\n",
    "    F  |   m |      2 m  |\n",
    "       |_____|___________|\n",
    "move at constant speed.\n",
    "\n",
    "What is the net force acting on y?\n",
    "\n",
    "- **A. 0 N**\n",
    "- B. $F/2$ N\n",
    "- C. $F$ N\n",
    "- D. $2F$ N\n",
    "\n",
    "$\\text{'constant speed'} \\Leftrightarrow a = 0 \\Leftrightarrow F = ma = 0 N$"
   ]
  },
  {
   "cell_type": "markdown",
   "metadata": {},
   "source": [
    "### Exercise\n",
    "           | cable\n",
    "           |\n",
    "     -------------\n",
    "    |             |\n",
    "    |    _____    |\n",
    "    |   | Load|   | | a = 2m/s^2\n",
    "    |   |750kg|   | ^\n",
    "    |___|_____|___|\n",
    "\n",
    "What is the tension in the cable?\n",
    "\n",
    "$$F_{net} = ma = 160 \\cdot 2 = 1500 N$$\n",
    "$$F_{net} = W + T$$\n",
    "$$T = F_{net} - W = 1 500 - 7500 = -6 000$$"
   ]
  },
  {
   "cell_type": "markdown",
   "metadata": {},
   "source": [
    "# Energy, Work and Power in mechanical systems"
   ]
  },
  {
   "cell_type": "markdown",
   "metadata": {},
   "source": [
    "## Energy \n",
    "Energy is the potential to do work, measured in Joules."
   ]
  },
  {
   "cell_type": "markdown",
   "metadata": {},
   "source": [
    "### Kinetic energy\n",
    "Kinetic energy is relative to motion:  \n",
    "$$E_k = \\frac{1}{2} m v^2$$\n"
   ]
  },
  {
   "cell_type": "markdown",
   "metadata": {},
   "source": [
    "### Gravitational potential energy\n",
    "The energy related to a gravitational field.  \n",
    "$$E_p = m g h$$\n",
    "\n",
    "- `m`: mass\n",
    "- `g`: gravitational acceleration\n",
    "- `h`: height\n",
    "\n",
    "In a closed system with no heat losses, mechanical energy is conserved:  \n",
    "$$E_p + E_k = \\text{constant}$$\n",
    "\n",
    "Energy is **always** conserved.\n"
   ]
  },
  {
   "cell_type": "markdown",
   "metadata": {},
   "source": [
    "## Work\n",
    "Work is the energy being transferred from one thing to another.\n",
    "\n",
    "In mechanics, this transferrence is via a force.\n",
    "\n",
    "$$W = F d$$\n",
    "\n",
    "- `W`: $[J] = \\frac{[kg] \\times [m]^2}{[s]^2}$\n",
    "- `F = m a`: $[N] = \\frac{[kg] \\times [m]}{[s]^2}$\n",
    "- `d`(displacement) = $[m]$\n",
    "\n",
    "Note: force and displacement should in the same direction ($W = cos \\theta F s$)"
   ]
  },
  {
   "cell_type": "markdown",
   "metadata": {},
   "source": [
    "## Power\n",
    "rate at which energy transforms\n",
    "$$P = \\frac{\\text{Energy}}{\\text{Time}}$$\n",
    "$$[Watt] = \\frac{[Joule]}{[second]}$$\n",
    "$$\\text{Efficiency} = \\frac{\\text{Useful Work}}{\\text{Total energy input}}$$"
   ]
  },
  {
   "cell_type": "markdown",
   "metadata": {},
   "source": [
    "# Angular momentum\n",
    "$w = \\frac{v}{r}$"
   ]
  },
  {
   "cell_type": "markdown",
   "metadata": {
    "collapsed": true
   },
   "source": [
    "# Energy\n",
    "$$K. E = \\frac{1}{2} m v^2$$\n",
    "$$P.E = m g h$$\n",
    "\n",
    "Elastic potential energy: energy stored through compression / elongation\n",
    "\n",
    "Total energy is neither created nor destroyed; it changes form and is conserved.\n",
    "\n",
    "## Example"
   ]
  },
  {
   "cell_type": "markdown",
   "metadata": {},
   "source": [
    "### Ball free falling"
   ]
  },
  {
   "cell_type": "code",
   "execution_count": 2,
   "metadata": {
    "collapsed": false
   },
   "outputs": [
    {
     "data": {
      "image/png": "[encoded data removed]",
      "text/plain": [
       "<matplotlib.figure.Figure at 0x1121b2160>"
      ]
     },
     "metadata": {},
     "output_type": "display_data"
    }
   ],
   "source": [
    "import matplotlib.pyplot as plt\n",
    "import numpy as np\n",
    "%matplotlib inline\n",
    "\n",
    "a = -9.81\n",
    "g = 9.81\n",
    "m = 1\n",
    "t = np.linspace(0, 5)\n",
    "h = a * (t ** 2) / 2\n",
    "v = a * t\n",
    "k_e = m * v ** 2 / 2  # kinetic energy\n",
    "p_e = m * g * h + np.max(k_e)  # potential energy (relative to the max energy)\n",
    "t_e = p_e + k_e  # total energy\n",
    "\n",
    "plt.plot(t, k_e)\n",
    "plt.plot(t, p_e)\n",
    "plt.plot(t, t_e)\n",
    "plt.xlabel(\"time\")\n",
    "plt.ylabel(\"E\")\n",
    "plt.xticks([])\n",
    "plt.yticks([])\n",
    "plt.legend(['P.E', 'K.E', 'T.E']);"
   ]
  },
  {
   "cell_type": "markdown",
   "metadata": {},
   "source": [
    "### Pendulum"
   ]
  },
  {
   "cell_type": "code",
   "execution_count": 3,
   "metadata": {
    "collapsed": false
   },
   "outputs": [
    {
     "data": {
      "image/png": "[encoded data removed]",
      "text/plain": [
       "<matplotlib.figure.Figure at 0x1121b2198>"
      ]
     },
     "metadata": {},
     "output_type": "display_data"
    }
   ],
   "source": [
    "import matplotlib.pyplot as plt\n",
    "import numpy as np\n",
    "%matplotlib inline\n",
    "\n",
    "t = np.linspace(0, 5)\n",
    "plt.plot(t, np.cos(t))\n",
    "plt.plot(t, -np.cos(t))\n",
    "plt.plot(t, np.zeros(50) + 1)\n",
    "plt.xticks([])\n",
    "plt.yticks([])\n",
    "plt.xlabel('time')\n",
    "plt.ylabel('E')\n",
    "plt.legend(['P.E', 'K.E', 'T.E']);"
   ]
  },
  {
   "cell_type": "markdown",
   "metadata": {},
   "source": [
    "## Power\n",
    "$$P = \\frac{\\text{Energy}}{\\text{time}} = F \\cdot v$$\n",
    "$$[W] = [N] \\cdot \\frac{[m]}{[c]} = \\frac{[kg] [m]}{[s^2]} \\cdot \\frac{[m]}{[s]} = [kg] \\times \\frac{[m]^2}{[s]^3}$$\n",
    "\n",
    "$$\\frac{W}{t} = \\frac{F \\cdot d}{t}$$\n",
    "$$P = F \\cdot \\frac{\\Delta d}{\\Delta t} = F v$$"
   ]
  },
  {
   "cell_type": "markdown",
   "metadata": {},
   "source": [
    "## Efficiency\n",
    "$$Efficiency \\% = \\frac{\\text{Useful}}{\\text{Input}} \\times 100$$"
   ]
  },
  {
   "cell_type": "markdown",
   "metadata": {},
   "source": [
    "# Momentum, Impulse and Force time diagrams"
   ]
  },
  {
   "cell_type": "markdown",
   "metadata": {},
   "source": [
    "## Momentum\n",
    "Momentum $p = m v$.\n",
    "\n",
    "Linear momentum: momentum in $x \\\\ y \\\\ z$ directions\n",
    "\n",
    "$$\\vec{P_x} = m \\vec{v_x}$$\n",
    "$$\\vec{P_y} = m \\vec{v_y}$$\n",
    "\n",
    "In a closed system, linear momentum is conserved.\n",
    "\n",
    "### Example\n",
    "Car A meets car B.\n",
    "\n",
    "- $m_A = 500 kg$\n",
    "- $v_A = 30 m/s$\n",
    "- $m_B = 600 kg$\n",
    "- $v_B = 0 m/s$\n",
    "\n",
    "After impact, $m_{A+B} = 1100 kg$\n",
    "\n",
    "$v_{A+B} = \\frac{p_{A+B}}{m_{A+B}} = \\frac{p_A + p_B}{m_A + m_B} = \\frac{500 \\times 30 + 600 \\times 0}{500 + 600} = 13.6 m/s$"
   ]
  },
  {
   "cell_type": "markdown",
   "metadata": {},
   "source": [
    "## Impulse\n",
    "$= \\text{Force} \\times \\Delta \\text{time} = \\Delta p$  \n",
    "$F_{net} = m a = m \\frac{\\Delta v}{\\Delta t} = \\frac{\\Delta m v}{\\Delta t} = \\frac{\\Delta P}{\\Delta t}$"
   ]
  },
  {
   "cell_type": "markdown",
   "metadata": {},
   "source": [
    "## Force time diagrams"
   ]
  }
 ],
 "metadata": {
  "kernelspec": {
   "display_name": "Python 3",
   "language": "python",
   "name": "python3"
  },
  "language_info": {
   "codemirror_mode": {
    "name": "ipython",
    "version": 3
   },
   "file_extension": ".py",
   "mimetype": "text/x-python",
   "name": "python",
   "nbconvert_exporter": "python",
   "pygments_lexer": "ipython3",
   "version": "3.6.1"
  }
 },
 "nbformat": 4,
 "nbformat_minor": 2
}
