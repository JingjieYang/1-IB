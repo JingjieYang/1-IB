{
 "cells": [
  {
   "cell_type": "markdown",
   "metadata": {},
   "source": [
    "# Topic 10 Fields"
   ]
  },
  {
   "cell_type": "markdown",
   "metadata": {},
   "source": [
    "## Electric field strength\n",
    "$\\begin{aligned}\n",
    "\\vec{E} &= \\frac{\\vec{F}}{q} \\\\\n",
    "\\frac{[N]}{[C]} &= \\frac{[N][m}{[C][m]} = \\frac{[J]}{[C][m]} = \\frac{[V]}{[m]}\n",
    "\\end{aligned}$\n",
    "\n",
    "Electric field strength is the force acting on the **positive** test charge per test charge.\n",
    "\n",
    "$\\begin{aligned}\\vec{F} = \\frac{k q Q}{\\vec{r}^2} \\Rightarrow \\vec{E} = \\frac{k Q}{\\vec{r}^2}\\end{aligned}$ \n",
    "where Q is the charge of the field\n",
    "\n",
    "*Electric field strength at distance $r$ from $Q$*"
   ]
  },
  {
   "cell_type": "markdown",
   "metadata": {},
   "source": [
    "## Gravitational field strength\n",
    "$\\begin{aligned}\n",
    "\\vec{g} &= \\frac{\\vec{F}}{m} \\\\\n",
    "\\frac{[N]}{[kg]} &= \\frac{[kg][m][s]^{-2}}{[kg]} = \\frac{[m]}{[s]^2} \\\\\n",
    "\\vec{W} &= m \\vec{g} \\\\\n",
    "\\vec{F} &= m \\vec{g}\n",
    "\\end{aligned}$\n",
    "\n",
    "Gravitational field strength is the force on a small test charge of mass  / mass test charge m.\n",
    "\n",
    "$\\begin{aligned}\n",
    "\\vec{F} = \\frac{G m M}{\\vec{r}^2} \\Rightarrow \\vec{g} = \\frac{GM}{\\vec{r}^2}\n",
    "\\end{aligned}$\n"
   ]
  },
  {
   "cell_type": "code",
   "execution_count": 1,
   "metadata": {},
   "outputs": [
    {
     "name": "stdout",
     "output_type": "stream",
     "text": [
      "9.7705078125\n"
     ]
    }
   ],
   "source": [
    "# Earth\n",
    "G = 6.67e-11  # gravitational constant\n",
    "M = 6e24      # mass of Earth\n",
    "r = 6400_000  # equator\n",
    "g = G * M / r**2\n",
    "print(g)"
   ]
  },
  {
   "cell_type": "code",
   "execution_count": 2,
   "metadata": {},
   "outputs": [
    {
     "name": "stdout",
     "output_type": "stream",
     "text": [
      "1388541.275943931\n"
     ]
    }
   ],
   "source": [
    "# Moon\n",
    "from math import sqrt\n",
    "\n",
    "G = 6.67e-11  # gravitational constant\n",
    "M = 7.4e22    # mass of moon\n",
    "g = 1.6       # acceleration of free fall on moon\n",
    "r = sqrt(G * M / g ** 2)\n",
    "print(r)"
   ]
  },
  {
   "cell_type": "markdown",
   "metadata": {},
   "source": [
    "If I double the mass, halve the radius, what happens to g?\n",
    "\n",
    "$2 \\times (\\frac{1}{2})^2 = 8$"
   ]
  },
  {
   "cell_type": "markdown",
   "metadata": {},
   "source": [
    "## Energy\n",
    "| Gravitational               | Electrostatic    |\n",
    "|:---------------------------:|:----------------:|\n",
    "| $\\Delta E_p = m g \\Delta h$ | $W = q \\Delta V$ |\n"
   ]
  },
  {
   "cell_type": "markdown",
   "metadata": {},
   "source": [
    "## Conservative forces\n",
    "- **conservative force**: any force which does work independent of path\n",
    "- gravitational force is a conservative force\n",
    "- friction is not conservative\n",
    "- electrostatic force is a conservative force"
   ]
  },
  {
   "cell_type": "code",
   "execution_count": null,
   "metadata": {},
   "outputs": [],
   "source": []
  }
 ],
 "metadata": {
  "kernelspec": {
   "display_name": "Python 3",
   "language": "python",
   "name": "python3"
  },
  "language_info": {
   "codemirror_mode": {
    "name": "ipython",
    "version": 3
   },
   "file_extension": ".py",
   "mimetype": "text/x-python",
   "name": "python",
   "nbconvert_exporter": "python",
   "pygments_lexer": "ipython3",
   "version": "3.6.4"
  }
 },
 "nbformat": 4,
 "nbformat_minor": 2
}
