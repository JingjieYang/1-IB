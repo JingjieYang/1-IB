{
 "cells": [
  {
   "cell_type": "markdown",
   "metadata": {},
   "source": [
    "# Topic 10 Fields"
   ]
  },
  {
   "cell_type": "markdown",
   "metadata": {},
   "source": [
    "## Electric field strength\n",
    "$\\begin{aligned}\n",
    "\\vec{E} &= \\frac{\\vec{F}}{q} \\\\\n",
    "\\frac{[N]}{[C]} &= \\frac{[N][m]}{[C][m]} = \\frac{[J]}{[C][m]} = \\frac{[V]}{[m]}\n",
    "\\end{aligned}$\n",
    "\n",
    "Electric field strength is the force acting on the **positive** test charge per test charge.\n",
    "\n",
    "$\\begin{aligned}\\vec{F} = \\frac{k q Q}{\\vec{r}^2} \\Rightarrow \\vec{E} = \\frac{k Q}{\\vec{r}^2}\\end{aligned}$ \n",
    "where Q is the charge of the field\n",
    "\n",
    "*Electric field strength at distance $r$ from $Q$*"
   ]
  },
  {
   "cell_type": "markdown",
   "metadata": {},
   "source": [
    "## Gravitational field strength\n",
    "$\\begin{aligned}\n",
    "\\vec{g} &= \\frac{\\vec{F}}{m} \\\\\n",
    "\\frac{[N]}{[kg]} &= \\frac{[kg][m][s]^{-2}}{[kg]} = \\frac{[m]}{[s]^2} \\\\\n",
    "\\vec{W} &= m \\vec{g} \\\\\n",
    "\\vec{F} &= m \\vec{g}\n",
    "\\end{aligned}$\n",
    "\n",
    "Gravitational field strength is the force on a small test charge of mass  / mass test charge m.\n",
    "\n",
    "$\\begin{aligned}\n",
    "\\vec{F} = \\frac{G m M}{\\vec{r}^2} \\Rightarrow \\vec{g} = \\frac{GM}{\\vec{r}^2}\n",
    "\\end{aligned}$\n"
   ]
  },
  {
   "cell_type": "code",
   "execution_count": 1,
   "metadata": {},
   "outputs": [
    {
     "name": "stdout",
     "output_type": "stream",
     "text": [
      "9.7705078125\n"
     ]
    }
   ],
   "source": [
    "# Earth\n",
    "G = 6.67e-11  # gravitational constant\n",
    "M = 6e24      # mass of Earth\n",
    "r = 6400_000  # equator\n",
    "g = G * M / r**2\n",
    "print(g)"
   ]
  },
  {
   "cell_type": "code",
   "execution_count": 2,
   "metadata": {},
   "outputs": [
    {
     "name": "stdout",
     "output_type": "stream",
     "text": [
      "1388541.275943931\n"
     ]
    }
   ],
   "source": [
    "# Moon\n",
    "from math import sqrt\n",
    "\n",
    "G = 6.67e-11  # gravitational constant\n",
    "M = 7.4e22    # mass of moon\n",
    "g = 1.6       # acceleration of free fall on moon\n",
    "r = sqrt(G * M / g ** 2)\n",
    "print(r)"
   ]
  },
  {
   "cell_type": "markdown",
   "metadata": {},
   "source": [
    "If I double the mass, halve the radius, what happens to g?\n",
    "\n",
    "$2 \\times (\\frac{1}{2})^2 = 8$"
   ]
  },
  {
   "cell_type": "markdown",
   "metadata": {},
   "source": [
    "## Energy\n",
    "| Gravitational               | Electrostatic    |\n",
    "|:---------------------------:|:----------------:|\n",
    "| $\\Delta E_p = m g \\Delta h$ | $W = q \\Delta V$ |\n"
   ]
  },
  {
   "cell_type": "markdown",
   "metadata": {},
   "source": [
    "## Conservative forces\n",
    "- **conservative force**: any force which does work independent of path\n",
    "- gravitational force is a conservative force\n",
    "- friction is not conservative\n",
    "- electrostatic force is a conservative force\n",
    "\n",
    "Conservative forces have a potential function attached to them:\n",
    "\n",
    "$\\begin{aligned}\n",
    "G_{P E} &= E_p = mgh\\\\\n",
    "E_{P E} &= qV\n",
    "\\end{aligned}$"
   ]
  },
  {
   "cell_type": "markdown",
   "metadata": {},
   "source": [
    "## Equations for fields\n",
    "### Potential energy\n",
    "$\\begin{aligned}\n",
    "\\overbrace{V_e}^{\\text{Electric fields}} &= \\frac{k Q}{r}\\\\\n",
    "\\overbrace{V_g}^{\\text{Gravitational fields}} &= \\frac{G m}{r}\n",
    "\\end{aligned}$\n",
    "\n",
    "### Field strength\n",
    "$\\begin{aligned}\n",
    "&= -\\underbrace{\\frac{\\Delta V_e}{\\Delta r}}_{\\text{Potential gradient}}\\\\\n",
    "g &= -\\overbrace{\\frac{\\Delta V_g}{\\Delta r}}^{\\text{Potential gradient}}\n",
    "\\end{aligned}$\n"
   ]
  },
  {
   "cell_type": "code",
   "execution_count": 3,
   "metadata": {},
   "outputs": [
    {
     "data": {
      "image/png": "[encoded data removed]",
      "text/plain": [
       "<matplotlib.figure.Figure at 0x1053b9898>"
      ]
     },
     "metadata": {},
     "output_type": "display_data"
    },
    {
     "data": {
      "image/png": "[encoded data removed]",
      "text/plain": [
       "<matplotlib.figure.Figure at 0x1087598d0>"
      ]
     },
     "metadata": {},
     "output_type": "display_data"
    }
   ],
   "source": [
    "import matplotlib.pyplot as plt\n",
    "import numpy as np\n",
    "%matplotlib inline\n",
    "\n",
    "r = np.linspace(0, 7)\n",
    "v = 2 * r\n",
    "plt.plot(r, v)\n",
    "plt.grid()\n",
    "plt.xlim(0, 7.5)\n",
    "plt.ylim(0, 14)\n",
    "plt.title(\"Looking at potential gradient graphically\")\n",
    "plt.xlabel(\"Distance from 0V in cm\")\n",
    "plt.ylabel(\"Potential (V)\")\n",
    "plt.show()\n",
    "\n",
    "plt.figure()\n",
    "plt.plot(r, np.zeros(50) - 2 * 1000)\n",
    "plt.xlabel(\"r (m)\")\n",
    "plt.ylabel(\"E (V/m)\")\n",
    "plt.yticks([-2000])\n",
    "plt.show()"
   ]
  },
  {
   "cell_type": "markdown",
   "metadata": {},
   "source": [
    "If looking at an electric field $E$\n",
    "\n",
    "    -------->----------\n",
    "        V_A > V_B\n",
    "    -------->----------\n",
    "       V_A       V_B\n",
    "        x         x\n",
    "    -------->----------\n",
    "    \n",
    "\n",
    "The potential change is opposite to the field direction."
   ]
  },
  {
   "cell_type": "markdown",
   "metadata": {},
   "source": [
    "### Potential energy can be negative\n",
    "\n",
    "               /\n",
    "             |/_\n",
    "    negative /\n",
    "            .--<-.--<--.--- at inf. V = 0V\n",
    "    charge   \\  V_A   V_B\n",
    "              \\_\n",
    "              |\\\n",
    "\n",
    "$V_A$ and $V_B$ are negative since we define $V = 0V$ at $\\inf$. This means the energy of a positive charge will be negative -> binding energy\n",
    "\n",
    "Explanation: need to do work on the positive charge to separate it from the negative charge."
   ]
  },
  {
   "cell_type": "code",
   "execution_count": 4,
   "metadata": {},
   "outputs": [
    {
     "data": {
      "image/png": "[encoded data removed]",
      "text/plain": [
       "<matplotlib.figure.Figure at 0x1053b94a8>"
      ]
     },
     "metadata": {},
     "output_type": "display_data"
    }
   ],
   "source": [
    "r = np.linspace(0, 5)\n",
    "v = np.zeros(50) + 350\n",
    "plt.plot(r, v)\n",
    "plt.xlim(0, 5)\n",
    "plt.ylim(0, 800)\n",
    "plt.yticks([350])\n",
    "plt.xticks([0, 4], ['0', '$r_A$'])\n",
    "\n",
    "plt.vlines(x=4, ymin=0, ymax=350, linestyles='--')\n",
    "\n",
    "plt.xlabel(\"r (m)\")\n",
    "plt.ylabel(\"Electric field strength (V/m)\")\n",
    "plt.title(\"Electric field strength vs r\")\n",
    "plt.show()"
   ]
  },
  {
   "cell_type": "markdown",
   "metadata": {},
   "source": [
    "The area under the graph is the change in electrical potential from 0 to $A$."
   ]
  },
  {
   "cell_type": "code",
   "execution_count": 5,
   "metadata": {},
   "outputs": [
    {
     "data": {
      "image/png": "[encoded data removed]",
      "text/plain": [
       "<matplotlib.figure.Figure at 0x1053aed30>"
      ]
     },
     "metadata": {},
     "output_type": "display_data"
    }
   ],
   "source": [
    "r = np.linspace(.1, 5)\n",
    "E = 1 / r ** 2\n",
    "plt.plot(r, E)\n",
    "plt.xlabel(\"r\")\n",
    "plt.ylabel(\"E\")\n",
    "plt.show()"
   ]
  },
  {
   "cell_type": "markdown",
   "metadata": {},
   "source": [
    "For single charge,\n",
    "\n",
    "$\\begin{aligned}\n",
    "E &= \\frac{kQ}{r^2}\\\\\n",
    "E &= -\\frac{dV}{dr}\\\\\n",
    "V &= -\\int E dr \\\\\n",
    "  &= \\frac{kQ}{r}\n",
    "\\end{aligned}$"
   ]
  },
  {
   "cell_type": "code",
   "execution_count": 6,
   "metadata": {},
   "outputs": [
    {
     "data": {
      "image/png": "[encoded data removed]",
      "text/plain": [
       "<matplotlib.figure.Figure at 0x108d699b0>"
      ]
     },
     "metadata": {},
     "output_type": "display_data"
    }
   ],
   "source": [
    "r = np.linspace(.1, 5)\n",
    "V = 1 / r\n",
    "plt.plot(r, E)\n",
    "plt.xlabel(\"r\")\n",
    "plt.ylabel(\"V\")\n",
    "plt.show()"
   ]
  },
  {
   "cell_type": "markdown",
   "metadata": {},
   "source": [
    "## Field in a spherical conductor\n",
    "- uniform inside sphere\n",
    "- ouside treat as point charge"
   ]
  },
  {
   "cell_type": "markdown",
   "metadata": {},
   "source": [
    "$\\begin{aligned}\n",
    "\\frac{G M}{r^2} \\times r &= \\frac{G M}{r} \\\\\n",
    "\\frac{[N]}{[kg]} = \\frac{[m]}{[s]^{-2}} \\times m &= \\frac{[N] [m]}{[kg]} = \\frac{[J]}{[kg]}\n",
    "\\end{aligned}$"
   ]
  },
  {
   "cell_type": "code",
   "execution_count": null,
   "metadata": {},
   "outputs": [],
   "source": []
  }
 ],
 "metadata": {
  "kernelspec": {
   "display_name": "Python 3",
   "language": "python",
   "name": "python3"
  },
  "language_info": {
   "codemirror_mode": {
    "name": "ipython",
    "version": 3
   },
   "file_extension": ".py",
   "mimetype": "text/x-python",
   "name": "python",
   "nbconvert_exporter": "python",
   "pygments_lexer": "ipython3",
   "version": "3.6.4"
  }
 },
 "nbformat": 4,
 "nbformat_minor": 2
}
