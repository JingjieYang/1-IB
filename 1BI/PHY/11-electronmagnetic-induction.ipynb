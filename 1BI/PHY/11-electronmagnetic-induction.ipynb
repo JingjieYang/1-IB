{
 "cells": [
  {
   "cell_type": "markdown",
   "metadata": {},
   "source": [
    "# Electromagnetic induction\n",
    "Magnet moving through a solenoid.\n",
    "\n",
    "```\n",
    "Setup:\n",
    "+----|V|----+\n",
    "|           |\n",
    "+\\\\\\\\\\\\\\\\\\\\\\+\n",
    "      -->\n",
    "  |Magnet|\n",
    "   <-- \n",
    "```\n",
    "\n",
    "What happens when a magnet is moved through a solenoid?\n",
    "\n",
    "What happens when \n",
    "- magnet is flipped around?\n",
    "- motion is faster?"
   ]
  },
  {
   "cell_type": "code",
   "execution_count": 1,
   "metadata": {},
   "outputs": [
    {
     "data": {
      "image/png": "[encoded data removed]",
      "text/plain": [
       "<Figure size 432x288 with 1 Axes>"
      ]
     },
     "metadata": {},
     "output_type": "display_data"
    }
   ],
   "source": [
    "import matplotlib.pyplot as plt\n",
    "%matplotlib inline\n",
    "\n",
    "xs = range(16)\n",
    "vs = [0, 0.25, 0, -0.25, 0, 0.5, 0, 0.2, 0, -0.19, 0, 0.18, 0, -0.17, 0, 0.16]\n",
    "plt.plot(xs, vs)\n",
    "plt.hlines(y=0, xmin=0, xmax=15)\n",
    "plt.xlabel(\"time (s)\")\n",
    "plt.ylabel(\"Potential difference (V)\")\n",
    "plt.xticks([1, 3, 5, 11], [\"Fall\", \"Flipped\", \"Faster\", \"Oscillation\"])\n",
    "plt.title(\"Magnet dropped through a solenoid\");\n"
   ]
  },
  {
   "cell_type": "markdown",
   "metadata": {},
   "source": [
    "The magnet moving in the coil creates a changing magnetic field. This, due to the Lorentz force, induces an emf in the coil. \n",
    "\n",
    "If the coil is connected to a circuit, then a current will flow.\n",
    "\n",
    "But a current induces a magnetic field. To avoid energy conservation problem, the induced magnetic field must oppose the change that created it. => Lenz's Law"
   ]
  },
  {
   "cell_type": "markdown",
   "metadata": {},
   "source": [
    "Use\n",
    "\n",
    "1. Lenz's law\n",
    "2. Field lines\n",
    "3. Direction of B from I\n",
    "\n",
    "### Magnet falling through coil\n",
    "\n",
    "    +-+/\\\n",
    "    |S|  \\\n",
    "    | | /|\\\n",
    "    |N|  /\n",
    "    +-+\\/\n",
    "    \n",
    "    /-\\\n",
    "    \\-/  <- coil\n",
    "\n",
    "Initially, the B field is increasing and pointing down. \n",
    "To oppose this change, current induced must create B field upwards.\n",
    "Current is induced counterclockwise (right hand cockscrew rule).\n",
    "\n",
    "As the magnet leaves the coil, B field points down but is decreasing. \n",
    "B field induced must be downwards to oppose that change.\n",
    "Current is clockwise.\n",
    "\n",
    "\n",
    "        |\n",
    "        | /\\\n",
    "        |/  \\\n",
    "    emf +----\\------- \n",
    "        |     \\    /\n",
    "        |      \\  /\n",
    "        |       \\/"
   ]
  },
  {
   "cell_type": "markdown",
   "metadata": {},
   "source": [
    "- What happens if we flip the magnet?  \n",
    "\n",
    "the opposite\n",
    "\n",
    "- If coil moves past magnet?\n",
    "\n",
    "\n",
    "    /-\\  |\n",
    "    \\-/ \\|/\n",
    "\n",
    "    +-+/\\\n",
    "    |S|  \\\n",
    "    | | /|\\\n",
    "    |N|  /\n",
    "    +-+\\/\n",
    "\n",
    "same as first case\n"
   ]
  },
  {
   "cell_type": "markdown",
   "metadata": {},
   "source": [
    "- `Magnetic flux density`\n",
    "    - numerically equivalent to magnetic field strength $B$\n",
    "    - unit: $Wb / m^2$\n",
    "    - tells us density of field lines per unit area\n",
    "- `Magnetic flux`\n",
    "    - tells us amount of \"$B$ going through surface $A$\"\n",
    "    - M flux is $B \\times A$\n",
    "\n",
    "            B   ----->  /| surface area A\n",
    "                -----> | |\n",
    "                -----> | |\n",
    "                -----> | |\n",
    "                -----> |/\n",
    "\n",
    "    - Only take component normal to surface to calculate flux:  \n",
    "    M flux $\\phi = B A \\cos \\theta$\n",
    "            \n",
    "            B \\ \\ \\θ|\n",
    "               \\ \\ \\| \n",
    "              ------- surface\n",
    "    - in Webers\n",
    "- `Magnetic flux linkage`\n",
    "    - $= N \\phi$\n",
    "    - where $N$ is the number of loops\n",
    "    - in Weber turns\n",
    "\n",
    "Emf induced\n",
    "\n",
    "$\\epsilon = -\\frac{N \\Delta \\phi}{\\Delta t} = -\\frac{d N B A \\cos\\theta}{dt}$\n",
    "    "
   ]
  },
  {
   "cell_type": "markdown",
   "metadata": {},
   "source": [
    "## Power generation, alternating current\n",
    "\n",
    "Generating power: \n",
    "- oil, gas, coal\n",
    "- solar\n",
    "- tidal\n",
    "- wave\n",
    "- hydro\n",
    "- nuclear\n",
    "- wind\n",
    "- geothermal\n",
    "\n",
    "When a coil spins in a uniform magnetic field, the emf that is induced periodically changes polarity."
   ]
  },
  {
   "cell_type": "markdown",
   "metadata": {},
   "source": [
    "### Explicative diagrams\n",
    "\n",
    "    1. |  coil made to spin \n",
    "      +-+     Flux through\n",
    "    X | | X   coil is at a\n",
    "      +-+          MAX\n",
    "       X\n",
    "         \n",
    "    2. |\n",
    "       /|     Flux through\n",
    "    X | | X   coil decreases\n",
    "      |/\n",
    "       X      => emf increases\n",
    "\n",
    "    3. |\n",
    "       |      Flux through\n",
    "    X  | X    coil is 0\n",
    "       |\n",
    "       X\n",
    "\n",
    "    4. |\n",
    "      |\\      Flux through\n",
    "    X | | X   coil increases\n",
    "       \\|\n",
    "       X      => emf decreasees\n"
   ]
  },
  {
   "cell_type": "code",
   "execution_count": 2,
   "metadata": {},
   "outputs": [
    {
     "data": {
      "image/png": "[encoded data removed]",
      "text/plain": [
       "<Figure size 432x288 with 1 Axes>"
      ]
     },
     "metadata": {},
     "output_type": "display_data"
    }
   ],
   "source": [
    "import numpy as np\n",
    "\n",
    "theta = np.linspace(0, 2 * np.pi, 100)\n",
    "epsilon = np.sin(theta)\n",
    "plt.plot(theta, epsilon)\n",
    "plt.xlabel('t')\n",
    "plt.ylabel('$\\epsilon$')\n",
    "\n",
    "plt.yticks([0])\n",
    "plt.xticks([0, np.pi / 2, np.pi, 3 * np.pi / 2], '1234')\n",
    "\n",
    "plt.hlines(y=0, xmin=0, xmax=2 * np.pi)\n",
    "for x_coord in (0, np.pi / 2, np.pi, 3 * np.pi / 2):\n",
    "    plt.vlines(x=x_coord, ymin=-1, ymax=1, linestyle='--')\n",
    "\n",
    "plt.show()"
   ]
  },
  {
   "cell_type": "markdown",
   "metadata": {},
   "source": [
    "This graph is the derivative of $B A \\cos\\theta$ with respect to time, multiplied by -1  \n",
    "-> $\\sin\\theta$ function"
   ]
  },
  {
   "cell_type": "markdown",
   "metadata": {},
   "source": [
    "Electromagnetic induction is the primary mode of electrical current, which is why we mostly use AC."
   ]
  },
  {
   "cell_type": "markdown",
   "metadata": {},
   "source": [
    "The amplitude can be increased by:\n",
    "- increasing $N$\n",
    "- increasing speed of rotation (which will also increase the frequency)\n",
    "- increasing the value of $B$\n",
    "- increasing $A$"
   ]
  },
  {
   "cell_type": "markdown",
   "metadata": {},
   "source": [
    "$V$ and $I$ are functions of time; they are in phase.\n",
    "\n",
    "$\\begin{aligned}\n",
    "P(t) \n",
    "&= I^2(t) R \\\\\n",
    "&= \\frac{V^2(t)}{R}\n",
    "\\end{aligned}$"
   ]
  },
  {
   "cell_type": "code",
   "execution_count": 3,
   "metadata": {},
   "outputs": [
    {
     "data": {
      "text/plain": [
       "Text(0,0.5,'P')"
      ]
     },
     "execution_count": 3,
     "metadata": {},
     "output_type": "execute_result"
    },
    {
     "data": {
      "image/png": "[encoded data removed]",
      "text/plain": [
       "<Figure size 432x288 with 1 Axes>"
      ]
     },
     "metadata": {},
     "output_type": "display_data"
    }
   ],
   "source": [
    "t = np.linspace(0, 2 * np.pi, 50)\n",
    "R = 1\n",
    "P = np.sin(t) ** 2 / R\n",
    "plt.plot(t, P)\n",
    "plt.xlabel('t')\n",
    "plt.ylabel('P')"
   ]
  },
  {
   "cell_type": "markdown",
   "metadata": {},
   "source": [
    "### RMS values for AC circuits\n",
    "\n",
    "$\\begin{aligned}\n",
    "I_{RMS} &= \\frac{I_{max}}{\\sqrt{2}} \\\\\n",
    "V_{RMS} &= \\frac{V_{max}}{\\sqrt{2}} \\\\\n",
    "P_{RMS} &= I_{RMS} V_{RMS} = \\frac{P}{2}\n",
    "\\end{aligned}$"
   ]
  },
  {
   "cell_type": "markdown",
   "metadata": {},
   "source": [
    "## Transformers\n",
    "- Electrical component that changes an input voltage to an output voltage\n",
    "- increase voltage -> step up transformer\n",
    "    - used after production to ramp up voltage in high voltage powerlines. High voltage is required to reduce current at equivalent power and therefore reduce heatlosses / increase efficiency\n",
    "- decrease voltage -> step down transformer\n",
    "    - used for example to adapt the voltage to customer's needs (e.g. industry needs high V, home consumers need low V)"
   ]
  },
  {
   "cell_type": "markdown",
   "metadata": {},
   "source": [
    "## Design of a transformer\n",
    "       Iron core\n",
    "    +-------------+\n",
    "    |   +-----+   |\n",
    "    |\\_/|     |/-\\|\n",
    "    |\\_/|     |/-\\|\n",
    "    |\\_/|     |/-\\|\n",
    "    +---+     +---+\n",
    "    Primary   Secondary\n",
    "     coil      coil\n",
    "\n",
    "Apply voltage to it, current through it induces a changing $\\bf{B}$ field.\n",
    "\n",
    "$\\begin{aligned}\n",
    "\\frac{V_P}{V_S} = \\frac{N_P}{N_S} = \\frac{I_S}{I_P}\n",
    "\\end{aligned}$\n",
    "\n",
    "- $V_P$ and $V_S$ are the voltages across **P**rimary and **S**econdary coils.\n",
    "- $N_P$ and $N_S$ -> number of coils in P and S\n",
    "\n",
    "The iron cone directs the magnetic flux from the primary to the secondary.\n",
    "\n",
    "Tue flux is varying, induces and emf in S coil."
   ]
  },
  {
   "cell_type": "markdown",
   "metadata": {},
   "source": [
    "### Research: \n",
    "##### - factors affecting T efficiency\n",
    "##### - why & how they affect it\n",
    "##### - what can be done to prevent the losses?\n",
    "- heating effect of the current\n",
    "    - replace wire by better conductors\n",
    "    - make wire by thicker\n",
    "- magnetic hysterosis(?)\n",
    "- flux leakage\n",
    "    - prevention: isolate \n",
    "- eddy current\n",
    "    - current inside the wire\n",
    "    - "
   ]
  },
  {
   "cell_type": "code",
   "execution_count": null,
   "metadata": {},
   "outputs": [],
   "source": []
  }
 ],
 "metadata": {
  "kernelspec": {
   "display_name": "Python 3",
   "language": "python",
   "name": "python3"
  },
  "language_info": {
   "codemirror_mode": {
    "name": "ipython",
    "version": 3
   },
   "file_extension": ".py",
   "mimetype": "text/x-python",
   "name": "python",
   "nbconvert_exporter": "python",
   "pygments_lexer": "ipython3",
   "version": "3.6.4"
  }
 },
 "nbformat": 4,
 "nbformat_minor": 2
}
