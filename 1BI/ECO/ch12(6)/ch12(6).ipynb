{
 "cells": [
  {
   "cell_type": "markdown",
   "metadata": {},
   "source": [
    "# Les défaillances du marché\n",
    "## ou\n",
    "# l'échec du marché\n",
    "### **sous-titre**: l'analyse économique du secteur publique\n",
    "\n",
    "---"
   ]
  },
  {
   "cell_type": "markdown",
   "metadata": {},
   "source": [
    "### Dº `externalité`\n",
    "Une `externalité` est l'effet ou impact des acteurs économiques sur le bien-être d'autrui (exemple: pollution sonore par l'aéroport) sans que cet effet soit pris en considération par le marché.\n",
    "\n",
    "---"
   ]
  },
  {
   "cell_type": "markdown",
   "metadata": {},
   "source": [
    "# I. Différents types du m. défaillant\n",
    "### Exclusivité et divisibilité \n",
    "- excluable (ou non-exc.)\n",
    "  - Un bien `excluable`: il n'est pas accessible à toutes les personnes.\n",
    "- divisibilité\n",
    "  - Dº: L'utilisation d'un produit par quelqu'un ne nuit pas à son utilisation par quelqu'un d'autre."
   ]
  },
  {
   "cell_type": "markdown",
   "metadata": {},
   "source": [
    "# I. Différents types du m. défaillant"
   ]
  },
  {
   "cell_type": "markdown",
   "metadata": {},
   "source": [
    "### Exclusivité et divisibilité \n",
    "- excluable (ou non-exc.)\n",
    "  - Un bien `excluable`: il n'est pas accessible à toutes les personnes.\n",
    "- divisibilité\n",
    "  - Dº: L'utilisation d'un produit par quelqu'un ne nuit pas à son utilisation par quelqu'un d'autre.\n",
    "\n",
    "Exemple: Le cornet de glace est excluable (一个人吃了其他人就不能吃); il est aussi divisible (可以分)."
   ]
  },
  {
   "cell_type": "markdown",
   "metadata": {},
   "source": [
    "## Introduction: 4 types de biens\n",
    "|                     | b. privés (collectifs) | b. publics | ressources communes | monopoles naturels |\n",
    "|---------------------|:----------------------:|:----------:|:-------------------:|:------------------:|\n",
    "| excluables (rivaux) |           √            |      X     |          X          |         √          |\n",
    "| divisible           |           √            |      X     |          √          |         X          |\n",
    "\n",
    "- biens communs = ressources communes\n",
    "- La notion des ressources communes: il s'agit d'un bien patriomonial qui est juridique et socio-politique partagé par les membres d'une communauté (pays, village, quartier, etc.).\n",
    "- `patrimoine`\n",
    "- un monopole est une structure de marché caractérisée par le présence d'un seul offreur et une multitude de demandeurs.\n",
    "- exemple du monopole naturel: pompier -> la lutte contre une incendie dans la ville\n",
    "- les monopoles naturels sont excluables mais non-divisibles.\n",
    "- Musgrave: professeur de économie publique\n",
    "  - il fait une distinction entre les b. collectifs / publiques et les b. dits tutélaires = b. de valeur = merit goods\n",
    "  - c'est équivalent d'un bien sur la consommation duquel l'Etat exerce une tutelle.\n",
    "  - càd l'Etat intervient pour encourager OU décourager le publique à consommer tel produit.\n",
    "    - décourager: cigarettes\n",
    "    - encourager: prendre les transports communs\n",
    "  - un bien tutélaire peut provoquer des externalités positives ou négatives."
   ]
  },
  {
   "cell_type": "markdown",
   "metadata": {},
   "source": [
    "## 1) Manque de b. publics\n",
    "moyens:\n",
    "\n",
    "- subvention -> position sociale\n",
    "- taxes -> politique fiscale\n",
    "- producteur"
   ]
  },
  {
   "cell_type": "markdown",
   "metadata": {},
   "source": [
    "## 2) Manque d'approvisionnement de b. bénéfique ou b. de valeur"
   ]
  },
  {
   "cell_type": "markdown",
   "metadata": {},
   "source": [
    "## 3) Abondance de b. nocifs = de b. nuisibles\n",
    "moyens:\n",
    "\n",
    "- économique -> prix /\n",
    "- juridique -> interdiction\n",
    "- fiscal -> taxe"
   ]
  },
  {
   "cell_type": "markdown",
   "metadata": {},
   "source": [
    "## 4) Externalités\n",
    "externalité négative: impact sur le prix & quantité: taxe -> pénurie \n",
    "\n",
    "Les externalités négatives ont un effet un coût social, la plupart du temps liée à l'enviornnement. Ce coût social est à comparer avec le coût de production de l'entreprise. \n",
    "\n",
    "### coût social < côut de production\n",
    "L'entreprise continuera à faire des bénéfices. \n",
    "\n",
    "### coût social = côut de production\n",
    "L'entreprise ne fera pas de bénéfice mais ne perd pas non plus.\n",
    "\n",
    "### coût social > côut de production\n",
    "perte forte\n",
    "\n",
    "- coût privé (les coûts propres (en lien avec) au marché en question)\n",
    "- coût social / externe\n",
    "- coût de production = coût privé + coût social\n",
    "\n",
    "- coût marginal social / externe \n",
    "    - le coût marginal social correspond au coût social de la dernière unité produite.\n",
    "- coût marginal privé\n",
    "    - coût de dernière unité produite sur le marché en question (exemple: aluminium)\n",
    "\n",
    "politique fiscale: imposer une taxe = coût externe de production\n",
    "\n",
    "=> le gouvernement internalise les externalités dans le marché."
   ]
  },
  {
   "cell_type": "markdown",
   "metadata": {},
   "source": [
    "## b) Les externalités à la consommation\n",
    "Les externalités peuvent concerner aussi la consommation de certains types de produits. Par exemple, l'alcool génère des effets d'externalités négatifs. Un service d'éducation va générer des effets d'externalité positifs.\n",
    "\n",
    "L'analyse de l'externalité à la consommation est similaire de celle de l'externalité à la prouduction. \n",
    "\n",
    "### Ext. < 0 à la consommation\n",
    "- la valeur sociale est inférieure à la valeur privée\n",
    "- retrécissement du marché\n",
    "\n",
    "### Ext. < 0 à la consommation\n",
    "- la valeur sociale est supérieure à la valeur privée\n",
    "- élargissement du marché\n",
    "\n",
    "internaliser des externalités"
   ]
  },
  {
   "cell_type": "markdown",
   "metadata": {},
   "source": [
    "# II. Accès aux ressources communes et examen d'autres menaces à l'écnomoie durable"
   ]
  },
  {
   "cell_type": "markdown",
   "metadata": {},
   "source": [
    "## 1. Accès aux ressources naturelles\n",
    "OSTROM - solutions:\n",
    "    - nationalisation\n",
    "    - privatisation 民营化\n",
    "\n",
    "Pour les biens communs, Elinor Ostrom propose plusieurs solutions: la privatisation ou la nationalistation et l'administration des ressources naturelles par des utilisateurs eux-mêmes de façon démographique."
   ]
  },
  {
   "cell_type": "markdown",
   "metadata": {},
   "source": [
    "## 2. D'autres menaces\n",
    "- sur-exploitation des ressources naturelles\n",
    "- déforestation\n",
    "- erosion des énergies fossiles"
   ]
  },
  {
   "cell_type": "markdown",
   "metadata": {},
   "source": [
    "## 3. L'utilisation des énergies fossiles"
   ]
  },
  {
   "cell_type": "markdown",
   "metadata": {},
   "source": [
    "## 4. Les réponses du gouvernement\n",
    "- natinoal\n",
    "- international\n",
    "- mondial\n",
    "\n",
    "Instruments:\n",
    "- la réglementation\n",
    "- la taxe avec Pigou et le principe du pollueur-payeur\n",
    "    - taxe forfaitaire\n",
    "    - taxe ad valorem\n",
    "- les quotas avec le marché des droits des permis à polluer\n"
   ]
  }
 ],
 "metadata": {
  "kernelspec": {
   "display_name": "Python 3",
   "language": "python",
   "name": "python3"
  },
  "language_info": {
   "codemirror_mode": {
    "name": "ipython",
    "version": 3
   },
   "file_extension": ".py",
   "mimetype": "text/x-python",
   "name": "python",
   "nbconvert_exporter": "python",
   "pygments_lexer": "ipython3",
   "version": "3.6.1"
  }
 },
 "nbformat": 4,
 "nbformat_minor": 2
}
