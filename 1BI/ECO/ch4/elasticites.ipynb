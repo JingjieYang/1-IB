{
 "cells": [
  {
   "cell_type": "markdown",
   "metadata": {},
   "source": [
    "## Chapitre 4: Les élasticités\n",
    "\n",
    "Lorsque nous avons étudié les déterminants de la demance (ch2), nous avons remarqué que les acheteurs demandent en général plus q'un produit \n",
    "\n",
    "- quand le prixde celui-ci est bas,\n",
    "- quand leurs revenus sont plus élevés,\n",
    "- quand le prix des produits de substitution est plus élevé,\n",
    "- quand le prix des produits complémentaires est inférieur.\n",
    "\n",
    "L'analyse de la demande ou de l'offre était qualitative, pas quantitative càd qu'elle portait sur le sens du changement (hausse ou basse) mais pas sur la taille cà la grandeur ou la dimension.\n",
    "\n",
    "Pour transformer les courbes d'offre et de demande en instruments vraiment utiles, nous devons savoir dans quelle mesure l'O et la D réagissent à des variations de prix?  \n",
    "Pas seulement comment mais combien.\n",
    "\n",
    "Pour mesurer somment la demande ou l'offre répondent aux variation de ses déterminants, les économistes utilisent un outil suplémentaire: le concept d'élasticité.\n",
    "\n",
    "**Dº**: `l'elasticité` qui mesure l'ampleur (quantité) de la réponse des acheteurs et des vendeurs aux modifications des conditions de marché, nous permet d'analyser l'offre et la demande plus précisément.\n"
   ]
  },
  {
   "cell_type": "markdown",
   "metadata": {},
   "source": [
    "# I. L'élasticité prix de la demande\n",
    "\n",
    "Considérons d'abord la réaction de la demande des consommateurs à des variations de prix.\n"
   ]
  },
  {
   "cell_type": "markdown",
   "metadata": {},
   "source": [
    "## A. L'élasticité prix de la demande (EPD ou $e_p$)\n"
   ]
  },
  {
   "cell_type": "markdown",
   "metadata": {},
   "source": [
    "### 1. Définition et formule\n"
   ]
  },
  {
   "cell_type": "markdown",
   "metadata": {},
   "source": [
    "#### a) Dº\n",
    "\n",
    "`L'élasticité de la demande par rapport au prix`, également appelé élasticité-prix de la demande, mesure de combien varie la quantité demandée quand son prix change.  \n",
    "NB: Toujours « toutes choses égales par ailleurs » (*ceteris paribus*)\n",
    "\n",
    "L'élasticité-prix de la demande varie beaucoup selon les biens.  \n",
    "Quand elle est élevée, nous disons que le bien a une demande élastique ce qui signifie que la quantité demandée réagit fortement à des variations de prix.  \n",
    "Quand elle est faible, nous disons que la demande est inélastique ou rigide, ce qui signifie que la quantité demandée réagit faiblement à des variations de prix.\n",
    "\n",
    "Des faceturs économiques déterminent l'ampleur de l'élasticité-prix des différents biens: les élasticités tendent à être plus élevées:\n",
    "\n",
    "- quand les produits sont des biens de luxe,\n",
    "- quand il existe des biens de remplacement ou de substitution\n",
    "- quand les consommateurs disposent de plus de temps pour ajuster leur comportement.\n"
   ]
  },
  {
   "cell_type": "markdown",
   "metadata": {},
   "source": [
    "#### b) Formule du calcul de l'$e_p$\n",
    "\n",
    "Elle se définit par le rapport entre la variation en % de la quantité demandée de B&S et le variation en % du prix.\n",
    "\n",
    "$EPD = \\frac{\\Delta \\text{ en } \\% Q_D}{\\Delta \\text{ en } \\% P} = \\frac{\\frac{V_F - V_I}{V_I} \\times 100}{\\frac{V_F - V_I}{V_I} \\times 100}$\n",
    "\n",
    "$V_{\\text{Initial, au départ}} \\Rightarrow V_{\\text{finale arrivé}}$  \n",
    "$V_I \\Rightarrow V_A \\text{ ou } V_F$\n"
   ]
  },
  {
   "cell_type": "markdown",
   "metadata": {},
   "source": [
    "### 2. La diversité des EPD\n",
    "\n",
    "Les économistes classent les courbes de demande en fonction de leur élasticité.\n",
    "\n",
    "- **|EPD| > 1**, la demande est dite élastique si son élasticité est supérieur à 1, ce qui signifie que la quantité change proportionnellement plus que les prix. Cela signifie aussi que la part de ces B&S augmente dans la consommation totale. Il suffit alors d'une légère baisse du prix pour induire une forte hausse de la demande. Ex: les loisirs.\n",
    "- **0 < EPD < 1**, le bien est inélastique ce qui signifie que le % de variation de la quantité demandée est < à la variation du prix.\n",
    "- **EPD = 0**, la quantité demandé est parfaitement inélastique. Il n'y a pas de variation de la quantité demandée avec le prix.\n",
    "- **EPD < 1**, la demande est dite rigide ou inélastique si son élasticité est inférieure à 1, ce qui signifie que la quantité bouge proportionnellement moins que le prix. Dans ce cas, il faut d'importantes variations du prix pour modifier la quantité demandee de B&S.\n",
    "- **EPD = 1**, si l'élasticité est égale à 1, l'élasticité est dite unitaire, ce qui signifie que la quantité bouge dans la même proportion que le prix."
   ]
  },
  {
   "cell_type": "code",
   "execution_count": 1,
   "metadata": {},
   "outputs": [
    {
     "data": {
      "image/png": "[encoded data removed]",
      "text/plain": [
       "<matplotlib.figure.Figure at 0x112de6550>"
      ]
     },
     "metadata": {},
     "output_type": "display_data"
    }
   ],
   "source": [
    "import matplotlib.pyplot as plt\n",
    "import numpy as np\n",
    "%matplotlib inline\n",
    "\n",
    "prix = np.linspace(0, 2)\n",
    "\n",
    "plt.figure()\n",
    "plt.plot(-prix, np.zeros(50) + 1)\n",
    "plt.plot(prix * -4 + 3, prix)\n",
    "plt.plot(prix * -1, prix)\n",
    "plt.plot(prix * -.125 - .875, prix)\n",
    "plt.plot(np.zeros(50) - 1, prix)\n",
    "plt.ylabel(\"Prix ($)\")\n",
    "plt.xlabel(\"Quantité demandée de B&S\")\n",
    "plt.xlim([-2, 0])\n",
    "plt.ylim([0, 2])\n",
    "plt.xticks([])\n",
    "plt.yticks([0])\n",
    "plt.legend([\"$e \\\\rightarrow \\infty$\", \"$e > 1$\", \"$e = 1$\", \"$0 < e < 1$\", \"$e \\\\rightarrow 0$\"])\n",
    "plt.show()"
   ]
  },
  {
   "cell_type": "markdown",
   "metadata": {},
   "source": [
    "### 3. Les déterminants de l'EPD\n",
    "#### a) Les iens essentiels ont en général une demande rigide, tandis que les articles de luxe ont une demande élastique.  \n",
    "Ex. Quand le prix de la consultation médicale augmente, les demandeurs ne réduisent pas significativement leur demande de consultation médicale.  \n",
    "En revanche, si le prix des voiliers augmente, la quantité demandée va chuter significativement.\n",
    "\n",
    "#### b) Le nombre de substituts proches\n",
    "Plus un produit a des substituts, plus la demande est élastique car il est facile d'en trouver un autre. Ex: le beurre et la margarine.  \n",
    "En effet lorsque les consommateurs n'ont aucun mal à passer des uns aux autres, moins alors il y a de la rigidité. Ex. l'essencde de l'œuf.\n",
    "\n",
    "#### c) La nécessité du produit et comment généralement le produit est défini.\n",
    "Cela dépend de la façon dont le marché est défini, comment il est ocnfiguré: soit de façon précise, soit de façon flou. Si le marché définit clairement les biens, alors il est facile de trouver des biens et donc la demande sera élastique.  \n",
    "La nourriture est nécessaire (d'où la rigidité) cependant il y a de nombreuses et différentes possibilités de se nourrir (d'où l'élasticité)\n",
    "\n",
    "#### d) La période de temps considérée ou les horizons temporels\n",
    "La demande est d'autant plus élastique que les horizons temporels sont éloignés.  \n",
    "Ex. Quand le prix de l'essence augmente, la quantité consommée baisse peu les premiers mois. Au fur et à mesure que le temps passe en revanche, les consommateurs finissent par acheter des voitures qui consomment moins, ou utilisent les transports publics ou déménagent plus près de leur lieu de travail. Après quelques années, la demande d'essence aura bien baissé."
   ]
  },
  {
   "cell_type": "markdown",
   "metadata": {},
   "source": [
    "### 4. L'EPD et la taxation\n",
    "Le gouvernement a besoin de connaître les effets possibles de l'imposition des taxes indirectes sur les produits (Ex: TVA)  \n",
    "S'il met une taxe sur un produit alors le prix de ce produit augmentera et la quantité demandée de ce produit baissera.  Cela peut avoir des conséquences sur l'emploi de l'industrie concernée (en question). L'emploi baissem il y a des risques de chômage.  \n",
    "Et si la demande de ce produit est très élastique, les conséquences sur l'emploi seront amplifiées (plus grandes). Cf. ch5"
   ]
  },
  {
   "cell_type": "markdown",
   "metadata": {},
   "source": [
    "## B. L'élasticité croisée de la demande\n"
   ]
  },
  {
   "cell_type": "markdown",
   "metadata": {},
   "source": [
    "### a) Définition\n",
    "`L'é. croisée` mesure la variation de la demande (ou de l'offre) d'un premier bien soit A en fonction de la variation du prix d'un autre bien soit B.  \n",
    "Ex. Si la demande de thé augmente de 20% quand le prix du café augmente de 10%, l'é. croisée est de 2."
   ]
  },
  {
   "cell_type": "markdown",
   "metadata": {},
   "source": [
    "### b) Formule\n",
    "$\\text{é. croisée /D} = \\frac{\\text{Vº en % de la quantité du bien A}}{\\text{Vº en % du prix du bien B}}$"
   ]
  },
  {
   "cell_type": "markdown",
   "metadata": {},
   "source": [
    "- L'é-p croisée/D est positive, les 2 biens (A et B) sont de substituts ou **substituables**. Les biens dans ce cas sont capables de satisfaire un même besoin.  Ex. 2 téléphones portables de marques différentes\n",
    "- L'é-p croisée/D est négative, les 2 biens sont **complémentaires**. Si le prix du bien B augmentent, la quantité demandée du bien A diminue. Il faut dans ce cas que la consommation soit simultanée. Ex. Le cuir et le sac en cuir.\n",
    "- L'é-p croisée/D est égale à 0, les 2 biens sont **indépendants**. Dans ce cas, la variation du prix d'un premier bien soit A, n'affecte pas du otut la variation de la quantité d'un autre bien soit B."
   ]
  },
  {
   "cell_type": "markdown",
   "metadata": {},
   "source": [
    "## C. L'élasticité-revenu de la demande (ERD)"
   ]
  },
  {
   "cell_type": "markdown",
   "metadata": {},
   "source": [
    "### 1. Définition et formule\n",
    "#### a) Dº\n",
    "`L'é-revenu de la demande` mesure comment la quantité demandée d'un bien évolue quand le revenu du consommateur change.  \n",
    "Quelle est la sensibilité de la quantité demandée d'un produit à la variation du revenu du ménage qui consomme.  \n",
    "Par ex. la demande de pain 2% quand le revenu augmente de 3$.\n",
    "\n",
    "#### b) Formule\n",
    "$\\text{é-revenu/D} = \\frac{\\text{Vº en % de la quantité demandée de B&S}}{\\text{Vº en % du revenu}}$"
   ]
  },
  {
   "cell_type": "markdown",
   "metadata": {},
   "source": [
    "### 2. La diversité des e-r de la D (ERD)\n",
    "#### $ERD > 0$\n",
    "biens normaux\n",
    "\n",
    "#### $ERD < 0$\n",
    "biens inférieurs\n",
    "\n",
    "Ex: pommes de terre, margarine, pain, trajets\n",
    "\n",
    "*biens de Giffen*\n",
    "\n",
    "#### $ERD = 0$\n",
    "la quantité demandée ne change pas avec le revenu.\n",
    "\n",
    "Ex: chauffage\n",
    "\n",
    "#### $0 < ERD < 1$\n",
    "demande inélastique\n",
    "\n",
    "#### $ERD > 1$\n",
    "bien supérieur"
   ]
  },
  {
   "cell_type": "markdown",
   "metadata": {},
   "source": [
    "#### `La loi d'ENGEL`\n",
    "\"Plus un individu, une famille, un peuple sont pauvres, plus grand est le % de leurs revenus qu'ils doivent consacrer à leur entretien physique dont la nourriture représente la part la plus importante.\"\n",
    "\n",
    "Cette 1ère loi a été énoncée par Ernst Engel, économiste et statisticien allemand (1821 - 1896) dans une étude des budgets des familles publiée en 1857 et complétée en 1895. Cf. Représentation de la loi d'Engel (manuel p.56)\n",
    "\n",
    "2ème loi: la part des dépenses consacrées aux vêtements est approximativement la même quelque soit le revenu.  \n",
    "NB: les lois suivantes ne sont pas d'ENGEL mais découle de la 1ère loi.\n",
    "\n",
    "3ème loi: La part des dépenses consacrés à l'habitation, le chauffage, l'éclairage est quasiment invariables lorsque le revenu augmente.\n",
    "\n",
    "4ème loi: la part des dépenses consacrées aux services comme la santé, l'éducation et les loisirs s'accroît avec le revenu."
   ]
  },
  {
   "cell_type": "markdown",
   "metadata": {},
   "source": [
    "# II. L'élasticité prix de l'offre (EPO)"
   ]
  },
  {
   "cell_type": "markdown",
   "metadata": {},
   "source": [
    "## 1. L'elasticité prix de l'offre"
   ]
  },
  {
   "cell_type": "markdown",
   "metadata": {},
   "source": [
    "### A. Dº et formule\n",
    "La loi de l'offre stipule que la quantité fournie augmente avec le prix et l'EPO est normalement > 0. (Cf. la loi de l'offcre ch2)\n",
    "\n",
    "L'élasticité est > 1 car la quantité offerte a évolué proportionnellement plus que le prix.\n",
    "\n",
    "### B. La diversité de EPO\n",
    "L'élasticité permet de la courbe d'offre.\n",
    "\n",
    "#### $EPO > 1$\n",
    "offre = élastique  \n",
    "Ex: Les biens manufacturés ont des offres élastiques car il est possible d'augmenter leur production quand le prix augmente\n",
    "\n",
    "#### $0 < EPO < 1$\n",
    "inélastique\n",
    "\n",
    "#### $EPO = 0$\n",
    "parfaitement inélastique\n",
    "\n",
    "#### $EPO < 1$\n",
    "offre = rigide ou inélastique  \n",
    "Ex: L'offre de terrains en bord de mer est rigide car il est impossible d'en construire plus.\n",
    "\n",
    "#### $EPO = 1$\n",
    "élasticité = unitaire\n",
    "\n",
    "Représentations des différentes élasticités-prix (p.57, 58)"
   ]
  },
  {
   "cell_type": "markdown",
   "metadata": {},
   "source": [
    "On suppose que $l'EPD \\text{ gaz de chauffage} = 0,1 / \\text{an} = 0,8 / \\text{ 10 ans}$  \n",
    "Le prix du gaz+ 30%\n",
    "\n",
    "#### 1) effets de CT (courte terme = 1 an) et à LT (longue terme = 10 ans) de l'élasticité du prix du gaz sur les quantités demandées?\n",
    "$V_{D_1} = EPD_{CT} \\times V_{P} = -3\\%$  \n",
    "$V_{D_{10}} = EPD_{LT} \\times V_{P} = -24\\%$\n",
    "\n",
    "#### 2) Expliquez ces effets\n",
    "La variation de demande est moins importante en LT que en CT. ($\\frac{24\\%}{10} = 2,4\\% < 3\\%$)  // TODO actually why woud it be linear\n",
    "\n",
    "#### 3) Pour réduire les émissions de $CO_2$, le gouvernement instaure une taxe sur la consommation de gaz. Cette mesure est-elle efficace?\n",
    "L'efficacité dépend du substitut:\n",
    "- gaz -> charbon = inefficace\n",
    "- gaz -> autres = efficace\n"
   ]
  },
  {
   "cell_type": "markdown",
   "metadata": {},
   "source": [
    "$\\Delta$ des quantités demandées quand le pouvoir d'achat du R.D (revenu disponible) baisse de 5%.\n",
    "\n",
    "| Biens                           | A                  | B                  | C                  |\n",
    "|:-------------------------------:|:------------------:|:------------------:|:------------------:|\n",
    "| $\\Delta \\%$ quantités demandées | -1                 | -10                | +6                 |\n",
    "| ERD                             | 0,2                | 2                  | -1,2               |\n",
    "| catégorie de bien               | normal             | supérieur          | inférieur          |\n",
    "| exemple                         |                    | loisir, éducation  | pain, riz          |\n",
    "\n",
    "- rigide = **in**élastique\n",
    "- produit = {bien, service}"
   ]
  },
  {
   "cell_type": "markdown",
   "metadata": {},
   "source": [
    "### C. Les déterminants de l'EPO\n",
    "#### a.  facilité\n",
    "Le principal facteur influant sur l'EPO est la facilité avec laquelle la production peut être accrue dans le secteur d'activité. S'il est facile de trouver tous les moyens de production aux prix courants du marché, comme dans le textile, il est possible d'accroître fortement la production sans augmentation de prix. Cela montrerait que l'élasticité de l'offre est relativement grande.\n",
    "\n",
    "D'un autre côté, si la capacité de production est sérieusement limitée, comme dans les mines d'or, même de fortes hausses du prix de l'or, n'entraînerait qu'une faible réaction de la production d'or sud-africaine. En ce cas l'offre est inélastique.\n",
    "\n",
    "#### b. La période de temps considérée ou les horizons temporels\n",
    "\n",
    "#### c. Les déterminants de l'offre comme , ex. technologie"
   ]
  },
  {
   "cell_type": "markdown",
   "metadata": {},
   "source": [
    "# III. Le cas des matières premières"
   ]
  },
  {
   "cell_type": "markdown",
   "metadata": {},
   "source": [
    "## A. L'EPD des matières premières\n",
    "Ces produits ont tendance à avoir une demande inélastique ou rigide car ils sont nécessaires pour les consommateurs qui les achètent c'est-à-dire, en général les industries manufacturières qui transforment les mat. 1ères en produits finis.  \n",
    "Ex. Si le prix des grains de café augmente, les firmes de transformation du café qui achètent les grains de café pour les transformer en café pour les consommateurs, n'ont pas le choix. Elles doivent continuer à acheter les grains de café et la quantité demandée baisse proportionnellement plus faiblement.  \n",
    "Réciproquement si le prix des grains de café baisse, les firmes ne voudront pas proportionnellement plus de café que leurs objectifs de production déjà fixés. Ils n'ont aucune utilité à en acquérir plus à tout niveau de prix.  \n",
    "En effet ce n'est pas parce que le prix de café baisse que les entreprises voudrong produire plus. La demande de biens industriels tend à être plus élastique car il y a des biens substituables pour les consommateurs."
   ]
  },
  {
   "cell_type": "markdown",
   "metadata": {},
   "source": [
    "## B. L'EPO des matières premières\n",
    "Les produits tendent à avoir une EPO telle qu'un changement de prix ne peut pas conduire à une hausse significative de la quantité offerte.  \n",
    "Ex. Si la demande de cacao augmente et que son prix augmente, les producteurs voudront être capables de répondre avec une hausse proportionnelle de la quantité lorsque le cacao aura poussé.\n",
    "\n",
    "La combinaison des rigidités de la D et de l'O signifie que les changements des quantités résulterong de grandes oscillations ou variations des prix.  \n",
    "La volatitilité des mat. 1ères et celle des producteurs est forte. (Cf. thème 4)"
   ]
  },
  {
   "cell_type": "markdown",
   "metadata": {},
   "source": [
    "Remarque:  \n",
    "La notion d'élasticité se retorouve dans les 4 thèmes du programme du BI: la micro, la macro, l'ouverture internationale et l'économie du développement.  \n",
    "En effet chanque fois que l'on étudie un produit, cet outil permet de mesurer son impact sur tel marché."
   ]
  },
  {
   "cell_type": "markdown",
   "metadata": {},
   "source": [
    "### 1. une découverte technologique\n",
    "Que deviennent l'offre et la demande des blés suite à une découverte technologique. \n",
    "\n",
    "- $\\Delta P > \\Delta Q$\n",
    "- P- Q+\n",
    "\n",
    "### 2. Interdiction de la drogue\n"
   ]
  },
  {
   "cell_type": "markdown",
   "metadata": {},
   "source": [
    "## Méthode\n",
    "1. Petite analyse du produit (B et S)\n",
    "2. Dessiner le marché\n",
    "3. Statique comparative\n",
    "    - Trouvez la courbe affectée\n",
    "    - constate le nouvel équilibre\n",
    "    - Prix, Qté\n",
    "4. Calculer du CA avec des données chiffrées $CA = P \\times Q = OP_E \\times OQ_E$ (distance d'$O$ à $P_E$)"
   ]
  },
  {
   "cell_type": "markdown",
   "metadata": {},
   "source": [
    "### 3. Réduction de l'offre sur le marché de pétrole"
   ]
  },
  {
   "cell_type": "markdown",
   "metadata": {},
   "source": [
    "### Exemple: pénurie du beurre\n",
    "1. Le marché du beurre (à CT)\n",
    "    - description économique du produit\n",
    "2. Introduction de pa pénurie et ses effets sur le marché\n",
    "    - à CT\n",
    "    - à LT\n",
    "3. Tous les acteurs en question\n",
    "    - producteurs\n",
    "    - distributeurs\n",
    "    - consommateurs\n",
    "    - Etat\n",
    "    - médias\n",
    "    - monde\n",
    "4. Solution\n",
    "    - Etat: prix plafond (contraignant)\n",
    "    - compagne publicitaire\n",
    "\n",
    "\n",
    "- Beurre: bien de nécessité, demande plutôt rigide\n",
    "- cadre spatio-temporel: aujourd'hui en France\n",
    "- pénurie = manque de beurre, ce qui se traduit par une situation de rareté\n",
    "- dans un premier temps, plus d'équilibre: $Q_D > Q_O$ pour tous niveaux de prix\n",
    "- CT: nouvel équilibre: $(P_E, Q_E) \\rightarrow (P_E', Q_E')$ avec $P_E' > P_E$ et $Q_E' < Q_E$\n",
    "- LT: baisse de demande: les consommateurs vont aller vers les subsituts (comme la margarine)\n",
    "    - le marché s'est rétréci\n",
    "    - CA inférieur"
   ]
  }
 ],
 "metadata": {
  "kernelspec": {
   "display_name": "Python 3",
   "language": "python",
   "name": "python3"
  },
  "language_info": {
   "codemirror_mode": {
    "name": "ipython",
    "version": 3
   },
   "file_extension": ".py",
   "mimetype": "text/x-python",
   "name": "python",
   "nbconvert_exporter": "python",
   "pygments_lexer": "ipython3",
   "version": "3.6.3"
  }
 },
 "nbformat": 4,
 "nbformat_minor": 2
}
