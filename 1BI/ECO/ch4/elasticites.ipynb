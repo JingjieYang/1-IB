{
 "cells": [
  {
   "cell_type": "markdown",
   "metadata": {},
   "source": [
    "## Chapitre 4: Les élasticités\n",
    "\n",
    "Lorsque nous avons étudié les déterminants de la demance (ch2), nous avons remarqué que les acheteurs demandent en général plus q'un produit \n",
    "\n",
    "- quand le prixde celui-ci est bas,\n",
    "- quand leurs revenus sont plus élevés,\n",
    "- quand le prix des produits de substitution est plus élevé,\n",
    "- quand le prix des produits complémentaires est inférieur.\n",
    "\n",
    "L'analyse de la demande ou de l'offre était qualitative, pas quantitative càd qu'elle portait sur le sens du changement (hausse ou basse) mais pas sur la taille cà la grandeur ou la dimension.\n",
    "\n",
    "Pour transformer les courbes d'offre et de demande en instruments vraiment utiles, nous devons savoir dans quelle mesure l'O et la D réagissent à des variations de prix?  \n",
    "Pas seulement comment mais combien.\n",
    "\n",
    "Pour mesurer somment la demande ou l'offre répondent aux variation de ses déterminants, les économistes utilisent un outil suplémentaire: le concept d'élasticité.\n",
    "\n",
    "**Dº**: `l'elasticité` qui mesure l'ampleur (quantité) de la réponse des acheteurs et des vendeurs aux modifications des conditions de marché, nous permet d'analyser l'offre et la demande plus précisément.\n"
   ]
  },
  {
   "cell_type": "markdown",
   "metadata": {},
   "source": [
    "# I. L'élasticité prix de la demande\n",
    "\n",
    "Considérons d'abord la réaction de la demande des consommateurs à des variations de prix.\n"
   ]
  },
  {
   "cell_type": "markdown",
   "metadata": {},
   "source": [
    "## A. L'élasticité prix de la demande (EPD ou $e_p$)\n"
   ]
  },
  {
   "cell_type": "markdown",
   "metadata": {},
   "source": [
    "### 1. Définition et formule\n"
   ]
  },
  {
   "cell_type": "markdown",
   "metadata": {},
   "source": [
    "#### a) Dº\n",
    "\n",
    "`L'élasticité de la demande par rapport au prix`, également appelé élasticité-prix de la demande, mesure de combien varie la quantité demandée quand son prix change.  \n",
    "NB: Toujours « toutes choses égales par ailleurs » (*ceteris paribus*)\n",
    "\n",
    "L'élasticité-prix de la demande varie beaucoup selon les biens.  \n",
    "Quand elle est élevée, nous disons que le bien a une demande élastique ce qui signifie que la quantité demandée réagit fortement à des variations de prix.  \n",
    "Quand elle est faible, nous disons que la demande est inélastique ou rigide, ce qui signifie que la quantité demandée réagit faiblement à des variations de prix.\n",
    "\n",
    "Des faceturs économiques déterminent l'ampleur de l'élasticité-prix des différents biens: les élasticités tendent à être plus élevées:\n",
    "\n",
    "- quand les produits sont des biens de luxe,\n",
    "- quand il existe des biens de remplacement ou de substitution\n",
    "- quand les consommateurs disposent de plus de temps pour ajuster leur comportement.\n"
   ]
  },
  {
   "cell_type": "markdown",
   "metadata": {},
   "source": [
    "#### b) Formule du calcul de l'$e_p$\n",
    "\n",
    "Elle se définit par le rapport entre la variation en % de la quantité demandée de B&S et le variation en % du prix.\n",
    "\n",
    "$EPD = \\frac{\\Delta \\text{ en } \\% Q_D}{\\Delta \\text{ en } \\% P} = \\frac{\\frac{V_F - V_I}{V_I} \\times 100}{\\frac{V_F - V_I}{V_I} \\times 100}$\n",
    "\n",
    "$V_{\\text{Initial, au départ}} \\Rightarrow V_{\\text{finale arrivé}}$  \n",
    "$V_I \\Rightarrow V_A \\text{ ou } V_F$\n"
   ]
  },
  {
   "cell_type": "markdown",
   "metadata": {},
   "source": [
    "### 2. La diversité des EDP\n",
    "\n",
    "Les économistes classent les courbes de demande en fonction de leur élasticité.\n",
    "\n",
    "- **|EPD| > 1**, la demande est dite élastique si son élasticité est supérieur à 1, ce qui signifie que la quantité change proportionnellement plus que les prix. Cela signifie aussi que la part de ces B&S augmente dans la consommation totale. Il suffit alors d'une légère baisse du prix pour induire une forte hausse de la demande. Ex: les loisirs.\n",
    "- **0 < EPD < 1**, le bien est inélastique ce qui signifie\n",
    "- **EPD = 0**, la quantité demandé est parfaitement inélastique. Il n'y a pas de variation de la quantité demandée avec le prix."
   ]
  },
  {
   "cell_type": "code",
   "execution_count": null,
   "metadata": {},
   "outputs": [],
   "source": []
  }
 ],
 "metadata": {
  "kernelspec": {
   "display_name": "Python 3",
   "language": "python",
   "name": "python3"
  },
  "language_info": {
   "codemirror_mode": {
    "name": "ipython",
    "version": 3
   },
   "file_extension": ".py",
   "mimetype": "text/x-python",
   "name": "python",
   "nbconvert_exporter": "python",
   "pygments_lexer": "ipython3",
   "version": "3.6.1"
  }
 },
 "nbformat": 4,
 "nbformat_minor": 2
}
