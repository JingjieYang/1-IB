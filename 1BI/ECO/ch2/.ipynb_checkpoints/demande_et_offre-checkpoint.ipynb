{
 "cells": [
  {
   "cell_type": "markdown",
   "metadata": {},
   "source": [
    "## Chapitre 2: Demande et Offre"
   ]
  },
  {
   "cell_type": "markdown",
   "metadata": {},
   "source": [
    "# Introduction\n",
    "_Le marché est un mécanisme par lequel des acheteurs et des vendeurs interagissent pour déterminer les prix et échangent des quantités des B&S._\n",
    "\n",
    "Dans des pays comme les USA, l'essentiel des décisions économiques est traité par le marché qui va résoudre les questions fondamentales (Cf. ch1).  \n",
    "L'activité économique est le résultat de millions de décisions prises librement par les acteurs qui échangent afin d'améliorer leur satisfaction ou situation économique.\n",
    "\n",
    "...\n",
    "\n",
    "Il y a des marchés physiques où sont échangés des B&S avec une contrepartie monétaire et aussi d'autres types de marché comme ceux en ligne où les produits sont vendus avec des cartes bancaires.  \n",
    "En plus des marchés de B&S, on trouve les marchés de facteurs de production,  les marchés financiers tels que le marché de changes.\n"
   ]
  },
  {
   "cell_type": "markdown",
   "metadata": {},
   "source": [
    "# I. La demande"
   ]
  },
  {
   "cell_type": "markdown",
   "metadata": {},
   "source": [
    "## A. Définition\n",
    "_La D est la quantité de B&S que les consommateurs désirent **et** sont capables d'acheter à un prix donné et à une période donnée._  \n",
    "La quantité demandé d'un B&S est la quantité que les acheteurs sont prêts à acheter et capables de payer.\n",
    "\n",
    "Ex. \n",
    "\n",
    "À bien noter qu'il faut vouloir et pouvoir et pas seulement l'un des deux. Il s'agit de la *demande effective*.\n"
   ]
  },
  {
   "cell_type": "markdown",
   "metadata": {},
   "source": [
    "## B. Le $1^{er}$ déterminant de la demande, le prix et la loi de la demande\n",
    "KEYNES\n",
    "\n",
    "Comment décidez-vous de la quantité de glaces que vous achetez chaque mois et quels sont les facteurs qui influent sur notre décision?\n",
    "\n",
    "Si la quantité demandée diminue quand le prix augmente, et augmente quand le prix diminue, on dit que la quantité demandée évolue en fonction inverse du prix.  \n",
    "Cette fonction inverse est valide pour la plupart des produits dans une économie.  \n",
    "Elle est tellement générale que les économistes la qualifient de la *loi de la demande*\n",
    "\n",
    "Enoncé de *la loi de la demande*: **toutes choses égales par ailleurs**, quand le prix d'un B&S augmente (baisse), la quantité demandé diminue (augmente).\n",
    "\n",
    "La quantité demandée est une fonction décroissante du prix.\n",
    "\n",
    "Pourquoi la quantité demandée tend-elle à baisser quand les prix augmentent?  \n",
    "Pour deux raisons:\n",
    "\n",
    "### 1. L'effet de substitution\n",
    "Si le prix d'un B&S augmente, on le remplacera par d'autres biens similaires.\n",
    "\n",
    "### 2. L'effet de revenu\n",
    "Quand les prix augmentent, on se retrouve un peu plus pauvre qu'auparavant. Le pouvoir d'achat baisse.  \n",
    "Ex. Si le prix de l'essence double, on a moins de revenu réel, et on réduira naturellement la consommation d'essence ainsi que celle des autres biens.\n",
    "\n",
    "*Ceteris paribus* ou « les autres choses étant égales »  \n",
    "Chaque fois que vous voyez une courbe, n'oubliez pas qu'elle a été construite en faisant l'hypothèse que de nombreux facteurs étaient constants. Seules les variables étudiées sur le moment varient. Notons que le monde réel est plus compliqué et que les variables ont tendance à évoluer en même temps. Pour faciliter la compréhension des situations, il est plus aisé de considérer que seules quelques variables varient.\n",
    "\n",
    "\n"
   ]
  },
  {
   "cell_type": "markdown",
   "metadata": {},
   "source": [
    "## C. Les autres déterminants que le prix\n",
    "### 1. Le revenu\n",
    "Qu'adviendra-t-il de notre demande si on ne trouve pas d'emploi? Elle diminuera très certainement.\n",
    "\n",
    "Si vos revenus baissent, vous aurez moins à dépenser globalement ce qui v eut dire que vous dépenserez moins sur certains biens, peut-être même sur tous.\n",
    "\n",
    "Si la quantité demandée croît quand le revenu augmente, il s'agit d'un **bien normal**. *Cf p.20 fig 2.3*\n",
    "\n",
    "Quand le revenu augmente, la courbe de demande pour un bien normal se déplacera vers la droite.\n",
    "\n",
    "L'ampleur du déplacement de la courbe demande dépend du bien considéré. Par exemple, la demande d'huile entraînera un petit déplacement de la courbe vers la droite alors que la demande de voyage entraînera un plus grand déplacement. *Cf. p.20 fig 2.2*\n",
    "\n",
    "Tous les biens ne sont pas normaux. Quand la quantité d'un bien diminue et que le revenu augmente, il s'agit d'un **bien inférieur**.\n",
    "\n",
    "Exemple du pain pour les Français, de la margarine, des pommes de terre etc. *Cf p.20 fig 2.3*\n",
    "\n",
    "### 2. Le prix des autres produits\n",
    "Il y a trois relations possibles entre les produits:\n",
    "\n",
    "- Les **biens substituables**: deux biens sont substituables lorsqu'ils sont aptes à satisfaire le même besoin. Ex. le vin et la bière *Cf p.20 fig 2.3*\n",
    "- Les **biens complémentaires**: deux biens sont complémentaires quand la consommation simultanée est nécessaire pour satisfaire un besoin. Ex. la voiture et l'essence *Cf. p.21 fig 2.4*\n",
    "- Les **biens sans rapport**: deux biens sont sans rapport quand le changement de prix d'un B&S n'affecte pas la demande pour les autres B&S *Cf. p.22 fig 2.5*\n",
    "\n",
    "### 3. Le goût ou les préférences\n",
    "Il s'agit du déterminant le plus évident de la demande.\n",
    "\n",
    "Si on aine un produit, on en achète (plus).\n",
    "\n",
    "En général, les économistes n'essaient pas d'expliquer les goûts des personnes. Les goûts dépendent de facteurs historiques, sociologiques et psychologiques. Les économistes étudient ce qui se passe quand les goûts changent. *Cf. p.22 fig 2.5*\n",
    "\n",
    "### 4. Les anticipations\n",
    "Les attentes concernant l'avenir affectent la demande présente des biens et services.\n",
    "\n",
    "Par exemple si vous attendez à voir votre salaire augmenté le mois prochain, vous aurez plus enclin à acheter plus de glace dès aujourd'hui\n",
    "\n",
    "### 5. Les autres facteurs\n",
    "#### - La taille de la population\n",
    "Avec l'augmentation de la population, la quantité demandée aux producteurs de B&S montera et la courbe de demande se déplacera vers la droite.\n",
    "\n",
    "#### - Les changements de la structure d'âge de la population\n",
    "Le % de personnes âgées dans un pays donné augmente la quantité de la consommation des B&S. *Cf les facteurs démographiques*\n",
    "\n",
    "(en terme de loisirs, de santé voire de dépendance)\n",
    "\n",
    "#### - Les changements dus à la répartition des revenus\n",
    "Une augmentation de la demande de nourriture pour les populations défavorisées. Cela se traduit par un déplacement de la courbe de demande vers la droite pour ce type de biens.\n",
    "\n",
    "#### - Les changements de la politique du gouvernement\n",
    "Une politique fiscale (impôts et taxes) qui se traduit par une augmentation des taxes aura des conséquences sur les revenus et donc sur la demande de B&S.\n",
    "\n",
    "#### - Les variations saisonnières\n",
    "La demande de biens change aussi selon les changements de saison.\n"
   ]
  },
  {
   "cell_type": "markdown",
   "metadata": {},
   "source": [
    "## D. La distinction entre le mouvement le long de la courbe de demande et un déplacement de la courbe de demande\n",
    "Chaque fois que l'un des déterminants de la demande est modifiée, à l'exception du prix, la courbe de demande subit une translation.\n",
    "\n",
    "Toute modification qui accroît la demande pour tout niveau de prix déplace la courbe vers la droite tandis qu'une modification qui réduit la demande pour tout niveau de prix déplace la courbe vers la gauche.\n",
    "\n",
    "En résumé\n",
    "La courbe de demande indique l'évolution de la quantité demandée quand le prix d'un B&S varie, tous les autres facteurs étant supposés constants.\n",
    "\n",
    "NS Les fonctions linéaires de la demande\n",
    "\n",
    "$$D = D(p)$$\n",
    "\n",
    "Ex. Le ministère de santé indique que les consommateurs de glace vivent mieux and plus long.\n",
    "\n",
    "Ex. Le ministère de santé met en évidence que le cigarette est mauvais pour la santé.\n",
    "\n",
    "Ex. Le prix d'un paquet de cigarette se change de 2€ à 3€.\n"
   ]
  },
  {
   "cell_type": "markdown",
   "metadata": {},
   "source": [
    "# II. L'offre\n",
    "Examinons le comportement des vendeurs ou des offreurs. La quantité offerte de bien et service est définit comme la quantité que les vendeurs sont prêts **et** capables de vendre à un prix donné et dans une économie donnée. \n"
   ]
  },
  {
   "cell_type": "markdown",
   "metadata": {},
   "source": [
    "## A. Définition\n",
    "O de marché = $\\Sigma$ O. individuelle\n",
    "\n",
    "### _Titre_: Plan d'offre\n",
    "| $ | Quantité de glace |\n",
    "|---|-------------------|\n",
    "|0  | 0                 |\n",
    "|0,5| 0                 |\n",
    "|1  | 1                 |\n",
    "|1,5| 2                 |\n",
    "|2  | 3                 |\n",
    "|2,5| 4                 |\n",
    "|3  | 5                 |\n",
    "\n",
    "Cette courbe d'offre qui illustre le plan d'offre indique comment la quantité offerte est modifié quand le prix varie. \n",
    "\n",
    "On observe que plus le prix de la glace augmente, plus la quantité de glace offerte augmente. La courbe d'offre a une pente croissante / positive.\n",
    "\n",
    "**Toutes choses égales par ailleurs** (*Ceteris paribus*), lorsque le prix d'un B&S augmente, la quantité offerte augmente aussi.\n"
   ]
  },
  {
   "cell_type": "markdown",
   "metadata": {},
   "source": [
    "## B. Le $1^{er}$ déterminant de l'offre:  le prix et la loi de l'offre\n",
    "\n",
    "Comment les producteurs décident-ils de la quantité de B&S à vendre à un moment donné?  \n",
    "Si la quantité offerte diminue quand le prix diminue, et augmente quand le prix augmente, on dit que la quantité offerte évolue en fonction croissante du prix.  \n",
    "Cette fonction croissante est valide pour la plupart des produits dans une économie.  \n",
    "Elle est tellement générale que les économistes la qualifient de la *loi de l'offre*.\n",
    "\n",
    "Enoncé de la loi de l'offre: toutes choses égales par ailleurs, quand le prix d'un B&S augmented (baisse), la quantité offerte augmente (baisse).\n",
    "\n",
    "Représentation de la courbe d'offre p.27"
   ]
  },
  {
   "cell_type": "markdown",
   "metadata": {},
   "source": [
    "## C. Les autres déterminants\n",
    "Il y a de nombreux facteurs qui interviennent dans les déplacements de la courbe d'offre vers la droite ou vers la gauche. *Cf. p.28 fig 2.11*\n",
    "\n",
    "### 1. Les coûts des facteurs de production\n",
    "Si il y a une hausse du coût d'un des faceteurs de production telle qu'une hausse de salaire, les coûts totaux des facteurs de production vont augmenter et la courbe d'offre se déplacera vers la gauche. *Cf. p.28 fig 2.12*\n",
    "\n",
    "Une hausse du niveau des salaires dans une entreprise de textile signifie qu'elle peut manitenant offrir (vendre) moins de textile pour tout niveau de prix.  \n",
    "À l'inverse la baisse du coût d'un des facteurs de production permettra aux firmes d'augmenter leur offre, déplaçant la courbe d'offre vers la droite.  \n",
    "Ainsi la quantité offerte évolue en fonction inverse du coût des facteurs de production.\n",
    "\n",
    "### 2. Le prix des autres produits que les producteurs pourraient produire à la place des produits existants\n",
    "Souvent les producteurs ont le choix sur ce qu'ils vont produire. Un producteur de raquettes de tennis sera aussi capable de produire des raquettes de squash avec un minimum de changement de production. Supposons que le prix des raquettes de squash augmente car il y a une plus grade demande pour celles-ci, il est possible que le producteur dirige sa production vers ce nouveau type de raquettes. *Représentations p.28 fig 2.12*\n",
    "\n",
    "On remarque que le prix des raquettes de tennis n'a pas changé, seule la courbe d'offre (raquettes de tennis) s'est déplacée vers la gauche.\n",
    "\n",
    "### 3. Le progrès technique ou l'état de la technologie\n",
    "La technologie nécessaire pour transformer les facteurs de production en B&S est un déterminant de la quantité offerte.  \n",
    "En réduisant les coûts de production, le progrès technologique a augmenté la quantité offerte.  \n",
    "Ex. ordinateur\n",
    "\n",
    "#### Chaîne du progrès technique (P. T.)\n",
    "      \n",
    "    ---|---------|-------------|-----------|---->\n",
    "    idée(s)  Recherche     Invention  Innovation\n",
    "             fondamentale\n",
    "                  |\n",
    "              prototype\n",
    "    \n",
    "   (832 idées pour 1 innovation)\n",
    "\n",
    "### 4. Les anticipations\n",
    "Les quantités que les producteurs proposent aujourd'hui dépendent des attentes pour l'avenir.  \n",
    "Si l'on anticipe une augmentation des coûts de production, l'entreprise va utiliser stocks.  \n",
    "Ex. \n",
    "\n",
    "### 5. L'invervention du gouvernement\n",
    "Il intervient avec deux outils:\n",
    "\n",
    "- les **impôts indirects** sont des taxes sur les B&S comme la TVA en France. Elles s'ajoutent au prix de la production et ont un effet sur le déplacement de la courbe d'offre. Celle-ci se déplacera vers la gauche.\n",
    "\n",
    "        Impôts\n",
    "        |- directs\n",
    "        |- indirects\n",
    "\n",
    "- Les **subventions** càd des paiments du gouvernement aux entreprises leur permettant d'augmenter leur niveau de production ou leur productivité pour être plus compétitive.  \n",
    "Plus de producteurs pourront produire à tous niveau de prix. Celle-ci se déplacera vers la droite."
   ]
  },
  {
   "cell_type": "markdown",
   "metadata": {},
   "source": [
    "## D. La distinction entre le mouvement le long de la courbe de l'offre et un déplacement de la courbe de l'offre\n",
    "Même raisonnement mais avec la courbe d'offre. *Cf. p.30 fig 2.14*"
   ]
  },
  {
   "cell_type": "code",
   "execution_count": 1,
   "metadata": {
    "collapsed": false
   },
   "outputs": [],
   "source": [
    "import numpy as np\n",
    "import matplotlib.pyplot as plt\n",
    "from ipywidgets import widgets\n",
    "from IPython.display import display\n",
    "\n",
    "def plot_courbe(courbe_type, déplacement_type, déplacement_direction):\n",
    "    prix = np.linspace(0, 5)\n",
    "    quantité = prix / 2 if courbe_type == 'offre' else -prix / 2 + 2.5\n",
    "    plt.plot(quantité, prix)\n",
    "    plt.xlabel('Quantité')\n",
    "    plt.ylabel('Prix')\n",
    "    plt.legend('O' if courbe_type == 'offre' else 'D')\n",
    "    plt.xticks([])\n",
    "    plt.yticks([])\n",
    "    plt.xlim([0, 2.75])\n",
    "    plt.ylim([0, 5.25])\n",
    "    plt.show()\n"
   ]
  }
 ],
 "metadata": {
  "kernelspec": {
   "display_name": "Python 3",
   "language": "python",
   "name": "python3"
  },
  "language_info": {
   "codemirror_mode": {
    "name": "ipython",
    "version": 3
   },
   "file_extension": ".py",
   "mimetype": "text/x-python",
   "name": "python",
   "nbconvert_exporter": "python",
   "pygments_lexer": "ipython3",
   "version": "3.6.1"
  }
 },
 "nbformat": 4,
 "nbformat_minor": 2
}
