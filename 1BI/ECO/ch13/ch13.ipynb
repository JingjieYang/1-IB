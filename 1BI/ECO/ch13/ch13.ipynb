{
 "cells": [
  {
   "cell_type": "markdown",
   "metadata": {},
   "source": [
    "# Ch. 13 Le niveau de l'activité économique globale\n",
    "Du 13 au 20 -> Macroéconomie"
   ]
  },
  {
   "cell_type": "markdown",
   "metadata": {},
   "source": [
    "# I. Le modèle du revenu circulaire (circuit économique)\n",
    "#### 1ère graphique\n",
    "\n",
    "à 2 flux:\n",
    "- réels\n",
    "- monétaires\n",
    "\n",
    "#### 2ème graphique\n",
    "\n",
    "Ces graphiques\n",
    "1. mettent l'accent sur l'interdépendance des acteurs économiques\n",
    "2. montrent qu'à chaque revenu correspond une dépense\n",
    "3. \n",
    "    - $\\Sigma \\text{Revenu} = \\Sigma \\text{Dépenses}$\n",
    "    - $\\Sigma Qº = \\Sigma \\text{Revenu (Ressources)}$\n",
    "    - $\\Sigma Qº = \\Sigma \\text{Dépenses}$\n",
    "\n",
    "   => Revenu national = Production"
   ]
  },
  {
   "cell_type": "markdown",
   "metadata": {},
   "source": [
    "# II. Mesure du revenu national\n",
    "\n",
    "Plusieurs façons de mesurer le R:\n",
    "- ∑R de tous les acteurs nationaux\n",
    "- R = production = ∑(CA - CI) = ∑ VA = P.I.B. (produit intérieur brut; richesse officiellement crée en 1 an sur un territoire donné)\n",
    "\n",
    "P.I.B. peut être marchand ou non-marchand.\n",
    "\n",
    "- P.I.B. marchand = ∑VA en réalité\n",
    "- P.I.B. classique = ∑VA + TVA + droits de douane - les soubventions à l'importation\n",
    "- Le P.I.B. non-marchand représente la production non-marchande des administrations (gratuite / quasi-gratuite). Elle est donc évaluée au coût de production."
   ]
  },
  {
   "cell_type": "markdown",
   "metadata": {},
   "source": [
    "P.I.B. calculé\n",
    "\n",
    "|     + inflation     |      - inflation    |\n",
    "|:-------------------:|:-------------------:|\n",
    "| en valeur           | en volume           |\n",
    "| nomial              | en réel ou déflaté  |\n",
    "| en monnaie courante | en marché constante |\n",
    "| au prix courant     | au prix constant    |"
   ]
  },
  {
   "cell_type": "code",
   "execution_count": null,
   "metadata": {},
   "outputs": [],
   "source": []
  }
 ],
 "metadata": {
  "kernelspec": {
   "display_name": "Python 3",
   "language": "python",
   "name": "python3"
  },
  "language_info": {
   "codemirror_mode": {
    "name": "ipython",
    "version": 3
   },
   "file_extension": ".py",
   "mimetype": "text/x-python",
   "name": "python",
   "nbconvert_exporter": "python",
   "pygments_lexer": "ipython3",
   "version": "3.6.1"
  }
 },
 "nbformat": 4,
 "nbformat_minor": 2
}
