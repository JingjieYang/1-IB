{
 "cells": [
  {
   "cell_type": "markdown",
   "metadata": {},
   "source": [
    "## Chapitre 5\n",
    "# Impôts indirects, Subventions et Contrôle des prix"
   ]
  },
  {
   "cell_type": "markdown",
   "metadata": {},
   "source": [
    "## L'effet d'un impôt indirect sur la demande et l'offre d'un produit\n",
    "Un impôt indirect est celui imposé sur les dépenses. Il est placé sur le prix de vente d'un produit, de sorte qu'il augmente les coûts de l'entreprise et déplace la courbe d'offre pour le produit verticalement vers le haut par le mondant de la taxe.  \n",
    "En raison de ce changement, moins de produits seront fournis à tous niveaux de prix.\n",
    "\n",
    "Il y a deux types de taxes indirectes à considérer:\n",
    "1. *Une taxe spécifique*: Ceci une quantité spécifique, ou fixe, de taxe qui est imposée sur un produit, par exemple, une taxe de 1\\$ par utilité. Ceci a donc pour effet de déplacer la courbe d'offre verticalement vers le haut par le montant de la taxe, dans ce cas, de 1\\$. Ceci est représenté sur la figure 5.1 (a). S est la courbe de l'offre initiale et S + taxe est la courbe après la taxe ait été imposée.\n",
    "\n",
    "2. *Une taxe de pourcentage (aussi connue comme une taxe ad valorem)*: l'écart entre $O$ et $O'$ (avec $O'$ qui intègre la taxe) va augmenter en même temps que la hausse du prix du produit. Si la taxe de pourcentage est de 20%, alors à un prix de 5€ la taxe sur le produit va être 1€. Maintenant si prix du produit est de 10€, alors la atxe va être de 2€."
   ]
  },
  {
   "cell_type": "markdown",
   "metadata": {},
   "source": [
    "Que se passe-t-il lorsqu'un impôt indirect est imposé sur un produit? Quels sont les effets de ces impôts indirects sur les demandeurs, les offreurs, et l'État?  \n",
    "Hypothèse: on choisit une courbe de demande et une courbe de l'offre d'un bien normal.\n",
    "On suppose que l'État impose une taxe spécifique sur un produit. Représentation\n",
    "\n",
    "- Q- P+\n",
    "- Les demandeurs payent donc plus pour moins de qté, malgré le fait que la taxe soit sur les offreurs\n",
    "- les offreurs, eux, ne vendent qu'à $P_O$, avec $P_E' - P_O$ représentant le montant de la taxe\n",
    "- L'Etat décide qui supporte le plus l'impôt , offreur ou demandeur. \n",
    "- $CA-$, retrécissement du marché\n"
   ]
  }
 ],
 "metadata": {
  "kernelspec": {
   "display_name": "Python 3",
   "language": "python",
   "name": "python3"
  },
  "language_info": {
   "codemirror_mode": {
    "name": "ipython",
    "version": 3
   },
   "file_extension": ".py",
   "mimetype": "text/x-python",
   "name": "python",
   "nbconvert_exporter": "python",
   "pygments_lexer": "ipython3",
   "version": "3.6.1"
  }
 },
 "nbformat": 4,
 "nbformat_minor": 2
}
