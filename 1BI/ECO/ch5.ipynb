{
 "cells": [
  {
   "cell_type": "markdown",
   "metadata": {},
   "source": [
    "## Chapitre 5\n",
    "# Impôts indirects, Subventions et Contrôle des prix"
   ]
  },
  {
   "cell_type": "markdown",
   "metadata": {},
   "source": [
    "## L'effet d'un impôt indirect sur la demande et l'offre d'un produit\n",
    "Un impôt indirect est celui imposé sur les dépenses. Il est placé sur le prix de vente d'un produit, de sorte qu'il augmente les coûts de l'entreprise et déplace la courbe d'offre pour le produit verticalement vers le haut par le mondant de la taxe.  \n",
    "En raison de ce changement, moins de produits seront fournis à tous niveaux de prix.\n",
    "\n",
    "Il y a deux types de taxes indirectes à considérer:\n",
    "1. *Une taxe spécifique*: Ceci une quantité spécifique, ou fixe, de taxe qui est imposée sur un produit, par exemple, une taxe de 1\\$ par utilité. Ceci a donc pour effet de déplacer la courbe d'offre verticalement vers le haut par le montant de la taxe, dans ce cas, de 1\\$. Ceci est représenté sur la figure 5.1 (a). S est la courbe de l'offre initiale et S + taxe est la courbe après la taxe ait été imposée.\n",
    "\n",
    "2. *Une taxe de pourcentage (aussi connue comme une taxe ad valorem)*: l'écart entre $O$ et $O'$ (avec $O'$ qui intègre la taxe) va augmenter en même temps que la hausse du prix du produit. Si la taxe de pourcentage est de 20%, alors à un prix de 5€ la taxe sur le produit va être 1€. Maintenant si prix du produit est de 10€, alors la atxe va être de 2€."
   ]
  },
  {
   "cell_type": "markdown",
   "metadata": {},
   "source": [
    "Que se passe-t-il lorsqu'un impôt indirect est imposé sur un produit? Quels sont les effets de ces impôts indirects sur les demandeurs, les offreurs, et l'État?  \n",
    "Hypothèse: on choisit une courbe de demande et une courbe de l'offre d'un bien normal.\n",
    "On suppose que l'État impose une taxe spécifique sur un produit. Représentation\n",
    "\n",
    "- Q- P+\n",
    "- Les demandeurs payent donc plus pour moins de qté, malgré le fait que la taxe soit sur les offreurs\n",
    "- les offreurs, eux, ne vendent qu'à $P_O$, avec $P_E' - P_O$ représentant le montant de la taxe\n",
    "- L'Etat décide qui supporte le plus l'impôt , offreur ou demandeur. \n",
    "- $CA-$, retrécissement du marché\n"
   ]
  },
  {
   "cell_type": "markdown",
   "metadata": {},
   "source": [
    "Différent acteurs économiques: consommateurs, producteurs, distributeurs, Etat, institutions financières, reste du monde"
   ]
  },
  {
   "cell_type": "markdown",
   "metadata": {},
   "source": [
    "### Le contrôle des prix\n",
    "Même si cela peut sembler une situation optimale, le libre marché ne conduit pas toujours aux meilleurs résultats pour tous les producteurs et les consommateurs, ou pour la société en général, et donc les gouvernements choisissent souvent d'intervenir sur le marché afin de parvenir à un résultat différent. Il y a deux situations clés où cela se produit:\n",
    "- prix maximum\n",
    "- prix minimum\n",
    "\n",
    "Nous regardons maintenant chacune de ces situations l'une après l'autre.\n",
    "\n",
    "1. Décrire situation d'équil.\n",
    "2. Décrire intervention de l'Etat\n",
    "    - prix plancher?\n",
    "    - prix plafond?\n",
    "    - contraignant?\n",
    "    - +exemple\n",
    "3. Décrire la nouvelle situation\n",
    "    - équilibre\n",
    "    - prix\n",
    "    - quantité"
   ]
  },
  {
   "cell_type": "markdown",
   "metadata": {},
   "source": [
    "## Interrogation - feedback\n",
    "- 3   - marché du thé\n",
    "    - description économique du B et S\n",
    "    - cadre spatial: Inde\n",
    "    - description du marché\n",
    "        - O -> définir\n",
    "        - D -> définir\n",
    "        - +lois\n",
    "        - élasticités / prix\n",
    "        - graphique /\n",
    "    - Elasticités\n",
    "    - Lois de la D et de l'O + *ceteris paribus*\n",
    "    - Equilibre\n",
    "    - avec **graphique**\n",
    "- 1,5 - baissde de 20 à 30%\n",
    "- 1   - à LT\n",
    "- 1,5 - m. du théâtre\n",
    "\n"
   ]
  },
  {
   "cell_type": "code",
   "execution_count": null,
   "metadata": {
    "collapsed": true
   },
   "outputs": [],
   "source": []
  }
 ],
 "metadata": {
  "kernelspec": {
   "display_name": "Python 3",
   "language": "python",
   "name": "python3"
  },
  "language_info": {
   "codemirror_mode": {
    "name": "ipython",
    "version": 3
   },
   "file_extension": ".py",
   "mimetype": "text/x-python",
   "name": "python",
   "nbconvert_exporter": "python",
   "pygments_lexer": "ipython3",
   "version": "3.6.3"
  }
 },
 "nbformat": 4,
 "nbformat_minor": 2
}
