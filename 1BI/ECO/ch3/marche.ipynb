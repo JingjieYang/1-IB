{
 "cells": [
  {
   "cell_type": "markdown",
   "metadata": {},
   "source": [
    "## Chapitre 3: L'équilibre de marché, le mécanisme des prix et l'efficience du marché"
   ]
  },
  {
   "cell_type": "markdown",
   "metadata": {},
   "source": [
    "$E(P_E, Q_E)$\n",
    "\n",
    "At $Q_E$, $Q_D = Q_O$\n"
   ]
  },
  {
   "cell_type": "markdown",
   "metadata": {},
   "source": [
    "Le dictionnaire définit la notion d'équilibre comme une situation dans laquelle plusieurs forces en présence annulent leurs effets respectifs.\n",
    "\n",
    "Au point d'équilibre, la quantité de B&S que les acheteurs sont prêts à acquérir et capables d'acheter, est égale à la quantité de B&S que les vendeurs sont prêts à vendre et capables de vendre. Un marché est en équilibre lorsque les forces qui agissent sur lui n'ont plus tendance à se modifier.\n",
    "\n",
    "Le prix d'équilibre est appelé aussi le **prix de satisfaction du marché** par ce prix satisfait tout le monde.\n",
    "\n",
    "\n",
    "En effet, les actions des uns et des autres amènent naturellement le marché vers le point d'équilibre.\n",
    "\n",
    "Comment cela?  \n",
    "Nous examinons les effets des changements de la demande et de l'offre sur l'équilibre.\n",
    "\n",
    "### $1^{er}$ cas\n",
    "Supposons que le prix courant (2,5) soit supérieur au prix d'équilibre (2) sur le marché de la glace.  \n",
    "\n",
    "    GRAPHIQUE\n",
    "\n",
    "Au prix de 2,5€ le cornet, la quantité offerte (10) est supérieure à la quantité demandé (4).\n",
    "\n",
    "Soit $Q_O > Q_D$: il y a un SURPLUS de production. Les producteurs sont incapables de vendre tout ce qu'iles ont au prix courant: c'est une situation d'offre excédentaire.\n",
    "\n",
    "Ex. les vendeurs auront leurs congeelateurs pleins de glaces invendus. Ils essaieront d'augmenter leur vente en baissant leur prix de marchandise. En conséquence, les prix baissent jusqu'au prix d'équilibre. *Cf p.35*\n",
    "\n",
    "### $2^{ème} cas$\n",
    "Supposons maintenant que le prix courant (1,5) soit inférieur au prix d'équilibre (2).  \n",
    "\n",
    "    Graphique  \n",
    "\n",
    "Au prix 1,5 le cornet de glace, la quantité demandée (10) excède la quantité offerte (4) soit $Q_D > Q_O$  \n",
    "Il y a une PENURIE de marchandise. Les acheteurs ne peuvent pas acheter tout ce qu'ils veulent au prix courangt: il y a une demande excédentaire.\n",
    "\n",
    "Quand il y a une demande excédentaire sur le marché, les acheteurs vont faire de longues heures de queue pour obtenir l'une des rares glaces disponibls.\n",
    "\n",
    "Les vendeurs peuvent augmenter le prix sans perdre de clients. *Cf. p.35 (b)*\n",
    "\n",
    "Au fur et à mesure que les prix montent, le marché tend vers le point d'équilibre: c'est un **mécanisme d'ajustement**.\n",
    "\n",
    "Les multiples activités des acheteurs et des vendeurs poussent automatiquement le prix du marché (prix courant) vers le prix d'équilibre.\n",
    "\n",
    "La vitesse à laquelle ce point est atteint dépend surtout de la vitesse d'ajustement des prix.\n",
    "\n",
    "La plupart des marchés fonctionnent librement et donc les surplus et les pénuries sont temporaires car les prix se déplacent rapidement.\n",
    "\n",
    "Ce mécanisme d'ajustement s'appelle la LOI DE L'OFFRE ET DE LA DEMANDE. *Cf. graphique p.35*\n"
   ]
  },
  {
   "cell_type": "markdown",
   "metadata": {},
   "source": [
    "## II. Le mécanisme ou contrôle des prix"
   ]
  },
  {
   "cell_type": "markdown",
   "metadata": {},
   "source": [
    "Comment fonctionnenent les marchés? Comment l'équilibre est-il atteint?  \n",
    "Le mécanisme des prix aide à réguler le marché par l'allocation des ressources rares.  \n",
    "Ce prix qui provient du libre jeu du marché peut ne pas satisfaire tout le monde.  \n",
    "Les organisations sont des demandeurs soit des offreurs peuvent exercer des pressions sur l'Etat afin que celui-ci prenne des mesures de contrôle des prix.\n",
    "\n",
    "Comme les acheteurs d'un produit veulent toujours le payer moins cher tandis que les vendeurs veulent le vendre plus cher, les intérêts des deux groupes sont contradictoires.\n",
    "\n",
    "Si le lobbying des consommateurs est couronné de succès, le gouvernement imposera un PRIX MAXIMAL, au-delà duquel produits ne pourront être vendurs: on parle des **prix plafonds**.\n",
    "\n",
    "Si les producteurs de produit l'importent, le gouvernement imposera un PRIX MINIMAL, en dessous duquel les produits ne pourront être vendues: on parle des **prix planchers**."
   ]
  },
  {
   "cell_type": "markdown",
   "metadata": {},
   "source": [
    "### 1. Le prix maximal ou prix plafond\n",
    "Si le gouvernement, convaincu par les dires des consommateurs, impose un prix maximal, deux conséquences (effets) sont envisageables.\n",
    "\n",
    "a) Si le G impose un prix plafond (4€) supérieur au prix d'équilibre (3€) et donc le prix d'équilibre est inférieur au prix plafond, cela ne constitue pas une contrainte pour le marché. *Cf. graphique*\n",
    "\n",
    "b) Si le G impose un prix plafond inférieur (2€) au prix d'équilibre (3€) et donc le prix d'équilibre est supérieur au prix plafond, cela constitue une contrainte pour le marché *Cf. graphique*\n",
    "\n",
    "Le jeu de l'offre et de la demande pousse les prix vers le prix d'équilibre, mais quand le p. plafond est atteint, le prix ne peut plus augmenter. Le prix de marché est alors égal au prix plafond. À ce prix la quantité demandée dépasse largement la quantité offerte. Il y a donc une pénurie de glace, et ceux qui souhaitaient acheter des produits à ce prix ne trouveront pas l'offre correspondante.\n",
    "\n",
    "Résumé: Quand le G=Etat impose un prix plafond contraignant à un marché concurrentiel, il en découle toujours une pénurie des B&S et les vendeurs doivent rationner le produit devenu rare face aux nombreux demandeurs potentiels.\n",
    "\n",
    "Ex. des files d'attente à la station-service  \n",
    "Ex. Contrôle des loyers à CT à LT"
   ]
  },
  {
   "cell_type": "markdown",
   "metadata": {
    "collapsed": true
   },
   "source": [
    "### 2. Le prix minimal ou prix plancher"
   ]
  },
  {
   "cell_type": "code",
   "execution_count": 4,
   "metadata": {
    "collapsed": false
   },
   "outputs": [
    {
     "name": "stderr",
     "output_type": "stream",
     "text": [
      "/Users/yangjingjie/anaconda/lib/python3.6/site-packages/matplotlib/figure.py:402: UserWarning: matplotlib is currently using a non-GUI backend, so cannot show the figure\n",
      "  \"matplotlib is currently using a non-GUI backend, \"\n"
     ]
    }
   ],
   "source": [
    "import numpy as np\n",
    "import matplotlib.pyplot as plt\n",
    "\n",
    "prix = np.linspace(0.5, 4.5)\n",
    "o = 5 - prix\n",
    "d = prix\n",
    "gca = plt.figure()\n",
    "plt.plot(o, prix)\n",
    "plt.plot(d, prix)\n",
    "plt.xticks([])\n",
    "plt.yticks([0, 2, 3, 4])\n",
    "plt.legend(['D', 'O'])\n",
    "plt.show()"
   ]
  },
  {
   "cell_type": "markdown",
   "metadata": {},
   "source": [
    "Remarque: les économistes sont souvent opposés au contrôle des prix car ils considèrent que les prix comme le résultat de millions de décisions des entrepreneurs (offreurs) et les consommateurs (demandeurs) et non comme résultat d'un processus plu sou moins aléatoire (contrôle des prix).\n",
    "\n",
    "C'est parce que les politiques trouvent parfois les résultats du libre jeu du marché injustes. Souvent, le contrôle des prix est censé favoriser les plus pauvres. Typiquement, le contrôle des loyers cherche à rendre le logement accessible à tous et le salaire minimum vise à aider les gens à sortir de la pauvreté. Il y a cependant des effets pervers. Par ex. cela peut décourager les propriétaires d'entretenir leurs apparetements et cela rend les logements difficiles à trouver. Le G pourrait aider les plus démunis en leur payant une partie de leur loyer sans réduire la quantité de logements et donc sans créer de la pénurie."
   ]
  },
  {
   "cell_type": "code",
   "execution_count": null,
   "metadata": {
    "collapsed": true
   },
   "outputs": [],
   "source": []
  }
 ],
 "metadata": {
  "kernelspec": {
   "display_name": "Python 3",
   "language": "python",
   "name": "python3"
  },
  "language_info": {
   "codemirror_mode": {
    "name": "ipython",
    "version": 3
   },
   "file_extension": ".py",
   "mimetype": "text/x-python",
   "name": "python",
   "nbconvert_exporter": "python",
   "pygments_lexer": "ipython3",
   "version": "3.6.1"
  }
 },
 "nbformat": 4,
 "nbformat_minor": 2
}
