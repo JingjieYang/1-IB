{
 "cells": [
  {
   "cell_type": "markdown",
   "metadata": {},
   "source": [
    "## Chapitre 3: L'équilibre de marché, le mécanisme des prix et l'efficience du marché"
   ]
  },
  {
   "cell_type": "markdown",
   "metadata": {},
   "source": [
    "# I. L'équilibre\n",
    "## A. le concept de l'équilibre\n",
    "## B. Les effets de changements de la demande et de l'offre sur l'équilibre"
   ]
  },
  {
   "cell_type": "markdown",
   "metadata": {},
   "source": [
    "$E(P_E, Q_E)$\n",
    "\n",
    "At $Q_E$, $Q_D = Q_O$\n"
   ]
  },
  {
   "cell_type": "markdown",
   "metadata": {},
   "source": [
    "Le dictionnaire définit la notion d'équilibre comme une situation dans laquelle plusieurs forces en présence annulent leurs effets respectifs.\n",
    "\n",
    "Au point d'équilibre, la quantité de B&S que les acheteurs sont prêts à acquérir et capables d'acheter, est égale à la quantité de B&S que les vendeurs sont prêts à vendre et capables de vendre. Un marché est en équilibre lorsque les forces qui agissent sur lui n'ont plus tendance à se modifier.\n",
    "\n",
    "Le prix d'équilibre est appelé aussi le **prix de satisfaction du marché** par ce prix satisfait tout le monde.\n",
    "\n",
    "\n",
    "En effet, les actions des uns et des autres amènent naturellement le marché vers le point d'équilibre.\n",
    "\n",
    "Comment cela?  \n",
    "Nous examinons les effets des changements de la demande et de l'offre sur l'équilibre.\n",
    "\n",
    "### $1^{er}$ cas\n",
    "Supposons que le prix courant (2,5) soit supérieur au prix d'équilibre (2) sur le marché de la glace.  \n",
    "\n",
    "    GRAPHIQUE\n",
    "\n",
    "Au prix de 2,5€ le cornet, la quantité offerte (10) est supérieure à la quantité demandé (4).\n",
    "\n",
    "Soit $Q_O > Q_D$: il y a un SURPLUS de production. Les producteurs sont incapables de vendre tout ce qu'iles ont au prix courant: c'est une situation d'offre excédentaire.\n",
    "\n",
    "Ex. les vendeurs auront leurs congeelateurs pleins de glaces invendus. Ils essaieront d'augmenter leur vente en baissant leur prix de marchandise. En conséquence, les prix baissent jusqu'au prix d'équilibre. *Cf p.35*\n",
    "\n",
    "### $2^{ème} cas$\n",
    "Supposons maintenant que le prix courant (1,5) soit inférieur au prix d'équilibre (2).  \n",
    "\n",
    "    Graphique  \n",
    "\n",
    "Au prix 1,5 le cornet de glace, la quantité demandée (10) excède la quantité offerte (4) soit $Q_D > Q_O$  \n",
    "Il y a une PENURIE de marchandise. Les acheteurs ne peuvent pas acheter tout ce qu'ils veulent au prix courangt: il y a une demande excédentaire.\n",
    "\n",
    "Quand il y a une demande excédentaire sur le marché, les acheteurs vont faire de longues heures de queue pour obtenir l'une des rares glaces disponibls.\n",
    "\n",
    "Les vendeurs peuvent augmenter le prix sans perdre de clients. *Cf. p.35 (b)*\n",
    "\n",
    "Au fur et à mesure que les prix montent, le marché tend vers le point d'équilibre: c'est un **mécanisme d'ajustement**.\n",
    "\n",
    "Les multiples activités des acheteurs et des vendeurs poussent automatiquement le prix du marché (prix courant) vers le prix d'équilibre.\n",
    "\n",
    "La vitesse à laquelle ce point est atteint dépend surtout de la vitesse d'ajustement des prix.\n",
    "\n",
    "La plupart des marchés fonctionnent librement et donc les surplus et les pénuries sont temporaires car les prix se déplacent rapidement.\n",
    "\n",
    "Ce mécanisme d'ajustement s'appelle la LOI DE L'OFFRE ET DE LA DEMANDE. *Cf. graphique p.35*\n"
   ]
  },
  {
   "cell_type": "markdown",
   "metadata": {},
   "source": [
    "# II. Le mécanisme ou contrôle des prix"
   ]
  },
  {
   "cell_type": "markdown",
   "metadata": {},
   "source": [
    "Comment fonctionnenent les marchés? Comment l'équilibre est-il atteint?  \n",
    "Le mécanisme des prix aide à réguler le marché par l'allocation des ressources rares.  \n",
    "Ce prix qui provient du libre jeu du marché peut ne pas satisfaire tout le monde.  \n",
    "Les organisations sont des demandeurs soit des offreurs peuvent exercer des pressions sur l'Etat afin que celui-ci prenne des mesures de contrôle des prix.\n",
    "\n",
    "Comme les acheteurs d'un produit veulent toujours le payer moins cher tandis que les vendeurs veulent le vendre plus cher, les intérêts des deux groupes sont contradictoires.\n",
    "\n",
    "Si le lobbying des consommateurs est couronné de succès, le gouvernement imposera un PRIX MAXIMAL, au-delà duquel produits ne pourront être vendurs: on parle des **prix plafonds**.\n",
    "\n",
    "Si les producteurs de produit l'importent, le gouvernement imposera un PRIX MINIMAL, en dessous duquel les produits ne pourront être vendues: on parle des **prix planchers**."
   ]
  },
  {
   "cell_type": "markdown",
   "metadata": {},
   "source": [
    "## 1. Le prix maximal ou prix plafond\n",
    "Si le gouvernement, convaincu par les dires des consommateurs, impose un prix maximal, deux conséquences (effets) sont envisageables.\n",
    "\n",
    "a) Si le G impose un prix plafond (4€) supérieur au prix d'équilibre (3€) et donc le prix d'équilibre est inférieur au prix plafond, cela ne constitue pas une contrainte pour le marché. *Cf. graphique*\n",
    "\n",
    "b) Si le G impose un prix plafond inférieur (2€) au prix d'équilibre (3€) et donc le prix d'équilibre est supérieur au prix plafond, cela constitue une contrainte pour le marché *Cf. graphique*\n",
    "\n",
    "Le jeu de l'offre et de la demande pousse les prix vers le prix d'équilibre, mais quand le p. plafond est atteint, le prix ne peut plus augmenter. Le prix de marché est alors égal au prix plafond. À ce prix la quantité demandée dépasse largement la quantité offerte. Il y a donc une pénurie de glace, et ceux qui souhaitaient acheter des produits à ce prix ne trouveront pas l'offre correspondante.\n",
    "\n",
    "Résumé: Quand le G=Etat impose un prix plafond contraignant à un marché concurrentiel, il en découle toujours une pénurie des B&S et les vendeurs doivent rationner le produit devenu rare face aux nombreux demandeurs potentiels.\n",
    "\n",
    "Ex. des files d'attente à la station-service  \n",
    "Ex. Contrôle des loyers à CT à LT"
   ]
  },
  {
   "cell_type": "markdown",
   "metadata": {
    "collapsed": true
   },
   "source": [
    "## 2. Le prix minimal ou prix plancher"
   ]
  },
  {
   "cell_type": "code",
   "execution_count": 1,
   "metadata": {},
   "outputs": [
    {
     "data": {
      "image/png": "[encoded data removed]",
      "text/plain": [
       "<matplotlib.figure.Figure at 0x106978fd0>"
      ]
     },
     "metadata": {},
     "output_type": "display_data"
    }
   ],
   "source": [
    "import numpy as np\n",
    "import matplotlib.pyplot as plt\n",
    "%matplotlib inline\n",
    "\n",
    "prix = np.linspace(0.5, 4.5)\n",
    "o = 5 - prix\n",
    "d = prix\n",
    "gca = plt.figure()\n",
    "plt.plot(o, prix)\n",
    "plt.plot(d, prix)\n",
    "plt.xticks([])\n",
    "plt.yticks([0, 2, 3, 4])\n",
    "plt.legend(['D', 'O'])\n",
    "plt.show()"
   ]
  },
  {
   "cell_type": "markdown",
   "metadata": {},
   "source": [
    "Remarque: les économistes sont souvent opposés au contrôle des prix car ils considèrent que les prix comme le résultat de millions de décisions des entrepreneurs (offreurs) et les consommateurs (demandeurs) et non comme résultat d'un processus plu sou moins aléatoire (contrôle des prix).\n",
    "\n",
    "C'est parce que les politiques trouvent parfois les résultats du libre jeu du marché injustes. Souvent, le contrôle des prix est censé favoriser les plus pauvres. Typiquement, le contrôle des loyers cherche à rendre le logement accessible à tous et le salaire minimum vise à aider les gens à sortir de la pauvreté. Il y a cependant des effets pervers. Par ex. cela peut décourager les propriétaires d'entretenir leurs apparetements et cela rend les logements difficiles à trouver. Le G pourrait aider les plus démunis en leur payant une partie de leur loyer sans réduire la quantité de logements et donc sans créer de la pénurie."
   ]
  },
  {
   "cell_type": "markdown",
   "metadata": {
    "collapsed": true
   },
   "source": [
    "# 3. L'efficience du marché\n"
   ]
  },
  {
   "cell_type": "markdown",
   "metadata": {},
   "source": [
    "## 1. Le surplus des consommateurs et des producteurs *cf. le dossier distribué*\n",
    "La valauer monétaire enregistrée d'un B&S (mesurée par le produit de son prix par la quantité) peut être très trompeuse en tant qu'indicateur de la valeur économique totale de ce bien.\n",
    "\n",
    "La valauer économique mesurée de l'air que nous respirons est égale à zéro et pourtant la contribution de l'air au bien-être est incommensurablement grande.\n",
    "\n",
    "L'écart entre l'utilité totale d'un B&S et sa valauer totale de marché est qualifié de **surplus du consommateur**.\n",
    "\n",
    "Le surplus apparaît parce que nous recevons plus que ce que nous payons du fait de la loi de l'utilité marginale décroissante.\n",
    "\n",
    "#### Dº\n",
    "La loi de l'utilité marginale décroissante afirme qu'à mesure que la quantité consommée d'un B&S augmente, l'utilité de ce bien tend à diminuer.\n",
    "\n",
    "### Le surplus du consommateur\n",
    "Le surplus du consommateur apparaît fondamental car nous payons la même somme pour toute unité achetée, de la première à la dernière. Nous payons chaque pomme le même prix. Nous payons pour *chaque* unité ce que vaut la *dernière* unité. Mais en raison de notre loi fondamentale de l'utilité décroissante, les premières unités ont plus de valeur pour nous que la dernière. Nous jouissons donc d'un surplus d'utilité pour chacune des unité antérieures à la dernière.\n",
    "\n",
    "La surplus du consommateur est la surface comprise entre la courbe de demande et la droite des prix. La courbe de demande mesure le montant que le consommateur est prêt à payer pour chaque unité consommée. La surface totale située sous la courbe de D traduit l'utilié totale associée à la consommation de pomme.\n",
    "\n",
    "Si le surplus total des consommateurs dépasse son coût, en général l'économie recommandera de construire, par exemple une autoroute, gratuitement.\n",
    "\n",
    "### Le surplus de l'offreur\n",
    "Ceci est clairement démontré par la courbe de l'offre, par exemple, au prix de 5\\$ il y aurait encore cinq produits fournis et à un prix de 3\\$ il y aurait une offre de trois produits. Toutefois, le producteur n'a pas à vendre pour 5\\$ ou 3\\$, il peut vendre ses produits au prix d'équilibre. Cela signifie qu'il aura fait un gain sur chacun des neuf premiers produits en termes de ce qu'il aurait accepté pour eux. Il a reçu un prix supérieur à celui qu'il était prêt à accepter. \n",
    "\n",
    "Cela illustre le concept de surplus du producteur, il est défini comme l'excédent des gains réels qu'un producteur fait à partir d'une quantité donnée de sortie, au-delà de la somme que le producteur serait prêt à accepter pour la sortie de cette production. Dans le cas, le producteur était prêt à fournir un truc pour un peu que 1\\$, mais elle reçoit 10\\$ pour chaque bidule. Le surplus du producteur total est généralement représenté par l'aire sous le prix d'équilibre et au dessus de la courbe de l'offre.\n",
    "\n",
    "Considérez Figure 3.4 illustrant le marché des bidules, un produit imaginaire dont on a oublié le nom.\n",
    "\n",
    "> La courbe d'offre représente la courbe du coût social maginal càd elle représente la courbe où les côuts de la production sont équivalents aux côuts sociaux. (Dº coût social) La courbe de mande est déterminée par l'utilité que la consommation des B&S apporte aux consommateurs. Elle nous enseigne sur l'utilité de chaque consommateur, càd leur degré de satisfaction. Dans le cas où l'utilité sociale est équivalente à l'utilité du marché, la courbe de demande représente les bénéfices sociaux (attetion: le terme bénéfice est normalement réservé pour des producteurs = profit, mais ici il s'agit des consommateurs = avangage / gain).\n",
    "\n",
    "Comme nous pouvons le voir, le prix de bidules d'équilibre est de 10\\$ et la quantité d'équilibre demandée et fournie est dix bidules par semaine. Ceci est déterminé par les forces de l'offre et la demande. "
   ]
  },
  {
   "cell_type": "markdown",
   "metadata": {},
   "source": [
    "## 2. L'efficacité de l'allocation\n",
    "L'organisation du marché est une activité efficace pour la société. Il est possible de l'affirmer à l'aide de l'analyse du marché concurenciel. Une économie est dite efficace quand on peut augmenter le degré de satisfaction d'un individu sans diminuer celui des autres individus. Cela suppose que toutes les entreprises soient en concurrence parfaite et qu'il n'y ait pas d'externalité (comme la polution). Un marché est en équlibre lorsqu'il n'y a aucune influence extérieure. À ce moment-là il produit une efficacité sociale. "
   ]
  }
 ],
 "metadata": {
  "kernelspec": {
   "display_name": "Python 3",
   "language": "python",
   "name": "python3"
  },
  "language_info": {
   "codemirror_mode": {
    "name": "ipython",
    "version": 3
   },
   "file_extension": ".py",
   "mimetype": "text/x-python",
   "name": "python",
   "nbconvert_exporter": "python",
   "pygments_lexer": "ipython3",
   "version": "3.6.3"
  }
 },
 "nbformat": 4,
 "nbformat_minor": 2
}
