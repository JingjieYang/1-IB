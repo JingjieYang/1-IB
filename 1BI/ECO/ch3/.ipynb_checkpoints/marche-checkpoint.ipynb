{
 "cells": [
  {
   "cell_type": "markdown",
   "metadata": {},
   "source": [
    "## Chapitre 3: L'équilibre de marché, le mécanisme des prix et l'efficience du marché"
   ]
  },
  {
   "cell_type": "markdown",
   "metadata": {},
   "source": [
    "$E(P_E, Q_E)$\n",
    "\n",
    "At $Q_E$, $Q_D = Q_O$\n"
   ]
  },
  {
   "cell_type": "markdown",
   "metadata": {},
   "source": [
    "Le dictionnaire définit la notion d'équilibre comme une situation dans laquelle plusieurs forces en présence annulent leurs effets respectifs.\n",
    "\n",
    "Au point d'équilibre, la quantité de B&S que les acheteurs sont prêts à acquérir et capables d'acheter, est égale à la quantité de B&S que les vendeurs sont prêts à vendre et capables de vendre. Un marché est en équilibre lorsque les forces qui agissent sur lui n'ont plus tendance à se modifier.\n",
    "\n",
    "Le prix d'équilibre est appelé aussi le **prix de satisfaction du marché** par ce prix satisfait tout le monde.\n",
    "\n",
    "\n",
    "En effet, les actions des uns et des autres amènent naturellement le marché vers le point d'équilibre.\n",
    "\n",
    "Comment cela?  \n",
    "Nous examinons les effets des changements de la demande et de l'offre sur l'équilibre.\n",
    "\n",
    "### $1^{er}$ cas\n",
    "Supposons que le prix courant (2,5) soit supérieur au prix d'équilibre (2) sur le marché de la glace. GRAPHIQUE\n",
    "\n",
    "Au prix de 2,5€ le cornet, la quantité offerte (10) est supérieure à la quantité demandé (4).\n",
    "\n",
    "Soit $Q_O > Q_D$: il y a un SURPLUS de production. Les producteurs sont incapables de vendre tout ce qu'iles ont au prix courant: c'est une situation d'offre excédentaire.\n",
    "\n",
    "Ex. les vendeurs auront leurs congeelateurs pleins de glaces invendus. Ils essaieront d'augmenter leur vente en baissant leur prix de marchandise. En conséquence, les prix baissent jusqu'au prix d'équilibre. *Cf p.35*"
   ]
  },
  {
   "cell_type": "markdown",
   "metadata": {},
   "source": []
  }
 ],
 "metadata": {
  "kernelspec": {
   "display_name": "Python 3",
   "language": "python",
   "name": "python3"
  },
  "language_info": {
   "codemirror_mode": {
    "name": "ipython",
    "version": 3
   },
   "file_extension": ".py",
   "mimetype": "text/x-python",
   "name": "python",
   "nbconvert_exporter": "python",
   "pygments_lexer": "ipython3",
   "version": "3.6.1"
  }
 },
 "nbformat": 4,
 "nbformat_minor": 2
}
