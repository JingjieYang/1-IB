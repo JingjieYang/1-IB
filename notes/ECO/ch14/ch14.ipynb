{
 "cells": [
  {
   "cell_type": "markdown",
   "metadata": {},
   "source": [
    "# Ch 14 Demande Globale"
   ]
  },
  {
   "cell_type": "markdown",
   "metadata": {},
   "source": [
    "# I. DG\n",
    "- Dº\n",
    "- représentation\n",
    "- Décomposition -> C + I + G + (X - M)\n",
    "- Forme de la courbe\n",
    "- Changements de la DG\n",
    "    - variables exogènes"
   ]
  },
  {
   "cell_type": "markdown",
   "metadata": {},
   "source": [
    "# II. Changement dans les composants de la DG"
   ]
  },
  {
   "cell_type": "markdown",
   "metadata": {},
   "source": [
    "## A. Changement de la Cº\n",
    "### 1. Revenu\n",
    "Revenu **national** := $\\Sigma$ revenu disponible de tous les ménages  \n",
    "++ -> ++Cº -> ++DG;\n",
    "### 2. $i$ (taux d'intérêt)\n",
    "banque centrale  \n",
    "++ -> --Cº -> --DG;\n",
    "### 3. Patrimoine\n",
    "tout ce que possède un acteur économique (stock ≠ fluide)  \n",
    "++ -> ++Cº -> ++DG;\n",
    "### 4. Confiance / anticipation\n",
    "Indice de confiance à la Cº  \n",
    "++ -> ++Cº -> ++DG;\n",
    "### 5. Endettement des ménages\n",
    "++ -> --Cº -> --DG;"
   ]
  },
  {
   "cell_type": "markdown",
   "metadata": {},
   "source": [
    "## B. Changement de l'investissement\n",
    "### 1. $i$\n",
    "### 2. Revenu national\n",
    "### 3. Progrès technique\n",
    "### 4. Anticipation"
   ]
  },
  {
   "cell_type": "markdown",
   "metadata": {},
   "source": [
    "## C. Changement de dépense de l'Etat (G)"
   ]
  },
  {
   "cell_type": "markdown",
   "metadata": {},
   "source": [
    "## D. Changement de "
   ]
  },
  {
   "cell_type": "code",
   "execution_count": null,
   "metadata": {},
   "outputs": [],
   "source": []
  }
 ],
 "metadata": {
  "kernelspec": {
   "display_name": "Python 3",
   "language": "python",
   "name": "python3"
  },
  "language_info": {
   "codemirror_mode": {
    "name": "ipython",
    "version": 3
   },
   "file_extension": ".py",
   "mimetype": "text/x-python",
   "name": "python",
   "nbconvert_exporter": "python",
   "pygments_lexer": "ipython3",
   "version": "3.6.4"
  }
 },
 "nbformat": 4,
 "nbformat_minor": 2
}
