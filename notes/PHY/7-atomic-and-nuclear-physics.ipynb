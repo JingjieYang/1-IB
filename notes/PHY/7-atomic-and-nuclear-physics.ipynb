{
 "cells": [
  {
   "cell_type": "markdown",
   "metadata": {},
   "source": [
    "# Topic 7: Atomic and Nuclear Physics"
   ]
  },
  {
   "cell_type": "markdown",
   "metadata": {},
   "source": [
    "**Radioactivity**: the emission by matter of particles at random moments in time.\n",
    "*Example diagram*:\n",
    "    \n",
    "    some element x 16    same element    \n",
    "           oooo             oooo  |      \n",
    "           oooo       =>    o*oo<-+\n",
    "           oooo             oo*o         \n",
    "           oooo          +->*oo*         \n",
    "                         |\n",
    "                         different element\n",
    "            t0        ->     t1\n",
    "                         \n",
    "    some element x 16    same element    \n",
    "           oooo             o*oo  |      \n",
    "           oooo       =>    oo*o<-+\n",
    "           oooo          +->*ooo         \n",
    "                         |\n",
    "                         different element\n",
    "            t1               t2\n",
    "            \n",
    "            t1 - t0 = t2 - t1\n",
    "\n",
    "The activity of the sample is proportional to the size of the sample."
   ]
  },
  {
   "cell_type": "markdown",
   "metadata": {},
   "source": [
    "## Finding the $N(t)$ function\n",
    "$\\begin{aligned}\n",
    "&\\begin{cases}\n",
    "N(0) = N_0\\\\\n",
    "\\frac{d}{dx} N(t) = -k N(t)\n",
    "\\end{cases}\\\\\n",
    "&\\int \\frac{d N(t)}{dt} dt = \\int -k N(t) dt\\\\\n",
    "\\implies &N(t) = \\int -k N(t) dt\\\\\n",
    "&N(t) = N_0 e^{-kt}\\\\\n",
    "\\end{aligned}$"
   ]
  },
  {
   "cell_type": "markdown",
   "metadata": {},
   "source": [
    "**Half-life**: time taken for 50% of original sample to decay.\n",
    "* 3 original points\n",
    "* Find time to $\\frac{N_0}{2}$ for each one\n",
    "* Average of 3 -> $t_{1/2}$"
   ]
  },
  {
   "cell_type": "markdown",
   "metadata": {},
   "source": [
    "## Types of radioactive decay\n",
    "* Alpha: 2 protons, 2 neutrons = helium nucleus; $+2$ charge; most massive of 3; absorbed by sheet of papers\n",
    "* Beta: electron/positron emission; $\\beta^+, \\beta^-$; nearly massless; 25cm of air, mm of metal\n",
    "* Gamma: electromagnetic radiation; most penetrating: absorbed by cm of lead, m of concrete"
   ]
  },
  {
   "cell_type": "markdown",
   "metadata": {},
   "source": [
    "$\\begin{aligned}\n",
    "\\alpha: \\rm{U}_{92}^{238} &\\longrightarrow \\rm{He}_{2}^{4} + \\rm{Th}_{90}^{234}\\\\\n",
    "        \\rm{Th}_{90}^{234} &\\longrightarrow \\underbrace{\\rm{He}_{2}^{4}}_{\\alpha_{2}^{4}} + \\rm{Ra}_{88}^{230}\\\\\n",
    "\\end{aligned}$"
   ]
  },
  {
   "cell_type": "markdown",
   "metadata": {},
   "source": [
    "$\\begin{aligned}\n",
    "\\beta: \\rm{n} &\\longrightarrow \\rm{p}^+ + \\rm{e}^- + \\overline{\\rm{v}_\\rm{e}}\\\\\n",
    "       \\rm{p}^+ &\\longrightarrow \\rm{n} + \\rm{e}^+ + \\rm{v}_\\rm{e}\\\\\n",
    "       \\\\\n",
    "       \\rm{I}_{53}^{131} &\\longrightarrow \\rm{e}^- + \\overline{\\rm{v}_\\rm{e}} + \\rm{Xe}_{54}^{131}\\\\\n",
    "       \\rm{Th}_{90}^{234} &\\longrightarrow \\rm{e}^- + \\overline{\\rm{v}_\\rm{e}} + \\rm{Pa}_{91}^{234}\n",
    "\\end{aligned}$"
   ]
  },
  {
   "cell_type": "markdown",
   "metadata": {},
   "source": [
    "$\\begin{aligned}\n",
    "\\gamma: \\rm{Co}_{27}^{60} &\\longrightarrow \\rm{e}_{-1}^{0} + \\rm{Ni}_{28}^{60} + \\overline{\\rm{v}_\\rm{e}} + \\gamma\\\\\n",
    "        {\\rm{Ni}_{28}^{60}}^* &\\longrightarrow \\rm{Ni}_{28}^{60} + \\gamma\n",
    "\\end{aligned}$"
   ]
  },
  {
   "cell_type": "markdown",
   "metadata": {},
   "source": [
    "## Energy levels and spectra\n",
    "Electrons have determined energy legels that are allowed within the atom.\n",
    "\n",
    "$\\begin{aligned}\n",
    "c &= \\lambda f \\implies f = \\dfrac{c}{\\lambda}\\\\\n",
    "E &= \\dfrac{h c}{\\lambda} = h f\n",
    "\\end{aligned}$  \n",
    "where \n",
    "* $\\lambda =$ wavelenth\n",
    "* $c =$ speed of light\n",
    "* $h =$ Plank's constant"
   ]
  },
  {
   "cell_type": "markdown",
   "metadata": {},
   "source": [
    "**Activity** of a sample is proportional to the number of decays per unit time.  \n",
    "1 becquerel -> 1 decay/second"
   ]
  },
  {
   "cell_type": "markdown",
   "metadata": {},
   "source": [
    "## Spectra\n",
    "![continuous spectrum, emission & absorption lines](http://www.astronomy.ohio-state.edu/~pogge/Ast161/Unit4/Images/Kirchoff.png)\n",
    "\n",
    "Gas absorbs radiation of certain energy and re-emit in ALL directions  \n",
    "=> explains the dark bands in absorption spectrum: low intensity"
   ]
  },
  {
   "cell_type": "markdown",
   "metadata": {},
   "source": [
    "## Unified atomic mass unit: $\\rm{u}$\n",
    "$1\\rm{u}$ is equal to $\\dfrac{1}{12}$th mass of $^{12}\\rm{C}$ nucleus that is\n",
    "* unbound\n",
    "* at rest\n"
   ]
  },
  {
   "cell_type": "markdown",
   "metadata": {},
   "source": [
    "## Nuclear binding energy and mass defect\n",
    "**Mass defect**: the sum of masses of components of a nucleus ≠ mass of nucleus\n",
    "\n",
    "The nucleus is in a bound state and we can graph the binding energy per nucleon vs nucleon number.\n",
    "\n",
    "![Binding energy per nucleon (MeV) against #nucleons A](http://www.nuceng.ca/igna/physics_img/physic10.gif)\n",
    "\n",
    "Mass nucleus < $\\sum$Mass components"
   ]
  },
  {
   "cell_type": "markdown",
   "metadata": {
    "slideshow": {
     "slide_type": "notes"
    }
   },
   "source": [
    "## $_2^3\\rm{He}$ binding energy per nucleon?\n",
    "$\\begin{aligned}\n",
    "m_{_2^3\\rm{He}} &= 3.01603 \\rm{u}\\\\\n",
    "m_p &= 1.00728 \\rm{u}\\\\\n",
    "m_n &= 1.00867 \\rm{u}\\\\\n",
    "1\\rm{u} &= 931.5 \\rm{MeV/c}^2\n",
    "\\end{aligned}$\n",
    "\n",
    "$\\begin{aligned}\n",
    "E &= m c^2\\\\\n",
    "  &= (2 m_p + m_n - m_{_2^3\\rm{He}}) c^2\\\\\n",
    "  &= 0.072 \\rm{u} c^2\\\\\n",
    "  &= 0.0072 \\times 931.5 \\rm{MeV/c}^2\\\\\n",
    "  &= 6.71 \\rm{MeV/c}^2\\\\\n",
    "\\end{aligned}$\n",
    "\n",
    "Hence binding energy per nucleon is $2.24 \\rm{MeV}$ (in a framework where we take $c = 1$)."
   ]
  },
  {
   "cell_type": "markdown",
   "metadata": {},
   "source": [
    "## Nuclear fusion\n",
    "The fusion of lighter nuclei into heavier nuclei  \n",
    "* stars\n",
    "\n",
    "$\\begin{aligned}\n",
    "&_1^2\\rm{H} + _1^2\\rm{H} \\longrightarrow _2^4\\rm{He}\\\\\n",
    "&m_{_1^2\\rm{H}} = 2.01410177799 \\rm{u}\\\\\n",
    "&m_{_2^4\\rm{He}} = 4.02602 \\rm{u}\\\\\n",
    "\\end{aligned}$\n",
    "\n",
    "$E = (2 \\times 2.01410177799 - 4.02602) \\times 931.5 = 2.03 \\rm{MeV}$\n",
    "\n",
    "This does **not** occur spontaneously in normal T, P  \n",
    "=> requires VERY high T & P (~15 million ºC)"
   ]
  },
  {
   "cell_type": "markdown",
   "metadata": {},
   "source": [
    "## Nuclear fission\n",
    "Fission of nuclei: heavier nuclei break up and release energy.\n",
    "\n",
    "$_{92}^{236}\\rm{U} \\longrightarrow _{56}^{141}\\rm{Ba} + _{36}^{92}\\rm{Kr} + 3 _0^1 n$\n",
    "* $m_{_{92}^{236}\\rm{U}} = 236.045568$\n",
    "* $m_{_{56}^{141}\\rm{Ba}} = 91.926156$\n",
    "* $m_{_{36}^{92}\\rm{Kr}} = 140.914411$\n",
    "\n",
    "$E = 166.7 \\rm{MeV}$\n",
    "\n",
    "$_{56}^{141}\\rm{Ba}$ then goes through $\\beta^-$ decay. What element does it become?  \n",
    "Lanthane ($_{57}^{141} \\rm{La}$)"
   ]
  },
  {
   "cell_type": "markdown",
   "metadata": {},
   "source": [
    "## Geiger-Muller tube / detector\n",
    "* Radiation goes through mica aperture \n",
    "* Ioniser low pressure gas\n",
    "* Charged particles move towards electrode\n",
    "* Registers a count of radiation"
   ]
  },
  {
   "cell_type": "markdown",
   "metadata": {},
   "source": [
    "# Particles\n",
    "protons, neutrons are made up of quarks\n",
    "\n",
    "**Quarks**: `up`, `top`, `down`, `strange`, `charm`, `bottom`\n",
    "\n",
    "* Proton: `uud`\n",
    "* Neutron: `udd`\n",
    "\n",
    "| Quarks | Charge |\n",
    "|--------|--------|\n",
    "|`u`, `c`, `t`| $\\dfrac{2}{3} e$|\n",
    "|`d`, `s`, `b`| $\\dfrac{2}{3} e$|\n",
    "`u` & `d`, etc.: generations\n",
    "\n",
    "Quarks have baryon number $\\dfrac{1}{3}$.\n",
    "\n",
    "Quarks make up hadrons:\n",
    "* baryons (3 quarks)\n",
    "* mesons (2 quarks) \n",
    "* bosons (quark + antiquark)\n",
    "\n",
    "Leptons are:\n",
    "* $e$: electron\n",
    "* $\\mu$: muon\n",
    "* $\\tau$: tau\n",
    "* $\\nu_e$: electron neutrino\n",
    "* $\\nu_\\mu$: muon neutrino\n",
    "* $\\nu_\\tau$: tau neutrino\n",
    "\n",
    "These all have lepton number $1$."
   ]
  },
  {
   "cell_type": "markdown",
   "metadata": {},
   "source": [
    "| Four forces act on particles | Particles that mediate |\n",
    "|:----------------------------:|:----------------------:|\n",
    "| Electromagnetic | $\\gamma$ (photon) |\n",
    "| Strong nuclear | gluon |\n",
    "| Weak nuclear | $w^+$, $w^-$, $z^0$ (bosons) |\n",
    "| Gravitational | Graviton |"
   ]
  },
  {
   "cell_type": "markdown",
   "metadata": {},
   "source": [
    "## Feynman diagrams\n",
    "Represent particle interactions pictorially\n",
    "\n",
    "![electron scattering](https://sciencevspseudoscience.files.wordpress.com/2011/12/moller_feynman_tree.png)\n",
    "(Y time/space X)\n",
    "\n",
    "**Electromagnetic force**: electron scattered, force mediated by virtual photon $\\gamma$\n",
    "\n",
    "![strong force](http://hyperphysics.phy-astr.gsu.edu/hbase/Particles/imgpar/feynm5.gif)\n",
    "\n",
    "**Strong force interaction**: proton, neutron scattering, mediated by $\\pi$ meson (meson mediation)\n"
   ]
  },
  {
   "cell_type": "markdown",
   "metadata": {},
   "source": [
    "![weak interactions](http://hyperphysics.phy-astr.gsu.edu/hbase/Particles/imgpar/feynud.gif)  \n",
    "$\\beta^-$ and $\\beta^+$ decay\n",
    "\n",
    "Anti particle have arrows going opposite"
   ]
  },
  {
   "cell_type": "markdown",
   "metadata": {},
   "source": [
    "$\\Lambda^0 (u, d, s)$~$p (u, d, u)$ -> $(\\bar{u}, d) \\pi^-$\n",
    "\n",
    "* Quark structures of meson/baryon?  \n",
    "**meson:** quark + antiquark; **baryon:** 3 quarks\n",
    "* Which forces responsible?  \n",
    "weak force (strangeness is not conserved)\n",
    "* Exchange particle  \n",
    "$w^-$ boson"
   ]
  },
  {
   "cell_type": "markdown",
   "metadata": {},
   "source": [
    "## Diagrams for $e^+ / e^-$ annihilation + pair production\n",
    "![annihilation](https://i.stack.imgur.com/I6pKL.png)\n"
   ]
  },
  {
   "cell_type": "markdown",
   "metadata": {},
   "source": [
    "## Quark confinement\n",
    "Cannot see individual quarks: they are confined within their particles.\n",
    "\n",
    "Energy put in to separate quarks at some point makes new quarks\n",
    "\n",
    "![Inseparability of quarks](https://qph.fs.quoracdn.net/main-qimg-5f56c16ebb060ddd52eaf60dd456b527-c)"
   ]
  },
  {
   "cell_type": "code",
   "execution_count": null,
   "metadata": {},
   "outputs": [],
   "source": []
  }
 ],
 "metadata": {
  "kernelspec": {
   "display_name": "Python 3",
   "language": "python",
   "name": "python3"
  },
  "language_info": {
   "codemirror_mode": {
    "name": "ipython",
    "version": 3
   },
   "file_extension": ".py",
   "mimetype": "text/x-python",
   "name": "python",
   "nbconvert_exporter": "python",
   "pygments_lexer": "ipython3",
   "version": "3.6.5"
  }
 },
 "nbformat": 4,
 "nbformat_minor": 2
}
