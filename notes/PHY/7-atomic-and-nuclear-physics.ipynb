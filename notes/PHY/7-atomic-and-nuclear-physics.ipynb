{
 "cells": [
  {
   "cell_type": "markdown",
   "metadata": {},
   "source": [
    "# Topic 7: Atomic and Nuclear Physics"
   ]
  },
  {
   "cell_type": "markdown",
   "metadata": {},
   "source": [
    "**Radioactivity**: the emission by matter of particles at random moments in time.\n",
    "*Example diagram*:\n",
    "    \n",
    "    some element x 16    same element    \n",
    "           oooo             oooo  |      \n",
    "           oooo       =>    o*oo<-+\n",
    "           oooo             oo*o         \n",
    "           oooo          +->*oo*         \n",
    "                         |\n",
    "                         different element\n",
    "            t0        ->     t1\n",
    "                         \n",
    "    some element x 16    same element    \n",
    "           oooo             o*oo  |      \n",
    "           oooo       =>    oo*o<-+\n",
    "           oooo          +->*ooo         \n",
    "                         |\n",
    "                         different element\n",
    "            t1               t2\n",
    "            \n",
    "            t1 - t0 = t2 - t1\n",
    "\n",
    "The activity of the sample is proportional to the size of the sample."
   ]
  },
  {
   "cell_type": "markdown",
   "metadata": {},
   "source": [
    "## Finding the $N(t)$ function\n",
    "$\\begin{aligned}\n",
    "&\\begin{cases}\n",
    "N(0) = N_0\\\\\n",
    "\\frac{d}{dx} N(t) = -k N(t)\n",
    "\\end{cases}\\\\\n",
    "&\\int \\frac{d N(t)}{dt} dt = \\int -k N(t) dt\\\\\n",
    "\\implies &N(t) = \\int -k N(t) dt\\\\\n",
    "&N(t) = N_0 e^{-kt}\\\\\n",
    "\\end{aligned}$"
   ]
  },
  {
   "cell_type": "markdown",
   "metadata": {},
   "source": [
    "**Half-life**: time taken for 50% of original sample to decay.\n",
    "* 3 original points\n",
    "* Find time to $\\frac{N_0}{2}$ for each one\n",
    "* Average of 3 -> $t_{1/2}$"
   ]
  },
  {
   "cell_type": "markdown",
   "metadata": {},
   "source": [
    "## Types of radioactive decay\n",
    "* Alpha: 2 protons, 2 neutrons = helium nucleus; $+2$ charge; most massive of 3; absorbed by sheet of papers\n",
    "* Beta: electron/positron emission; $\\beta^+, \\beta^-$; nearly massless; 25cm of air, mm of metal\n",
    "* Gamma: electromagnetic radiation; most penetrating: absorbed by cm of lead, m of concrete"
   ]
  },
  {
   "cell_type": "markdown",
   "metadata": {},
   "source": [
    "$\\begin{aligned}\n",
    "\\alpha: \\rm{U}_{92}^{238} &\\longrightarrow \\rm{He}_{2}^{4} + \\rm{Th}_{90}^{234}\\\\\n",
    "        \\rm{Th}_{90}^{234} &\\longrightarrow \\underbrace{\\rm{He}_{2}^{4}}_{\\alpha_{2}^{4}} + \\rm{Ra}_{88}^{230}\\\\\n",
    "\\end{aligned}$"
   ]
  },
  {
   "cell_type": "markdown",
   "metadata": {},
   "source": [
    "$\\begin{aligned}\n",
    "\\beta: \\rm{n} &\\longrightarrow \\rm{p}^+ + \\rm{e}^- + \\overline{\\rm{v}_\\rm{e}}\\\\\n",
    "       \\rm{p}^+ &\\longrightarrow \\rm{n} + \\rm{e}^+ + \\rm{v}_\\rm{e}\\\\\n",
    "       \\\\\n",
    "       \\rm{I}_{53}^{131} &\\longrightarrow \\rm{e}^- + \\overline{\\rm{v}_\\rm{e}} + \\rm{Xe}_{54}^{131}\\\\\n",
    "       \\rm{Th}_{90}^{234} &\\longrightarrow \\rm{e}^- + \\overline{\\rm{v}_\\rm{e}} + \\rm{Pa}_{91}^{234}\n",
    "\\end{aligned}$"
   ]
  },
  {
   "cell_type": "markdown",
   "metadata": {},
   "source": [
    "$\\begin{aligned}\n",
    "\\gamma: \\rm{Co}_{27}^{60} &\\longrightarrow \\rm{e}_{-1}^{0} + \\rm{Ni}_{28}^{60} + \\overline{\\rm{v}_\\rm{e}} + \\gamma\\\\\n",
    "        {\\rm{Ni}_{28}^{60}}^* &\\longrightarrow \\rm{Ni}_{28}^{60} + \\gamma\n",
    "\\end{aligned}$"
   ]
  },
  {
   "cell_type": "markdown",
   "metadata": {},
   "source": [
    "## Energy levels and spectra\n",
    "Electrons have determined energy legels that are allowed within the atom.\n",
    "\n",
    "$\\begin{aligned}\n",
    "c &= \\lambda f \\implies f = \\dfrac{c}{\\lambda}\\\\\n",
    "E &= \\dfrac{h c}{\\lambda} = h f\n",
    "\\end{aligned}$  \n",
    "where \n",
    "* $\\lambda =$ wavelenth\n",
    "* $c =$ speed of light\n",
    "* $h =$ Plank's constant"
   ]
  },
  {
   "cell_type": "markdown",
   "metadata": {},
   "source": [
    "**Activity** of a sample is proportional to the number of decays per unit time.  \n",
    "1 becquerel -> 1 decay/second"
   ]
  },
  {
   "cell_type": "code",
   "execution_count": null,
   "metadata": {},
   "outputs": [],
   "source": []
  }
 ],
 "metadata": {
  "kernelspec": {
   "display_name": "Python 3",
   "language": "python",
   "name": "python3"
  },
  "language_info": {
   "codemirror_mode": {
    "name": "ipython",
    "version": 3
   },
   "file_extension": ".py",
   "mimetype": "text/x-python",
   "name": "python",
   "nbconvert_exporter": "python",
   "pygments_lexer": "ipython3",
   "version": "3.6.5"
  }
 },
 "nbformat": 4,
 "nbformat_minor": 2
}
