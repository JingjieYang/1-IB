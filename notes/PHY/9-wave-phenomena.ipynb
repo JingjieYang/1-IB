{
 "cells": [
  {
   "cell_type": "markdown",
   "metadata": {},
   "source": [
    "# Simple harmonic motion\n",
    "* $a = -kx$: acceleration $\\propto$ displacement\n",
    "* $a = -\\omega^2 x$ where angular frequency $\\omega = 2\\pi f = \\dfrac{2\\pi}{T}$ - (angle in radians) over (time for 1 revolution in seconds)\n",
    "\n",
    "Denote\n",
    "* $x$ the displacement from equilibrium position\n",
    "* $x_0$ the amplitude\n",
    "\n",
    "$\\begin{aligned}\n",
    "v &= \\pm \\omega \\sqrt{{x_0}^2 - x^2}\\\\\n",
    "E_T &= \\frac{1}{2} m \\omega^2 {x_0}^2\\\\\n",
    "E_k &= \\frac{1}{2} m \\omega^2 ({x_0}^2 - x^2)\\\\\n",
    "T_{\\text{pendulum}} &= 2\\pi \\sqrt{\\frac{l}{g}}\\\\\n",
    "T_{\\text{mass on spring}} &= 2\\pi \\sqrt{\\frac{m}{k}}\\\\\n",
    "\\end{aligned}$\n",
    "\n",
    "$\\begin{aligned}\n",
    "a &= -\\omega^2 x(t)\\\\\n",
    "a &= -\\omega^2 x_0 \\sin(\\omega t)\\\\\n",
    "v(t) &= \\omega x_0 \\cos(\\omega t)\\\\\n",
    "x(t) &= x_0 \\sin(\\omega t)\\\\\n",
    "\\end{aligned}$"
   ]
  },
  {
   "cell_type": "markdown",
   "metadata": {},
   "source": [
    "# Single slit diffraction\n",
    "$\\theta = \\dfrac{\\lambda}{a}$\n",
    "\n",
    "## Things to know\n",
    "* $\\theta = \\dfrac{n \\lambda}{a}$ where $n$ is the number of minimum you are looking at\n",
    "* Intensity of 1st minimum ~5% of central maximum\n",
    "\n",
    "\n",
    "            /|\\\n",
    "           / | \\\n",
    "    /|\\/|\\/  |  \\/|\\/|\\\n",
    "     2  1    𝜃   n=1  \n",
    "        \n",
    "    "
   ]
  },
  {
   "cell_type": "markdown",
   "metadata": {},
   "source": [
    "# Multiple-slit interference\n",
    "The pattern of the multiple-slit interference is *modulated* by the single-slit interference (envelope)."
   ]
  },
  {
   "cell_type": "markdown",
   "metadata": {},
   "source": [
    "$$n \\lambda = d \\sin\\theta$$"
   ]
  },
  {
   "cell_type": "markdown",
   "metadata": {},
   "source": [
    "## Thin film interference\n",
    "A phenomenon that causes iridescence.\n",
    "\n",
    "![light reflecting & refracting via a optically dense medium](https://cnx.org/resources/acb60b496551219d0108fbefad2689eaa58d5134/CNX_UPhysics_36_04_FilmInter.jpg)"
   ]
  },
  {
   "cell_type": "code",
   "execution_count": null,
   "metadata": {},
   "outputs": [],
   "source": []
  }
 ],
 "metadata": {
  "kernelspec": {
   "display_name": "Python 3",
   "language": "python",
   "name": "python3"
  },
  "language_info": {
   "codemirror_mode": {
    "name": "ipython",
    "version": 3
   },
   "file_extension": ".py",
   "mimetype": "text/x-python",
   "name": "python",
   "nbconvert_exporter": "python",
   "pygments_lexer": "ipython3",
   "version": "3.6.5"
  }
 },
 "nbformat": 4,
 "nbformat_minor": 2
}
