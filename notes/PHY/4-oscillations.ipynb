{
 "cells": [
  {
   "cell_type": "markdown",
   "metadata": {},
   "source": [
    "# Oscillations\n",
    "Two practicals"
   ]
  },
  {
   "cell_type": "markdown",
   "metadata": {},
   "source": [
    "## 1. Finding $g$ by using a pendulumn\n",
    "$\\begin{aligned}\n",
    "T = 2\\pi \\sqrt{\\frac{l}{g}}\n",
    "\\end{aligned}$\n",
    "\n",
    "- $T$: period in s\n",
    "- $l$: length in m\n",
    "- $g$ acceleration due to gravity: $m/s^2$\n",
    "\n",
    "Linearisation of the sqrt function (as $T \\propto \\sqrt{l})$:\n",
    "\n",
    "$\\begin{aligned}\n",
    "T^2 &= (2 \\pi)^2 \\frac{l}{g}\\\\\n",
    "\\underbrace{T^2}_{y} &= \\overbrace{\\frac{4 \\pi^2}{g}}^{m} \\underbrace{l}_{x}\n",
    "\\end{aligned}$\n",
    "\n",
    "### Method\n",
    "- 10 periods, 5 times\n",
    "- min. 5 lengths\n",
    "\n",
    "| String length / cm ± 0.05cm | "
   ]
  },
  {
   "cell_type": "markdown",
   "metadata": {},
   "source": [
    "Wave transports energy from 1 location to another.\n",
    "\n",
    "**Travelling waves:**\n",
    "```\n",
    "     Motion of waves -->\n",
    "\n",
    "          / \\   Longitudinal\n",
    "Transverse |      <---->\n",
    "          \\ /\n",
    "\n",
    "       oscillations\n",
    "```\n"
   ]
  },
  {
   "cell_type": "code",
   "execution_count": 1,
   "metadata": {},
   "outputs": [],
   "source": [
    "import matplotlib.pyplot as plt\n"
   ]
  },
  {
   "cell_type": "markdown",
   "metadata": {},
   "source": [
    "## Wave equation\n",
    "$\\begin{aligned}\n",
    "v &= \\lambda f = \\frac{\\lambda}{T}\\\\\n",
    "f &= \\frac{1}{T}\n",
    "\\end{aligned}$"
   ]
  },
  {
   "cell_type": "markdown",
   "metadata": {},
   "source": [
    "## Simple Harmonic Motion\n",
    "$\\underbrace{a}_{\\text{acceleration}} = -\\overbrace{k}^{\\text{proportionality factor}} \\underbrace{x}_{\\text{displacement}}$\n",
    "\n",
    "$\\omega = 2\\pi f = \\frac{2 \\pi}{T}$\n",
    "\n",
    "$\\begin{aligned}\n",
    "x(t) &= \\underbrace{A}_{\\text{Amplitude}} \\cos(\\underbrace{\\omega}_{\\text{angular frequency}} t + \\underbrace{\\varphi}_{\\text{phase shift}})\\\\\n",
    "v(t) &= -\\omega A \\sin(\\omega t + \\varphi)\\\\\n",
    "a(t) &= -\\omega^2 A \\cos(\\omega t + \\varphi)\\\\\n",
    "\\iff a(t) &= -\\underbrace{k}_{\\omega^2} x(t)\n",
    "\\end{aligned}$\n",
    "\n",
    "compression & rarefaction\n"
   ]
  },
  {
   "cell_type": "markdown",
   "metadata": {},
   "source": [
    "**Non-polarised** light: oscillation at all angles of axis of propogation\n",
    "\n",
    "**Polarised** light: only oscillates in one plane\n",
    "\n",
    "Polarised sources are: screens (phone, computer), reflected light.\n",
    " \n",
    "When totally polarised light is incident on an analyser, the intensity of light let through is $$I = I_0 \\cos^2 \\underbrace{\\theta}_{\\text{angle between polarised light and analyser}}.$$"
   ]
  },
  {
   "cell_type": "markdown",
   "metadata": {},
   "source": [
    "## Measuring speed of sound\n",
    "* oscilloscope \n",
    "* signal generator\n",
    "* ultrasound emitter - receiver\n",
    "\n",
    "1. Connect signal generator and oscilloscope. \n",
    "2. Set up emitter and receiver.\n",
    "3. Starting from 0cm (ignoring offset inside devices), measure phase change with cursors.\n",
    "4. Move receiver away by 5cm until 25cm.\n",
    "5. Record data, plot time against distance.\n",
    "6. Using $\\text{speed} = \\frac{\\text{distance}}{\\text{time}}$, we know $\\text{speed of sound} = \\frac{1}{\\text{gradient}}$ of graph."
   ]
  },
  {
   "cell_type": "code",
   "execution_count": null,
   "metadata": {},
   "outputs": [],
   "source": []
  }
 ],
 "metadata": {
  "kernelspec": {
   "display_name": "Python 3",
   "language": "python",
   "name": "python3"
  },
  "language_info": {
   "codemirror_mode": {
    "name": "ipython",
    "version": 3
   },
   "file_extension": ".py",
   "mimetype": "text/x-python",
   "name": "python",
   "nbconvert_exporter": "python",
   "pygments_lexer": "ipython3",
   "version": "3.6.5"
  }
 },
 "nbformat": 4,
 "nbformat_minor": 2
}
