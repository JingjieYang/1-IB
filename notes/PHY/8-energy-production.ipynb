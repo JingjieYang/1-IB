{
 "cells": [
  {
   "cell_type": "markdown",
   "metadata": {},
   "source": [
    "## Energy concentration\n",
    "$$q = m c \\Delta T$$\n",
    "**energy density**: $\\rm{J}/\\rm{m}^3$\n",
    "$$\\begin{aligned}\n",
    "E &= m \\times E_s = V \\times E_d\\\\\n",
    "E_s &= E_d \\times \\dfrac{V}{m}\\\\\n",
    "E_d &= E_s \\times \\dfrac{m}{V} = E_s \\times \\rho\n",
    "\\end{aligned}$$"
   ]
  },
  {
   "cell_type": "markdown",
   "metadata": {},
   "source": [
    "## Sankey diagram\n",
    "%efficiency; number of squares"
   ]
  },
  {
   "cell_type": "code",
   "execution_count": null,
   "metadata": {},
   "outputs": [],
   "source": []
  }
 ],
 "metadata": {
  "kernelspec": {
   "display_name": "Python 3",
   "language": "python",
   "name": "python3"
  },
  "language_info": {
   "codemirror_mode": {
    "name": "ipython",
    "version": 3
   },
   "file_extension": ".py",
   "mimetype": "text/x-python",
   "name": "python",
   "nbconvert_exporter": "python",
   "pygments_lexer": "ipython3",
   "version": "3.6.5"
  }
 },
 "nbformat": 4,
 "nbformat_minor": 2
}
