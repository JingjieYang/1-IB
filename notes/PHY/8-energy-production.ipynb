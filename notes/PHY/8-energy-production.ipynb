{
 "cells": [
  {
   "cell_type": "markdown",
   "metadata": {},
   "source": [
    "## Energy concentration\n",
    "$$q = m c \\Delta T$$\n",
    "**energy density**: $\\rm{J}/\\rm{m}^3$\n",
    "$$\\begin{aligned}\n",
    "E &= m \\times E_s = V \\times E_d\\\\\n",
    "E_s &= E_d \\times \\dfrac{V}{m}\\\\\n",
    "E_d &= E_s \\times \\dfrac{m}{V} = E_s \\times \\rho\n",
    "\\end{aligned}$$"
   ]
  },
  {
   "cell_type": "markdown",
   "metadata": {},
   "source": [
    "## Sankey diagram\n",
    "%efficiency; number of squares"
   ]
  },
  {
   "cell_type": "markdown",
   "metadata": {},
   "source": [
    "## Solar constant\n",
    "* not a physical constant, but a measurement that hasn't changed\n",
    "* measure of \"solar electromagnetic radiation\" (power) per area\n",
    "* 1.361 $\\mathrm{kW/m^2}$\n",
    "\n",
    "## A rough estimate\n",
    "Sun emits $4 \\times 10^26\\ \\mathrm{J/s}$, and is $150,000,000\\ \\mathrm{km}$ away from the Earth.\n",
    "\n",
    "$$\\dfrac{P}{S} = \\dfrac{10^{23}}{4 \\pi \\cdot (1.5 \\times 10^{11})^2} \\simeq 1.4\\ \\mathrm{kJ/m^2}$$\n",
    "\n",
    "This is about $$\\dfrac{\\pi \\cdot (6.4 \\times 10^6)^2}{4 \\pi \\cdot (1.5 \\times 10^{11})^2} \\simeq 5\\times10^{-8}\\%$$ of the sun's total output is incident on Earth."
   ]
  },
  {
   "cell_type": "markdown",
   "metadata": {},
   "source": [
    "## Greenhouse effect and temperature balance\n",
    "* natural ≠ enhanced greenhouse effect\n",
    "* ultraviolet and long-wavelength infra-red radiations are absorbed by the atmosphere (greenhouse molecules: methane, carbon dioxide, water vapour, ozone, etc.)\n",
    "* photons in the uv region of the electromagnetic spectrum are energetic and have enough energy to break the bonds with the gases\n",
    "* carbon dioxide has 3 vibrational modes, each with a characteristic frequency, causing infrared absorption\n",
    "\n",
    "$$\\begin{aligned}\n",
    "&\\dfrac{\\pi \\cdot r^2 \\times \\text{solar constant}}{4 \\pi \\cdot r^2} = 350\\ \\mathrm{W/m^2}\\\\\n",
    "&(1 - \\overbrace{0.3}^{\\text{albedo constant}}) \\times 350 = 245 W\\\\\n",
    "&\\underbrace{F}_\\text{energy flux} = \\overbrace{\\sigma}^{5.67 \\times 10^{-8}} {\\underbrace{T}_\\text{Temperature in K}}^4\\\\\n",
    "&T = 256\\ \\mathrm{K}\n",
    "\\end{aligned}$$"
   ]
  },
  {
   "cell_type": "code",
   "execution_count": null,
   "metadata": {},
   "outputs": [],
   "source": []
  }
 ],
 "metadata": {
  "kernelspec": {
   "display_name": "Python 3",
   "language": "python",
   "name": "python3"
  },
  "language_info": {
   "codemirror_mode": {
    "name": "ipython",
    "version": 3
   },
   "file_extension": ".py",
   "mimetype": "text/x-python",
   "name": "python",
   "nbconvert_exporter": "python",
   "pygments_lexer": "ipython3",
   "version": "3.6.5"
  }
 },
 "nbformat": 4,
 "nbformat_minor": 2
}
